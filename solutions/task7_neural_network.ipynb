{
  "nbformat": 4,
  "nbformat_minor": 0,
  "metadata": {
    "colab": {
      "provenance": [],
      "gpuType": "T4"
    },
    "kernelspec": {
      "name": "python3",
      "display_name": "Python 3"
    },
    "language_info": {
      "name": "python"
    },
    "accelerator": "GPU"
  },
  "cells": [
    {
      "cell_type": "markdown",
      "source": [
        "## Инициализация"
      ],
      "metadata": {
        "id": "IisljqNTLxdI"
      }
    },
    {
      "cell_type": "code",
      "execution_count": 2,
      "metadata": {
        "id": "vsPqCnFxOeGq"
      },
      "outputs": [],
      "source": [
        "import numpy as np\n",
        "import random\n",
        "import torch\n",
        "import pandas as pd\n",
        "import matplotlib.pyplot as plt"
      ]
    },
    {
      "cell_type": "code",
      "source": [
        "SEED = 777\n",
        "\n",
        "random.seed(SEED)\n",
        "np.random.seed(SEED)\n",
        "torch.manual_seed(SEED)\n",
        "\n",
        "device = \"cpu\"\n",
        "if torch.cuda.is_available():\n",
        "    device = \"cuda\"\n",
        "    torch.cuda.manual_seed(SEED)\n",
        "    torch.cuda.manual_seed_all(SEED)\n",
        "    torch.backends.cudnn.deterministic = True\n",
        "    torch.backends.cudnn.benchmark = True\n",
        "\n",
        "device"
      ],
      "metadata": {
        "colab": {
          "base_uri": "https://localhost:8080/",
          "height": 0
        },
        "id": "LhJZRTeOQAVf",
        "outputId": "d2616a2a-684d-4f4e-fe35-7c0d94f1e9df"
      },
      "execution_count": 3,
      "outputs": [
        {
          "output_type": "execute_result",
          "data": {
            "text/plain": [
              "'cuda'"
            ],
            "application/vnd.google.colaboratory.intrinsic+json": {
              "type": "string"
            }
          },
          "metadata": {},
          "execution_count": 3
        }
      ]
    },
    {
      "cell_type": "markdown",
      "source": [
        "## Dataset"
      ],
      "metadata": {
        "id": "ZZ4JI9wXQYSu"
      }
    },
    {
      "cell_type": "code",
      "source": [
        "!wget -c http://ufldl.stanford.edu/housenumbers/train_32x32.mat http://ufldl.stanford.edu/housenumbers/test_32x32.mat"
      ],
      "metadata": {
        "colab": {
          "base_uri": "https://localhost:8080/"
        },
        "collapsed": true,
        "id": "xzFtEx9iU8Rf",
        "outputId": "7b888e33-ccc0-42f7-af22-ef2aa64a8447"
      },
      "execution_count": 4,
      "outputs": [
        {
          "output_type": "stream",
          "name": "stdout",
          "text": [
            "--2024-05-31 17:49:40--  http://ufldl.stanford.edu/housenumbers/train_32x32.mat\n",
            "Resolving ufldl.stanford.edu (ufldl.stanford.edu)... 171.64.68.10\n",
            "Connecting to ufldl.stanford.edu (ufldl.stanford.edu)|171.64.68.10|:80... connected.\n",
            "HTTP request sent, awaiting response... 200 OK\n",
            "Length: 182040794 (174M) [text/plain]\n",
            "Saving to: ‘train_32x32.mat’\n",
            "\n",
            "train_32x32.mat     100%[===================>] 173.61M  9.31MB/s    in 15s     \n",
            "\n",
            "2024-05-31 17:49:55 (11.4 MB/s) - ‘train_32x32.mat’ saved [182040794/182040794]\n",
            "\n",
            "--2024-05-31 17:49:55--  http://ufldl.stanford.edu/housenumbers/test_32x32.mat\n",
            "Reusing existing connection to ufldl.stanford.edu:80.\n",
            "HTTP request sent, awaiting response... 200 OK\n",
            "Length: 64275384 (61M) [text/plain]\n",
            "Saving to: ‘test_32x32.mat’\n",
            "\n",
            "test_32x32.mat      100%[===================>]  61.30M  9.02MB/s    in 6.4s    \n",
            "\n",
            "2024-05-31 17:50:02 (9.52 MB/s) - ‘test_32x32.mat’ saved [64275384/64275384]\n",
            "\n",
            "FINISHED --2024-05-31 17:50:02--\n",
            "Total wall clock time: 22s\n",
            "Downloaded: 2 files, 235M in 22s (10.8 MB/s)\n"
          ]
        }
      ]
    },
    {
      "cell_type": "code",
      "source": [
        "import scipy.io\n",
        "from sklearn.model_selection import train_test_split\n",
        "\n",
        "train_data = scipy.io.loadmat('./train_32x32.mat')\n",
        "test_data = scipy.io.loadmat('./test_32x32.mat')\n",
        "\n",
        "X_train, y_train, X_test, y_test = train_data['X'], train_data['y'], test_data['X'], test_data['y']\n",
        "X_train, y_train, X_test, y_test = np.moveaxis(X_train, -1, 0), y_train.flatten(), np.moveaxis(X_test, -1, 0), y_test.flatten()\n",
        "y_train[y_train == 10], y_test[y_test == 10] = 0, 0\n",
        "X_train, X_val, y_train, y_val = train_test_split(X_train, y_train, test_size=0.2, random_state=SEED)\n",
        "\n",
        "print(f'Train data shape: {X_train.shape}')\n",
        "print(f'Validation data shape: {X_val.shape}')\n",
        "print(f'Test data shape: {X_test.shape}')"
      ],
      "metadata": {
        "id": "aCc3XMmgRC9c",
        "colab": {
          "base_uri": "https://localhost:8080/"
        },
        "outputId": "2259e1ba-0a83-4519-8be6-4c985bc64610"
      },
      "execution_count": 5,
      "outputs": [
        {
          "output_type": "stream",
          "name": "stdout",
          "text": [
            "Train data shape: (58605, 32, 32, 3)\n",
            "Validation data shape: (14652, 32, 32, 3)\n",
            "Test data shape: (26032, 32, 32, 3)\n"
          ]
        }
      ]
    },
    {
      "cell_type": "code",
      "source": [
        "import albumentations\n",
        "from albumentations.pytorch import ToTensorV2\n",
        "\n",
        "IMAGE_HEIGHT = 32\n",
        "IMAGE_WIDTH = 32\n",
        "\n",
        "transform = albumentations.Compose(\n",
        "    [\n",
        "        albumentations.Normalize(\n",
        "            mean=[0.0, 0.0, 0.0],\n",
        "            std=[1.0, 1.0, 1.0],\n",
        "            max_pixel_value=255.0,\n",
        "        ),\n",
        "        ToTensorV2(),\n",
        "    ],\n",
        ")"
      ],
      "metadata": {
        "id": "iyReROm-T6z9"
      },
      "execution_count": 6,
      "outputs": []
    },
    {
      "cell_type": "code",
      "source": [
        "from torch.utils.data import Dataset, DataLoader\n",
        "\n",
        "\n",
        "class SVHNDataset(Dataset):\n",
        "    def __init__(self, images, classes, transform=None):\n",
        "        self.transform = transform\n",
        "        self.images = images\n",
        "        self.classes = classes\n",
        "\n",
        "    def __len__(self):\n",
        "        return len(self.images)\n",
        "\n",
        "    def __getitem__(self, idx):\n",
        "        image = np.array(self.images[idx])\n",
        "\n",
        "        if self.transform is not None:\n",
        "            augmented = self.transform(image=image)\n",
        "            image = augmented['image']\n",
        "\n",
        "        return image, self.classes[idx]\n",
        "\n",
        "\n",
        "def get_loader(images, classes, transform, batch_size):\n",
        "    dataset = SVHNDataset(images=images, classes=classes, transform=transform)\n",
        "    return DataLoader(dataset, batch_size=batch_size, num_workers=2, pin_memory=True, shuffle=True)"
      ],
      "metadata": {
        "id": "N_TH2v7KXZ7x"
      },
      "execution_count": 7,
      "outputs": []
    },
    {
      "cell_type": "code",
      "source": [
        "batch_size = 8\n",
        "\n",
        "train_data_loader = get_loader(X_train, y_train, transform, batch_size)\n",
        "val_data_loader = get_loader(X_val, y_val, transform, batch_size)\n",
        "test_data_loader = get_loader(X_test, y_test, transform, batch_size)"
      ],
      "metadata": {
        "id": "nONWCAFbUgsg"
      },
      "execution_count": 8,
      "outputs": []
    },
    {
      "cell_type": "markdown",
      "source": [
        "## Custom layers"
      ],
      "metadata": {
        "id": "WYDEhTXHZ4iV"
      }
    },
    {
      "cell_type": "code",
      "source": [
        "import math\n",
        "\n",
        "class FullyConnectedLayer(torch.nn.Module):\n",
        "    def __init__(self, _input, _output, bias=True):\n",
        "        super().__init__()\n",
        "        self.in_features = _input\n",
        "        self.out_features = _input\n",
        "\n",
        "        self.weight = torch.nn.Parameter(torch.Tensor(_output, _input))\n",
        "        self.bias = bias\n",
        "        if bias:\n",
        "            self.bias = torch.nn.Parameter(torch.Tensor(_output))\n",
        "        else:\n",
        "            self.register_parameter('bias', None)\n",
        "\n",
        "        torch.nn.init.kaiming_uniform_(self.weight, a=math.sqrt(5))\n",
        "        if self.bias is not None:\n",
        "            fan_in, _ = torch.nn.init._calculate_fan_in_and_fan_out(self.weight)\n",
        "            bound = 1 / math.sqrt(fan_in)\n",
        "            torch.nn.init.uniform_(self.bias, -bound, bound)\n",
        "\n",
        "    def forward(self, input):\n",
        "        output = input.matmul(self.weight.t())\n",
        "        if self.bias is not None:\n",
        "            output += self.bias\n",
        "\n",
        "        return output"
      ],
      "metadata": {
        "id": "vI-IaBpYZ7MA"
      },
      "execution_count": 9,
      "outputs": []
    },
    {
      "cell_type": "code",
      "source": [
        "class ReLULayer(torch.nn.Module):\n",
        "    def __init__(self):\n",
        "        super(ReLULayer, self).__init__()\n",
        "\n",
        "    def forward(self, x):\n",
        "        return torch.max(torch.zeros_like(x), x)"
      ],
      "metadata": {
        "id": "V9lVbJdJaEhH"
      },
      "execution_count": 10,
      "outputs": []
    },
    {
      "cell_type": "code",
      "source": [
        "from collections import OrderedDict\n",
        "\n",
        "\n",
        "class CustomNN(torch.nn.Module):\n",
        "    def __init__(self, _input_size, hidden_size, _output_size, bn=False):\n",
        "        super(CustomNN, self).__init__()\n",
        "        self.model = torch.nn.Sequential(OrderedDict([\n",
        "            ('fc1', FullyConnectedLayer(_input_size, hidden_size)),\n",
        "            ('relu', ReLULayer()),\n",
        "            ('fc2', FullyConnectedLayer(hidden_size, _output_size))\n",
        "        ]))\n",
        "\n",
        "\n",
        "    def forward(self, x):\n",
        "        return self.model(x)"
      ],
      "metadata": {
        "id": "R1E-5fUUbpOu"
      },
      "execution_count": 11,
      "outputs": []
    },
    {
      "cell_type": "markdown",
      "source": [
        "## Основные функции для обучения"
      ],
      "metadata": {
        "id": "-xGidkS1clvl"
      }
    },
    {
      "cell_type": "code",
      "source": [
        "def check_gradients(nn_model, input_data, labels, loss_fn, eps=1e-5, num_params_to_check=10):\n",
        "    input_data = input_data.view(-1, IMAGE_HEIGHT * IMAGE_WIDTH * 3).to(device)\n",
        "    labels = labels.to(device)\n",
        "    nn_model.zero_grad()\n",
        "    loss = loss_fn(nn_model(input_data), labels)\n",
        "    loss.backward()\n",
        "\n",
        "    params = list(nn_model.named_parameters())\n",
        "    total_params = sum(p[1].nelement() for p in params if p[1].requires_grad)\n",
        "    num_params_to_check = min(num_params_to_check, total_params)\n",
        "    random_indices = torch.randperm(total_params)[:num_params_to_check]\n",
        "\n",
        "    for name, param in params:\n",
        "        if param.requires_grad:\n",
        "            print(f\"Validating gradient for: {name}\")\n",
        "\n",
        "            grad = param.grad\n",
        "            flat_param = param.data.view(-1)\n",
        "            flat_grad = grad.view(-1)\n",
        "\n",
        "            for index in random_indices:\n",
        "                if index >= flat_param.size(0):\n",
        "                    continue\n",
        "\n",
        "                flat_param[index] += eps\n",
        "                loss_increased = loss_fn(nn_model(input_data), labels)\n",
        "                flat_param[index] -= 2 * eps\n",
        "                loss_decreased = loss_fn(nn_model(input_data), labels)\n",
        "                flat_param[index] += eps\n",
        "\n",
        "                estimated_grad = (loss_increased - loss_decreased) / (2 * eps)\n",
        "                grad_diff = torch.abs(estimated_grad - flat_grad[index]).item()\n",
        "                if grad_diff > eps:\n",
        "                    print(f'Gradient check failed for {name} at index {index}')\n",
        "                    return False\n",
        "\n",
        "    print('Gradient check passed successfully!')\n",
        "    return True"
      ],
      "metadata": {
        "id": "o3im6zJcclSJ"
      },
      "execution_count": 12,
      "outputs": []
    },
    {
      "cell_type": "code",
      "source": [
        "def train(nn_model, train_loader, val_loader, opt, epochs, lr, decay, results_df):\n",
        "    loss_fn = torch.nn.CrossEntropyLoss().to(device)\n",
        "    opt = opt(nn_model.parameters(), lr=lr, weight_decay=decay)\n",
        "\n",
        "    train_losses = []\n",
        "    val_losses = []\n",
        "    max_accuracy = 0\n",
        "\n",
        "    for epoch in range(epochs):\n",
        "        nn_model.train()\n",
        "        total_loss, correct, total = 0, 0, 0\n",
        "\n",
        "        for images, labels in tqdm(train_loader):\n",
        "            images = images.view(-1, IMAGE_HEIGHT * IMAGE_WIDTH * 3).to(device)\n",
        "            labels = labels.to(device)\n",
        "\n",
        "            opt.zero_grad()\n",
        "            out = nn_model(images)\n",
        "            loss = loss_fn(out, labels)\n",
        "            loss.backward()\n",
        "            opt.step()\n",
        "\n",
        "            total_loss += loss.item()\n",
        "            _, preds = torch.max(out, 1)\n",
        "            correct += torch.sum(preds == labels).item()\n",
        "            total += labels.size(0)\n",
        "\n",
        "        avg_train_loss = total_loss / len(train_loader)\n",
        "        train_losses.append(avg_train_loss)\n",
        "        train_acc = correct / total\n",
        "\n",
        "        val_loss, val_correct, val_total = evaluate_model(nn_model, val_loader, loss_fn)\n",
        "        avg_val_loss = val_loss / len(val_loader)\n",
        "        val_losses.append(avg_val_loss)\n",
        "        val_acc = val_correct / val_total\n",
        "\n",
        "        max_accuracy = max(max_accuracy, val_acc)\n",
        "\n",
        "        print_epoch_stats(epoch + 1, epochs, avg_train_loss, train_acc, avg_val_loss, val_acc)\n",
        "\n",
        "        check_gradients(nn_model, *next(iter(train_loader)), loss_fn)\n",
        "\n",
        "    return train_losses, val_losses, update_results(results_df, opt, lr, decay, max_accuracy)\n",
        "\n",
        "def evaluate_model(model, data_loader, loss_fn=None):\n",
        "    model.eval()\n",
        "    loss, correct, total = 0, 0, 0\n",
        "\n",
        "    with torch.no_grad():\n",
        "        for images, labels in tqdm(data_loader):\n",
        "            images, labels = images.view(-1, IMAGE_HEIGHT * IMAGE_WIDTH * 3).to(device), labels.to(device)\n",
        "            outputs = model(images)\n",
        "            if loss_fn is not None:\n",
        "                loss += loss_fn(outputs, labels).item()\n",
        "            _, predicted = torch.max(outputs.data, 1)\n",
        "            correct += (predicted == labels).sum().item()\n",
        "            total += labels.size(0)\n",
        "\n",
        "    return loss, correct, total\n",
        "\n",
        "def print_epoch_stats(epoch, total_epochs, train_loss, train_acc, val_loss, val_acc):\n",
        "    print(f'\\nEpoch [{epoch}/{total_epochs}], Train Loss: {train_loss:.4f}, Train Acc: {train_acc * 100:.2f}%, Val Loss: {val_loss:.4f}, Val Acc: {val_acc * 100:.2f}%')\n",
        "\n",
        "def update_results(df, optimizer, learning_rate, weight_decay, best_accuracy):\n",
        "    new_data = {\n",
        "        \"optimizer\": [str(optimizer).split('(')[0].strip()],\n",
        "        \"learning_rate\": [learning_rate],\n",
        "        \"weight_decay\": [weight_decay],\n",
        "        \"val_accuracy\": [best_accuracy]\n",
        "    }\n",
        "    return pd.concat([df, pd.DataFrame(new_data)])\n"
      ],
      "metadata": {
        "id": "xXhCYjehljci"
      },
      "execution_count": 13,
      "outputs": []
    },
    {
      "cell_type": "code",
      "source": [
        "from tqdm import tqdm\n",
        "import torch.optim as optim\n",
        "\n",
        "\n",
        "def train_grid_search(results, num_epochs, learning_rates, weight_decays):\n",
        "    optimizer = optim.RMSprop\n",
        "\n",
        "    for lr in learning_rates:\n",
        "        for wd in weight_decays:\n",
        "            model = CustomNN(_input_size=IMAGE_HEIGHT*IMAGE_WIDTH*3, hidden_size=256, _output_size=10).to(device)\n",
        "\n",
        "            print(f\"Training with {lr=}, {wd=}, {optimizer=}\")\n",
        "            train_losses, val_losses, results = train(model, train_data_loader, val_data_loader, optimizer, num_epochs, lr, wd, results)\n",
        "\n",
        "            _, correct, total = evaluate_model(model, test_data_loader)\n",
        "            accuracy = correct / total\n",
        "            print(f\"Test Accuracy with learning rate {lr} and weight_decay {wd}: {100 * accuracy:.2f}%\")\n",
        "\n",
        "            plt.plot(range(num_epochs), train_losses, label='Train Loss')\n",
        "            plt.plot(range(num_epochs), val_losses, label='Val Loss')\n",
        "            plt.xlabel('Epochs')\n",
        "            plt.ylabel('Loss')\n",
        "            plt.title(f'Train/Val Losses')\n",
        "            plt.legend()\n",
        "            plt.show()\n",
        "\n",
        "    return results"
      ],
      "metadata": {
        "id": "-PwqX2KZrWSL"
      },
      "execution_count": 14,
      "outputs": []
    },
    {
      "cell_type": "markdown",
      "source": [
        "## Обучение"
      ],
      "metadata": {
        "id": "dNu7dOqOK7TQ"
      }
    },
    {
      "cell_type": "markdown",
      "source": [
        "Обучим нейронную сеть с подбором параметров на 10 эпохах"
      ],
      "metadata": {
        "id": "KIr_mxaR3ctq"
      }
    },
    {
      "cell_type": "code",
      "source": [
        "results = pd.DataFrame(columns=['optimizer', 'learning_rate', 'weight_decay', 'val_accuracy'])"
      ],
      "metadata": {
        "id": "caQpCUmutejl"
      },
      "execution_count": 19,
      "outputs": []
    },
    {
      "cell_type": "code",
      "source": [
        "train_grid_search(results, 10, [0.01, 0.001, 0.0001], [0.01, 0.001, 0.0001])"
      ],
      "metadata": {
        "colab": {
          "base_uri": "https://localhost:8080/",
          "height": 1000
        },
        "id": "M5UemKkeK9vf",
        "outputId": "d35e1494-bb2a-41e1-a5dd-465ce6660f9d"
      },
      "execution_count": 20,
      "outputs": [
        {
          "metadata": {
            "tags": null
          },
          "name": "stdout",
          "output_type": "stream",
          "text": [
            "Training with lr=0.01, wd=0.01, optimizer=<class 'torch.optim.rmsprop.RMSprop'>\n"
          ]
        },
        {
          "metadata": {
            "tags": null
          },
          "name": "stderr",
          "output_type": "stream",
          "text": [
            "100%|██████████| 7326/7326 [00:34<00:00, 212.91it/s]\n",
            "100%|██████████| 1832/1832 [00:07<00:00, 248.26it/s]"
          ]
        },
        {
          "metadata": {
            "tags": null
          },
          "name": "stdout",
          "output_type": "stream",
          "text": [
            "\n",
            "Epoch [1/10], Train Loss: 2.8124, Train Acc: 18.83%, Val Loss: 2.2398, Val Acc: 18.95%\n"
          ]
        },
        {
          "metadata": {
            "tags": null
          },
          "name": "stderr",
          "output_type": "stream",
          "text": [
            "\n"
          ]
        },
        {
          "metadata": {
            "tags": null
          },
          "name": "stdout",
          "output_type": "stream",
          "text": [
            "Validating gradient for: model.fc1.weight\n",
            "Validating gradient for: model.fc1.bias\n",
            "Validating gradient for: model.fc2.weight\n",
            "Validating gradient for: model.fc2.bias\n",
            "Gradient check passed successfully!\n"
          ]
        },
        {
          "metadata": {
            "tags": null
          },
          "name": "stderr",
          "output_type": "stream",
          "text": [
            "100%|██████████| 7326/7326 [00:33<00:00, 217.66it/s]\n",
            "100%|██████████| 1832/1832 [00:05<00:00, 338.12it/s]"
          ]
        },
        {
          "metadata": {
            "tags": null
          },
          "name": "stdout",
          "output_type": "stream",
          "text": [
            "\n",
            "Epoch [2/10], Train Loss: 2.2385, Train Acc: 18.87%, Val Loss: 2.2415, Val Acc: 18.95%\n"
          ]
        },
        {
          "metadata": {
            "tags": null
          },
          "name": "stderr",
          "output_type": "stream",
          "text": [
            "\n"
          ]
        },
        {
          "metadata": {
            "tags": null
          },
          "name": "stdout",
          "output_type": "stream",
          "text": [
            "Validating gradient for: model.fc1.weight\n",
            "Validating gradient for: model.fc1.bias\n",
            "Validating gradient for: model.fc2.weight\n",
            "Validating gradient for: model.fc2.bias\n",
            "Gradient check passed successfully!\n"
          ]
        },
        {
          "metadata": {
            "tags": null
          },
          "name": "stderr",
          "output_type": "stream",
          "text": [
            "100%|██████████| 7326/7326 [00:35<00:00, 206.53it/s]\n",
            "100%|██████████| 1832/1832 [00:06<00:00, 304.17it/s]"
          ]
        },
        {
          "metadata": {
            "tags": null
          },
          "name": "stdout",
          "output_type": "stream",
          "text": [
            "\n",
            "Epoch [3/10], Train Loss: 2.2388, Train Acc: 18.89%, Val Loss: 2.2400, Val Acc: 18.95%\n"
          ]
        },
        {
          "metadata": {
            "tags": null
          },
          "name": "stderr",
          "output_type": "stream",
          "text": [
            "\n"
          ]
        },
        {
          "metadata": {
            "tags": null
          },
          "name": "stdout",
          "output_type": "stream",
          "text": [
            "Validating gradient for: model.fc1.weight\n",
            "Validating gradient for: model.fc1.bias\n",
            "Validating gradient for: model.fc2.weight\n",
            "Validating gradient for: model.fc2.bias\n",
            "Gradient check passed successfully!\n"
          ]
        },
        {
          "metadata": {
            "tags": null
          },
          "name": "stderr",
          "output_type": "stream",
          "text": [
            "100%|██████████| 7326/7326 [00:35<00:00, 207.91it/s]\n",
            "100%|██████████| 1832/1832 [00:07<00:00, 247.26it/s]"
          ]
        },
        {
          "metadata": {
            "tags": null
          },
          "name": "stdout",
          "output_type": "stream",
          "text": [
            "\n",
            "Epoch [4/10], Train Loss: 2.2387, Train Acc: 18.88%, Val Loss: 2.2386, Val Acc: 18.95%\n"
          ]
        },
        {
          "metadata": {
            "tags": null
          },
          "name": "stderr",
          "output_type": "stream",
          "text": [
            "\n"
          ]
        },
        {
          "metadata": {
            "tags": null
          },
          "name": "stdout",
          "output_type": "stream",
          "text": [
            "Validating gradient for: model.fc1.weight\n",
            "Validating gradient for: model.fc1.bias\n",
            "Validating gradient for: model.fc2.weight\n",
            "Validating gradient for: model.fc2.bias\n",
            "Gradient check passed successfully!\n"
          ]
        },
        {
          "metadata": {
            "tags": null
          },
          "name": "stderr",
          "output_type": "stream",
          "text": [
            "100%|██████████| 7326/7326 [00:35<00:00, 206.60it/s]\n",
            "100%|██████████| 1832/1832 [00:07<00:00, 240.69it/s]"
          ]
        },
        {
          "metadata": {
            "tags": null
          },
          "name": "stdout",
          "output_type": "stream",
          "text": [
            "\n",
            "Epoch [5/10], Train Loss: 2.2387, Train Acc: 18.89%, Val Loss: 2.2474, Val Acc: 18.95%\n"
          ]
        },
        {
          "metadata": {
            "tags": null
          },
          "name": "stderr",
          "output_type": "stream",
          "text": [
            "\n"
          ]
        },
        {
          "metadata": {
            "tags": null
          },
          "name": "stdout",
          "output_type": "stream",
          "text": [
            "Validating gradient for: model.fc1.weight\n",
            "Validating gradient for: model.fc1.bias\n",
            "Validating gradient for: model.fc2.weight\n",
            "Validating gradient for: model.fc2.bias\n",
            "Gradient check passed successfully!\n"
          ]
        },
        {
          "metadata": {
            "tags": null
          },
          "name": "stderr",
          "output_type": "stream",
          "text": [
            "100%|██████████| 7326/7326 [00:34<00:00, 211.73it/s]\n",
            "100%|██████████| 1832/1832 [00:07<00:00, 249.98it/s]"
          ]
        },
        {
          "metadata": {
            "tags": null
          },
          "name": "stdout",
          "output_type": "stream",
          "text": [
            "\n",
            "Epoch [6/10], Train Loss: 2.2391, Train Acc: 18.89%, Val Loss: 2.2404, Val Acc: 18.95%\n"
          ]
        },
        {
          "metadata": {
            "tags": null
          },
          "name": "stderr",
          "output_type": "stream",
          "text": [
            "\n"
          ]
        },
        {
          "metadata": {
            "tags": null
          },
          "name": "stdout",
          "output_type": "stream",
          "text": [
            "Validating gradient for: model.fc1.weight\n",
            "Validating gradient for: model.fc1.bias\n",
            "Validating gradient for: model.fc2.weight\n",
            "Validating gradient for: model.fc2.bias\n",
            "Gradient check passed successfully!\n"
          ]
        },
        {
          "metadata": {
            "tags": null
          },
          "name": "stderr",
          "output_type": "stream",
          "text": [
            "100%|██████████| 7326/7326 [00:34<00:00, 212.06it/s]\n",
            "100%|██████████| 1832/1832 [00:05<00:00, 333.63it/s]"
          ]
        },
        {
          "metadata": {
            "tags": null
          },
          "name": "stdout",
          "output_type": "stream",
          "text": [
            "\n",
            "Epoch [7/10], Train Loss: 2.2390, Train Acc: 18.90%, Val Loss: 2.2401, Val Acc: 18.95%\n"
          ]
        },
        {
          "metadata": {
            "tags": null
          },
          "name": "stderr",
          "output_type": "stream",
          "text": [
            "\n"
          ]
        },
        {
          "metadata": {
            "tags": null
          },
          "name": "stdout",
          "output_type": "stream",
          "text": [
            "Validating gradient for: model.fc1.weight\n",
            "Validating gradient for: model.fc1.bias\n",
            "Validating gradient for: model.fc2.weight\n",
            "Validating gradient for: model.fc2.bias\n",
            "Gradient check passed successfully!\n"
          ]
        },
        {
          "metadata": {
            "tags": null
          },
          "name": "stderr",
          "output_type": "stream",
          "text": [
            "100%|██████████| 7326/7326 [00:35<00:00, 203.59it/s]\n",
            "100%|██████████| 1832/1832 [00:05<00:00, 325.01it/s]"
          ]
        },
        {
          "metadata": {
            "tags": null
          },
          "name": "stdout",
          "output_type": "stream",
          "text": [
            "\n",
            "Epoch [8/10], Train Loss: 2.2389, Train Acc: 18.89%, Val Loss: 2.2410, Val Acc: 18.95%\n"
          ]
        },
        {
          "metadata": {
            "tags": null
          },
          "name": "stderr",
          "output_type": "stream",
          "text": [
            "\n"
          ]
        },
        {
          "metadata": {
            "tags": null
          },
          "name": "stdout",
          "output_type": "stream",
          "text": [
            "Validating gradient for: model.fc1.weight\n",
            "Validating gradient for: model.fc1.bias\n",
            "Validating gradient for: model.fc2.weight\n",
            "Validating gradient for: model.fc2.bias\n",
            "Gradient check passed successfully!\n"
          ]
        },
        {
          "metadata": {
            "tags": null
          },
          "name": "stderr",
          "output_type": "stream",
          "text": [
            "100%|██████████| 7326/7326 [00:33<00:00, 217.53it/s]\n",
            "100%|██████████| 1832/1832 [00:07<00:00, 249.14it/s]"
          ]
        },
        {
          "metadata": {
            "tags": null
          },
          "name": "stdout",
          "output_type": "stream",
          "text": [
            "\n",
            "Epoch [9/10], Train Loss: 2.2390, Train Acc: 18.89%, Val Loss: 2.2409, Val Acc: 18.95%\n"
          ]
        },
        {
          "metadata": {
            "tags": null
          },
          "name": "stderr",
          "output_type": "stream",
          "text": [
            "\n"
          ]
        },
        {
          "metadata": {
            "tags": null
          },
          "name": "stdout",
          "output_type": "stream",
          "text": [
            "Validating gradient for: model.fc1.weight\n",
            "Validating gradient for: model.fc1.bias\n",
            "Validating gradient for: model.fc2.weight\n",
            "Validating gradient for: model.fc2.bias\n",
            "Gradient check passed successfully!\n"
          ]
        },
        {
          "metadata": {
            "tags": null
          },
          "name": "stderr",
          "output_type": "stream",
          "text": [
            "100%|██████████| 7326/7326 [00:33<00:00, 216.09it/s]\n",
            "100%|██████████| 1832/1832 [00:06<00:00, 303.20it/s]"
          ]
        },
        {
          "metadata": {
            "tags": null
          },
          "name": "stdout",
          "output_type": "stream",
          "text": [
            "\n",
            "Epoch [10/10], Train Loss: 2.2388, Train Acc: 18.89%, Val Loss: 2.2431, Val Acc: 18.95%\n"
          ]
        },
        {
          "metadata": {
            "tags": null
          },
          "name": "stderr",
          "output_type": "stream",
          "text": [
            "\n"
          ]
        },
        {
          "metadata": {
            "tags": null
          },
          "name": "stdout",
          "output_type": "stream",
          "text": [
            "Validating gradient for: model.fc1.weight\n",
            "Validating gradient for: model.fc1.bias\n",
            "Validating gradient for: model.fc2.weight\n",
            "Validating gradient for: model.fc2.bias\n",
            "Gradient check passed successfully!\n"
          ]
        },
        {
          "metadata": {
            "tags": null
          },
          "name": "stderr",
          "output_type": "stream",
          "text": [
            "100%|██████████| 3254/3254 [00:10<00:00, 318.69it/s]\n"
          ]
        },
        {
          "metadata": {
            "tags": null
          },
          "name": "stdout",
          "output_type": "stream",
          "text": [
            "Test Accuracy with learning rate 0.01 and weight_decay 0.01: 19.59%\n"
          ]
        },
        {
          "data": {
            "image/png": "[encoded data removed]",
            "text/plain": [
              "<Figure size 640x480 with 1 Axes>"
            ]
          },
          "metadata": {},
          "output_type": "display_data"
        },
        {
          "metadata": {
            "tags": null
          },
          "name": "stdout",
          "output_type": "stream",
          "text": [
            "Training with lr=0.01, wd=0.001, optimizer=<class 'torch.optim.rmsprop.RMSprop'>\n"
          ]
        },
        {
          "metadata": {
            "tags": null
          },
          "name": "stderr",
          "output_type": "stream",
          "text": [
            "100%|██████████| 7326/7326 [00:34<00:00, 211.50it/s]\n",
            "100%|██████████| 1832/1832 [00:06<00:00, 272.97it/s]"
          ]
        },
        {
          "metadata": {
            "tags": null
          },
          "name": "stdout",
          "output_type": "stream",
          "text": [
            "\n",
            "Epoch [1/10], Train Loss: 2.7740, Train Acc: 18.84%, Val Loss: 2.2417, Val Acc: 18.95%\n"
          ]
        },
        {
          "metadata": {
            "tags": null
          },
          "name": "stderr",
          "output_type": "stream",
          "text": [
            "\n"
          ]
        },
        {
          "metadata": {
            "tags": null
          },
          "name": "stdout",
          "output_type": "stream",
          "text": [
            "Validating gradient for: model.fc1.weight\n",
            "Validating gradient for: model.fc1.bias\n",
            "Validating gradient for: model.fc2.weight\n",
            "Validating gradient for: model.fc2.bias\n",
            "Gradient check passed successfully!\n"
          ]
        },
        {
          "metadata": {
            "tags": null
          },
          "name": "stderr",
          "output_type": "stream",
          "text": [
            "100%|██████████| 7326/7326 [00:34<00:00, 214.75it/s]\n",
            "100%|██████████| 1832/1832 [00:07<00:00, 251.00it/s]"
          ]
        },
        {
          "metadata": {
            "tags": null
          },
          "name": "stdout",
          "output_type": "stream",
          "text": [
            "\n",
            "Epoch [2/10], Train Loss: 2.2386, Train Acc: 18.91%, Val Loss: 2.2389, Val Acc: 18.95%\n"
          ]
        },
        {
          "metadata": {
            "tags": null
          },
          "name": "stderr",
          "output_type": "stream",
          "text": [
            "\n"
          ]
        },
        {
          "metadata": {
            "tags": null
          },
          "name": "stdout",
          "output_type": "stream",
          "text": [
            "Validating gradient for: model.fc1.weight\n",
            "Validating gradient for: model.fc1.bias\n",
            "Validating gradient for: model.fc2.weight\n",
            "Validating gradient for: model.fc2.bias\n",
            "Gradient check passed successfully!\n"
          ]
        },
        {
          "metadata": {
            "tags": null
          },
          "name": "stderr",
          "output_type": "stream",
          "text": [
            "100%|██████████| 7326/7326 [00:33<00:00, 217.67it/s]\n",
            "100%|██████████| 1832/1832 [00:05<00:00, 327.71it/s]"
          ]
        },
        {
          "metadata": {
            "tags": null
          },
          "name": "stdout",
          "output_type": "stream",
          "text": [
            "\n",
            "Epoch [3/10], Train Loss: 2.2386, Train Acc: 18.91%, Val Loss: 2.2406, Val Acc: 18.95%\n"
          ]
        },
        {
          "metadata": {
            "tags": null
          },
          "name": "stderr",
          "output_type": "stream",
          "text": [
            "\n"
          ]
        },
        {
          "metadata": {
            "tags": null
          },
          "name": "stdout",
          "output_type": "stream",
          "text": [
            "Validating gradient for: model.fc1.weight\n",
            "Validating gradient for: model.fc1.bias\n",
            "Validating gradient for: model.fc2.weight\n",
            "Validating gradient for: model.fc2.bias\n",
            "Gradient check passed successfully!\n"
          ]
        },
        {
          "metadata": {
            "tags": null
          },
          "name": "stderr",
          "output_type": "stream",
          "text": [
            "100%|██████████| 7326/7326 [00:34<00:00, 211.24it/s]\n",
            "100%|██████████| 1832/1832 [00:05<00:00, 347.20it/s]"
          ]
        },
        {
          "metadata": {
            "tags": null
          },
          "name": "stdout",
          "output_type": "stream",
          "text": [
            "\n",
            "Epoch [4/10], Train Loss: 2.2386, Train Acc: 18.90%, Val Loss: 2.2419, Val Acc: 18.95%\n"
          ]
        },
        {
          "metadata": {
            "tags": null
          },
          "name": "stderr",
          "output_type": "stream",
          "text": [
            "\n"
          ]
        },
        {
          "metadata": {
            "tags": null
          },
          "name": "stdout",
          "output_type": "stream",
          "text": [
            "Validating gradient for: model.fc1.weight\n",
            "Validating gradient for: model.fc1.bias\n",
            "Validating gradient for: model.fc2.weight\n",
            "Validating gradient for: model.fc2.bias\n",
            "Gradient check passed successfully!\n"
          ]
        },
        {
          "metadata": {
            "tags": null
          },
          "name": "stderr",
          "output_type": "stream",
          "text": [
            "100%|██████████| 7326/7326 [00:33<00:00, 219.68it/s]\n",
            "100%|██████████| 1832/1832 [00:06<00:00, 267.07it/s]"
          ]
        },
        {
          "metadata": {
            "tags": null
          },
          "name": "stdout",
          "output_type": "stream",
          "text": [
            "\n",
            "Epoch [5/10], Train Loss: 2.2385, Train Acc: 18.88%, Val Loss: 2.2453, Val Acc: 18.95%\n"
          ]
        },
        {
          "metadata": {
            "tags": null
          },
          "name": "stderr",
          "output_type": "stream",
          "text": [
            "\n"
          ]
        },
        {
          "metadata": {
            "tags": null
          },
          "name": "stdout",
          "output_type": "stream",
          "text": [
            "Validating gradient for: model.fc1.weight\n",
            "Validating gradient for: model.fc1.bias\n",
            "Validating gradient for: model.fc2.weight\n",
            "Validating gradient for: model.fc2.bias\n",
            "Gradient check passed successfully!\n"
          ]
        },
        {
          "metadata": {
            "tags": null
          },
          "name": "stderr",
          "output_type": "stream",
          "text": [
            "100%|██████████| 7326/7326 [00:33<00:00, 220.61it/s]\n",
            "100%|██████████| 1832/1832 [00:05<00:00, 332.36it/s]"
          ]
        },
        {
          "metadata": {
            "tags": null
          },
          "name": "stdout",
          "output_type": "stream",
          "text": [
            "\n",
            "Epoch [6/10], Train Loss: 2.2388, Train Acc: 18.89%, Val Loss: 2.2405, Val Acc: 18.95%\n"
          ]
        },
        {
          "metadata": {
            "tags": null
          },
          "name": "stderr",
          "output_type": "stream",
          "text": [
            "\n"
          ]
        },
        {
          "metadata": {
            "tags": null
          },
          "name": "stdout",
          "output_type": "stream",
          "text": [
            "Validating gradient for: model.fc1.weight\n",
            "Gradient check failed for model.fc1.weight at index 341888\n"
          ]
        },
        {
          "metadata": {
            "tags": null
          },
          "name": "stderr",
          "output_type": "stream",
          "text": [
            "100%|██████████| 7326/7326 [00:34<00:00, 212.00it/s]\n",
            "100%|██████████| 1832/1832 [00:05<00:00, 346.19it/s]"
          ]
        },
        {
          "metadata": {
            "tags": null
          },
          "name": "stdout",
          "output_type": "stream",
          "text": [
            "\n",
            "Epoch [7/10], Train Loss: 2.2387, Train Acc: 18.90%, Val Loss: 2.2421, Val Acc: 18.95%\n"
          ]
        },
        {
          "metadata": {
            "tags": null
          },
          "name": "stderr",
          "output_type": "stream",
          "text": [
            "\n"
          ]
        },
        {
          "metadata": {
            "tags": null
          },
          "name": "stdout",
          "output_type": "stream",
          "text": [
            "Validating gradient for: model.fc1.weight\n",
            "Validating gradient for: model.fc1.bias\n",
            "Validating gradient for: model.fc2.weight\n",
            "Validating gradient for: model.fc2.bias\n",
            "Gradient check passed successfully!\n"
          ]
        },
        {
          "metadata": {
            "tags": null
          },
          "name": "stderr",
          "output_type": "stream",
          "text": [
            "100%|██████████| 7326/7326 [00:33<00:00, 221.97it/s]\n",
            "100%|██████████| 1832/1832 [00:07<00:00, 259.69it/s]"
          ]
        },
        {
          "metadata": {
            "tags": null
          },
          "name": "stdout",
          "output_type": "stream",
          "text": [
            "\n",
            "Epoch [8/10], Train Loss: 2.2387, Train Acc: 18.90%, Val Loss: 2.2420, Val Acc: 18.95%\n"
          ]
        },
        {
          "metadata": {
            "tags": null
          },
          "name": "stderr",
          "output_type": "stream",
          "text": [
            "\n"
          ]
        },
        {
          "metadata": {
            "tags": null
          },
          "name": "stdout",
          "output_type": "stream",
          "text": [
            "Validating gradient for: model.fc1.weight\n",
            "Validating gradient for: model.fc1.bias\n",
            "Validating gradient for: model.fc2.weight\n",
            "Validating gradient for: model.fc2.bias\n",
            "Gradient check passed successfully!\n"
          ]
        },
        {
          "metadata": {
            "tags": null
          },
          "name": "stderr",
          "output_type": "stream",
          "text": [
            "100%|██████████| 7326/7326 [00:32<00:00, 223.02it/s]\n",
            "100%|██████████| 1832/1832 [00:05<00:00, 319.26it/s]"
          ]
        },
        {
          "metadata": {
            "tags": null
          },
          "name": "stdout",
          "output_type": "stream",
          "text": [
            "\n",
            "Epoch [9/10], Train Loss: 2.2388, Train Acc: 18.90%, Val Loss: 2.2405, Val Acc: 18.95%\n"
          ]
        },
        {
          "metadata": {
            "tags": null
          },
          "name": "stderr",
          "output_type": "stream",
          "text": [
            "\n"
          ]
        },
        {
          "metadata": {
            "tags": null
          },
          "name": "stdout",
          "output_type": "stream",
          "text": [
            "Validating gradient for: model.fc1.weight\n",
            "Validating gradient for: model.fc1.bias\n",
            "Validating gradient for: model.fc2.weight\n",
            "Validating gradient for: model.fc2.bias\n",
            "Gradient check passed successfully!\n"
          ]
        },
        {
          "metadata": {
            "tags": null
          },
          "name": "stderr",
          "output_type": "stream",
          "text": [
            "100%|██████████| 7326/7326 [00:34<00:00, 214.16it/s]\n",
            "100%|██████████| 1832/1832 [00:05<00:00, 337.34it/s]"
          ]
        },
        {
          "metadata": {
            "tags": null
          },
          "name": "stdout",
          "output_type": "stream",
          "text": [
            "\n",
            "Epoch [10/10], Train Loss: 2.2384, Train Acc: 18.91%, Val Loss: 2.2412, Val Acc: 18.95%\n"
          ]
        },
        {
          "metadata": {
            "tags": null
          },
          "name": "stderr",
          "output_type": "stream",
          "text": [
            "\n"
          ]
        },
        {
          "metadata": {
            "tags": null
          },
          "name": "stdout",
          "output_type": "stream",
          "text": [
            "Validating gradient for: model.fc1.weight\n",
            "Validating gradient for: model.fc1.bias\n",
            "Validating gradient for: model.fc2.weight\n",
            "Validating gradient for: model.fc2.bias\n",
            "Gradient check passed successfully!\n"
          ]
        },
        {
          "metadata": {
            "tags": null
          },
          "name": "stderr",
          "output_type": "stream",
          "text": [
            "100%|██████████| 3254/3254 [00:10<00:00, 298.46it/s]\n"
          ]
        },
        {
          "metadata": {
            "tags": null
          },
          "name": "stdout",
          "output_type": "stream",
          "text": [
            "Test Accuracy with learning rate 0.01 and weight_decay 0.001: 19.59%\n"
          ]
        },
        {
          "data": {
            "image/png": "[encoded data removed]",
            "text/plain": [
              "<Figure size 640x480 with 1 Axes>"
            ]
          },
          "metadata": {},
          "output_type": "display_data"
        },
        {
          "metadata": {
            "tags": null
          },
          "name": "stdout",
          "output_type": "stream",
          "text": [
            "Training with lr=0.01, wd=0.0001, optimizer=<class 'torch.optim.rmsprop.RMSprop'>\n"
          ]
        },
        {
          "metadata": {
            "tags": null
          },
          "name": "stderr",
          "output_type": "stream",
          "text": [
            "100%|██████████| 7326/7326 [00:33<00:00, 218.79it/s]\n",
            "100%|██████████| 1832/1832 [00:07<00:00, 257.08it/s]\n"
          ]
        },
        {
          "metadata": {
            "tags": null
          },
          "name": "stdout",
          "output_type": "stream",
          "text": [
            "\n",
            "Epoch [1/10], Train Loss: 2.7566, Train Acc: 18.83%, Val Loss: 2.2392, Val Acc: 18.95%\n",
            "Validating gradient for: model.fc1.weight\n",
            "Validating gradient for: model.fc1.bias\n",
            "Validating gradient for: model.fc2.weight\n",
            "Validating gradient for: model.fc2.bias\n",
            "Gradient check passed successfully!\n"
          ]
        },
        {
          "metadata": {
            "tags": null
          },
          "name": "stderr",
          "output_type": "stream",
          "text": [
            "100%|██████████| 7326/7326 [00:33<00:00, 217.09it/s]\n",
            "100%|██████████| 1832/1832 [00:05<00:00, 337.35it/s]"
          ]
        },
        {
          "metadata": {
            "tags": null
          },
          "name": "stdout",
          "output_type": "stream",
          "text": [
            "\n",
            "Epoch [2/10], Train Loss: 2.2411, Train Acc: 18.90%, Val Loss: 2.2407, Val Acc: 18.95%\n"
          ]
        },
        {
          "metadata": {
            "tags": null
          },
          "name": "stderr",
          "output_type": "stream",
          "text": [
            "\n"
          ]
        },
        {
          "metadata": {
            "tags": null
          },
          "name": "stdout",
          "output_type": "stream",
          "text": [
            "Validating gradient for: model.fc1.weight\n",
            "Validating gradient for: model.fc1.bias\n",
            "Validating gradient for: model.fc2.weight\n",
            "Validating gradient for: model.fc2.bias\n",
            "Gradient check passed successfully!\n"
          ]
        },
        {
          "metadata": {
            "tags": null
          },
          "name": "stderr",
          "output_type": "stream",
          "text": [
            "100%|██████████| 7326/7326 [00:34<00:00, 212.95it/s]\n",
            "100%|██████████| 1832/1832 [00:05<00:00, 338.54it/s]"
          ]
        },
        {
          "metadata": {
            "tags": null
          },
          "name": "stdout",
          "output_type": "stream",
          "text": [
            "\n",
            "Epoch [3/10], Train Loss: 2.2386, Train Acc: 18.91%, Val Loss: 2.2403, Val Acc: 18.95%\n"
          ]
        },
        {
          "metadata": {
            "tags": null
          },
          "name": "stderr",
          "output_type": "stream",
          "text": [
            "\n"
          ]
        },
        {
          "metadata": {
            "tags": null
          },
          "name": "stdout",
          "output_type": "stream",
          "text": [
            "Validating gradient for: model.fc1.weight\n",
            "Validating gradient for: model.fc1.bias\n",
            "Validating gradient for: model.fc2.weight\n",
            "Validating gradient for: model.fc2.bias\n",
            "Gradient check passed successfully!\n"
          ]
        },
        {
          "metadata": {
            "tags": null
          },
          "name": "stderr",
          "output_type": "stream",
          "text": [
            "100%|██████████| 7326/7326 [00:33<00:00, 221.22it/s]\n",
            "100%|██████████| 1832/1832 [00:06<00:00, 271.78it/s]"
          ]
        },
        {
          "metadata": {
            "tags": null
          },
          "name": "stdout",
          "output_type": "stream",
          "text": [
            "\n",
            "Epoch [4/10], Train Loss: 2.2387, Train Acc: 18.90%, Val Loss: 2.2419, Val Acc: 18.95%\n"
          ]
        },
        {
          "metadata": {
            "tags": null
          },
          "name": "stderr",
          "output_type": "stream",
          "text": [
            "\n"
          ]
        },
        {
          "metadata": {
            "tags": null
          },
          "name": "stdout",
          "output_type": "stream",
          "text": [
            "Validating gradient for: model.fc1.weight\n",
            "Validating gradient for: model.fc1.bias\n",
            "Validating gradient for: model.fc2.weight\n",
            "Validating gradient for: model.fc2.bias\n",
            "Gradient check passed successfully!\n"
          ]
        },
        {
          "metadata": {
            "tags": null
          },
          "name": "stderr",
          "output_type": "stream",
          "text": [
            "100%|██████████| 7326/7326 [00:33<00:00, 216.00it/s]\n",
            "100%|██████████| 1832/1832 [00:06<00:00, 265.40it/s]"
          ]
        },
        {
          "metadata": {
            "tags": null
          },
          "name": "stdout",
          "output_type": "stream",
          "text": [
            "\n",
            "Epoch [5/10], Train Loss: 2.2388, Train Acc: 18.90%, Val Loss: 2.2397, Val Acc: 18.95%\n"
          ]
        },
        {
          "metadata": {
            "tags": null
          },
          "name": "stderr",
          "output_type": "stream",
          "text": [
            "\n"
          ]
        },
        {
          "metadata": {
            "tags": null
          },
          "name": "stdout",
          "output_type": "stream",
          "text": [
            "Validating gradient for: model.fc1.weight\n",
            "Validating gradient for: model.fc1.bias\n",
            "Validating gradient for: model.fc2.weight\n",
            "Validating gradient for: model.fc2.bias\n",
            "Gradient check passed successfully!\n"
          ]
        },
        {
          "metadata": {
            "tags": null
          },
          "name": "stderr",
          "output_type": "stream",
          "text": [
            "100%|██████████| 7326/7326 [00:32<00:00, 222.84it/s]\n",
            "100%|██████████| 1832/1832 [00:05<00:00, 349.07it/s]"
          ]
        },
        {
          "metadata": {
            "tags": null
          },
          "name": "stdout",
          "output_type": "stream",
          "text": [
            "\n",
            "Epoch [6/10], Train Loss: 2.2389, Train Acc: 18.89%, Val Loss: 2.2389, Val Acc: 18.95%\n"
          ]
        },
        {
          "metadata": {
            "tags": null
          },
          "name": "stderr",
          "output_type": "stream",
          "text": [
            "\n"
          ]
        },
        {
          "metadata": {
            "tags": null
          },
          "name": "stdout",
          "output_type": "stream",
          "text": [
            "Validating gradient for: model.fc1.weight\n",
            "Validating gradient for: model.fc1.bias\n",
            "Validating gradient for: model.fc2.weight\n",
            "Validating gradient for: model.fc2.bias\n",
            "Gradient check passed successfully!\n"
          ]
        },
        {
          "metadata": {
            "tags": null
          },
          "name": "stderr",
          "output_type": "stream",
          "text": [
            "100%|██████████| 7326/7326 [00:34<00:00, 214.87it/s]\n",
            "100%|██████████| 1832/1832 [00:05<00:00, 340.16it/s]"
          ]
        },
        {
          "metadata": {
            "tags": null
          },
          "name": "stdout",
          "output_type": "stream",
          "text": [
            "\n",
            "Epoch [7/10], Train Loss: 2.2388, Train Acc: 18.91%, Val Loss: 2.2429, Val Acc: 18.95%\n"
          ]
        },
        {
          "metadata": {
            "tags": null
          },
          "name": "stderr",
          "output_type": "stream",
          "text": [
            "\n"
          ]
        },
        {
          "metadata": {
            "tags": null
          },
          "name": "stdout",
          "output_type": "stream",
          "text": [
            "Validating gradient for: model.fc1.weight\n",
            "Validating gradient for: model.fc1.bias\n",
            "Validating gradient for: model.fc2.weight\n",
            "Validating gradient for: model.fc2.bias\n",
            "Gradient check passed successfully!\n"
          ]
        },
        {
          "metadata": {
            "tags": null
          },
          "name": "stderr",
          "output_type": "stream",
          "text": [
            "100%|██████████| 7326/7326 [00:33<00:00, 220.86it/s]\n",
            "100%|██████████| 1832/1832 [00:07<00:00, 250.09it/s]"
          ]
        },
        {
          "metadata": {
            "tags": null
          },
          "name": "stdout",
          "output_type": "stream",
          "text": [
            "\n",
            "Epoch [8/10], Train Loss: 2.2384, Train Acc: 18.88%, Val Loss: 2.2427, Val Acc: 18.95%\n"
          ]
        },
        {
          "metadata": {
            "tags": null
          },
          "name": "stderr",
          "output_type": "stream",
          "text": [
            "\n"
          ]
        },
        {
          "metadata": {
            "tags": null
          },
          "name": "stdout",
          "output_type": "stream",
          "text": [
            "Validating gradient for: model.fc1.weight\n",
            "Validating gradient for: model.fc1.bias\n",
            "Validating gradient for: model.fc2.weight\n",
            "Validating gradient for: model.fc2.bias\n",
            "Gradient check passed successfully!\n"
          ]
        },
        {
          "metadata": {
            "tags": null
          },
          "name": "stderr",
          "output_type": "stream",
          "text": [
            "100%|██████████| 7326/7326 [00:33<00:00, 221.38it/s]\n",
            "100%|██████████| 1832/1832 [00:05<00:00, 342.35it/s]"
          ]
        },
        {
          "metadata": {
            "tags": null
          },
          "name": "stdout",
          "output_type": "stream",
          "text": [
            "\n",
            "Epoch [9/10], Train Loss: 2.2386, Train Acc: 18.91%, Val Loss: 2.2398, Val Acc: 18.95%\n"
          ]
        },
        {
          "metadata": {
            "tags": null
          },
          "name": "stderr",
          "output_type": "stream",
          "text": [
            "\n"
          ]
        },
        {
          "metadata": {
            "tags": null
          },
          "name": "stdout",
          "output_type": "stream",
          "text": [
            "Validating gradient for: model.fc1.weight\n",
            "Validating gradient for: model.fc1.bias\n",
            "Validating gradient for: model.fc2.weight\n",
            "Validating gradient for: model.fc2.bias\n",
            "Gradient check passed successfully!\n"
          ]
        },
        {
          "metadata": {
            "tags": null
          },
          "name": "stderr",
          "output_type": "stream",
          "text": [
            "100%|██████████| 7326/7326 [00:33<00:00, 220.82it/s]\n",
            "100%|██████████| 1832/1832 [00:06<00:00, 275.08it/s]"
          ]
        },
        {
          "metadata": {
            "tags": null
          },
          "name": "stdout",
          "output_type": "stream",
          "text": [
            "\n",
            "Epoch [10/10], Train Loss: 2.2383, Train Acc: 18.89%, Val Loss: 2.2400, Val Acc: 18.95%\n"
          ]
        },
        {
          "metadata": {
            "tags": null
          },
          "name": "stderr",
          "output_type": "stream",
          "text": [
            "\n"
          ]
        },
        {
          "metadata": {
            "tags": null
          },
          "name": "stdout",
          "output_type": "stream",
          "text": [
            "Validating gradient for: model.fc1.weight\n",
            "Gradient check failed for model.fc1.weight at index 326636\n"
          ]
        },
        {
          "metadata": {
            "tags": null
          },
          "name": "stderr",
          "output_type": "stream",
          "text": [
            "100%|██████████| 3254/3254 [00:10<00:00, 313.36it/s]\n"
          ]
        },
        {
          "metadata": {
            "tags": null
          },
          "name": "stdout",
          "output_type": "stream",
          "text": [
            "Test Accuracy with learning rate 0.01 and weight_decay 0.0001: 19.59%\n"
          ]
        },
        {
          "data": {
            "image/png": "[encoded data removed]",
            "text/plain": [
              "<Figure size 640x480 with 1 Axes>"
            ]
          },
          "metadata": {},
          "output_type": "display_data"
        },
        {
          "metadata": {
            "tags": null
          },
          "name": "stdout",
          "output_type": "stream",
          "text": [
            "Training with lr=0.001, wd=0.01, optimizer=<class 'torch.optim.rmsprop.RMSprop'>\n"
          ]
        },
        {
          "metadata": {
            "tags": null
          },
          "name": "stderr",
          "output_type": "stream",
          "text": [
            "100%|██████████| 7326/7326 [00:32<00:00, 225.81it/s]\n",
            "100%|██████████| 1832/1832 [00:05<00:00, 344.10it/s]"
          ]
        },
        {
          "metadata": {
            "tags": null
          },
          "name": "stdout",
          "output_type": "stream",
          "text": [
            "\n",
            "Epoch [1/10], Train Loss: 2.2566, Train Acc: 18.75%, Val Loss: 2.2388, Val Acc: 18.95%\n"
          ]
        },
        {
          "metadata": {
            "tags": null
          },
          "name": "stderr",
          "output_type": "stream",
          "text": [
            "\n"
          ]
        },
        {
          "metadata": {
            "tags": null
          },
          "name": "stdout",
          "output_type": "stream",
          "text": [
            "Validating gradient for: model.fc1.weight\n",
            "Validating gradient for: model.fc1.bias\n",
            "Validating gradient for: model.fc2.weight\n",
            "Validating gradient for: model.fc2.bias\n",
            "Gradient check passed successfully!\n"
          ]
        },
        {
          "metadata": {
            "tags": null
          },
          "name": "stderr",
          "output_type": "stream",
          "text": [
            "100%|██████████| 7326/7326 [00:35<00:00, 205.92it/s]\n",
            "100%|██████████| 1832/1832 [00:05<00:00, 320.33it/s]"
          ]
        },
        {
          "metadata": {
            "tags": null
          },
          "name": "stdout",
          "output_type": "stream",
          "text": [
            "\n",
            "Epoch [2/10], Train Loss: 2.2369, Train Acc: 18.91%, Val Loss: 2.2383, Val Acc: 18.95%\n"
          ]
        },
        {
          "metadata": {
            "tags": null
          },
          "name": "stderr",
          "output_type": "stream",
          "text": [
            "\n"
          ]
        },
        {
          "metadata": {
            "tags": null
          },
          "name": "stdout",
          "output_type": "stream",
          "text": [
            "Validating gradient for: model.fc1.weight\n",
            "Validating gradient for: model.fc1.bias\n",
            "Validating gradient for: model.fc2.weight\n",
            "Validating gradient for: model.fc2.bias\n",
            "Gradient check passed successfully!\n"
          ]
        },
        {
          "metadata": {
            "tags": null
          },
          "name": "stderr",
          "output_type": "stream",
          "text": [
            "100%|██████████| 7326/7326 [00:33<00:00, 216.04it/s]\n",
            "100%|██████████| 1832/1832 [00:07<00:00, 254.75it/s]"
          ]
        },
        {
          "metadata": {
            "tags": null
          },
          "name": "stdout",
          "output_type": "stream",
          "text": [
            "\n",
            "Epoch [3/10], Train Loss: 2.2367, Train Acc: 18.91%, Val Loss: 2.2385, Val Acc: 18.95%\n"
          ]
        },
        {
          "metadata": {
            "tags": null
          },
          "name": "stderr",
          "output_type": "stream",
          "text": [
            "\n"
          ]
        },
        {
          "metadata": {
            "tags": null
          },
          "name": "stdout",
          "output_type": "stream",
          "text": [
            "Validating gradient for: model.fc1.weight\n",
            "Validating gradient for: model.fc1.bias\n",
            "Validating gradient for: model.fc2.weight\n",
            "Validating gradient for: model.fc2.bias\n",
            "Gradient check passed successfully!\n"
          ]
        },
        {
          "metadata": {
            "tags": null
          },
          "name": "stderr",
          "output_type": "stream",
          "text": [
            "100%|██████████| 7326/7326 [00:33<00:00, 216.05it/s]\n",
            "100%|██████████| 1832/1832 [00:06<00:00, 287.29it/s]"
          ]
        },
        {
          "metadata": {
            "tags": null
          },
          "name": "stdout",
          "output_type": "stream",
          "text": [
            "\n",
            "Epoch [4/10], Train Loss: 2.2368, Train Acc: 18.91%, Val Loss: 2.2384, Val Acc: 18.95%\n"
          ]
        },
        {
          "metadata": {
            "tags": null
          },
          "name": "stderr",
          "output_type": "stream",
          "text": [
            "\n"
          ]
        },
        {
          "metadata": {
            "tags": null
          },
          "name": "stdout",
          "output_type": "stream",
          "text": [
            "Validating gradient for: model.fc1.weight\n",
            "Validating gradient for: model.fc1.bias\n",
            "Validating gradient for: model.fc2.weight\n",
            "Validating gradient for: model.fc2.bias\n",
            "Gradient check passed successfully!\n"
          ]
        },
        {
          "metadata": {
            "tags": null
          },
          "name": "stderr",
          "output_type": "stream",
          "text": [
            "100%|██████████| 7326/7326 [00:33<00:00, 217.56it/s]\n",
            "100%|██████████| 1832/1832 [00:05<00:00, 338.82it/s]"
          ]
        },
        {
          "metadata": {
            "tags": null
          },
          "name": "stdout",
          "output_type": "stream",
          "text": [
            "\n",
            "Epoch [5/10], Train Loss: 2.2367, Train Acc: 18.91%, Val Loss: 2.2386, Val Acc: 18.95%\n"
          ]
        },
        {
          "metadata": {
            "tags": null
          },
          "name": "stderr",
          "output_type": "stream",
          "text": [
            "\n"
          ]
        },
        {
          "metadata": {
            "tags": null
          },
          "name": "stdout",
          "output_type": "stream",
          "text": [
            "Validating gradient for: model.fc1.weight\n",
            "Validating gradient for: model.fc1.bias\n",
            "Validating gradient for: model.fc2.weight\n",
            "Validating gradient for: model.fc2.bias\n",
            "Gradient check passed successfully!\n"
          ]
        },
        {
          "metadata": {
            "tags": null
          },
          "name": "stderr",
          "output_type": "stream",
          "text": [
            "100%|██████████| 7326/7326 [00:35<00:00, 208.90it/s]\n",
            "100%|██████████| 1832/1832 [00:05<00:00, 334.06it/s]"
          ]
        },
        {
          "metadata": {
            "tags": null
          },
          "name": "stdout",
          "output_type": "stream",
          "text": [
            "\n",
            "Epoch [6/10], Train Loss: 2.2368, Train Acc: 18.91%, Val Loss: 2.2386, Val Acc: 18.95%\n"
          ]
        },
        {
          "metadata": {
            "tags": null
          },
          "name": "stderr",
          "output_type": "stream",
          "text": [
            "\n"
          ]
        },
        {
          "metadata": {
            "tags": null
          },
          "name": "stdout",
          "output_type": "stream",
          "text": [
            "Validating gradient for: model.fc1.weight\n",
            "Validating gradient for: model.fc1.bias\n",
            "Validating gradient for: model.fc2.weight\n",
            "Validating gradient for: model.fc2.bias\n",
            "Gradient check passed successfully!\n"
          ]
        },
        {
          "metadata": {
            "tags": null
          },
          "name": "stderr",
          "output_type": "stream",
          "text": [
            "100%|██████████| 7326/7326 [00:33<00:00, 220.01it/s]\n",
            "100%|██████████| 1832/1832 [00:07<00:00, 239.45it/s]"
          ]
        },
        {
          "metadata": {
            "tags": null
          },
          "name": "stdout",
          "output_type": "stream",
          "text": [
            "\n",
            "Epoch [7/10], Train Loss: 2.2367, Train Acc: 18.91%, Val Loss: 2.2386, Val Acc: 18.95%\n"
          ]
        },
        {
          "metadata": {
            "tags": null
          },
          "name": "stderr",
          "output_type": "stream",
          "text": [
            "\n"
          ]
        },
        {
          "metadata": {
            "tags": null
          },
          "name": "stdout",
          "output_type": "stream",
          "text": [
            "Validating gradient for: model.fc1.weight\n",
            "Validating gradient for: model.fc1.bias\n",
            "Validating gradient for: model.fc2.weight\n",
            "Validating gradient for: model.fc2.bias\n",
            "Gradient check passed successfully!\n"
          ]
        },
        {
          "metadata": {
            "tags": null
          },
          "name": "stderr",
          "output_type": "stream",
          "text": [
            "100%|██████████| 7326/7326 [00:34<00:00, 215.46it/s]\n",
            "100%|██████████| 1832/1832 [00:06<00:00, 302.46it/s]"
          ]
        },
        {
          "metadata": {
            "tags": null
          },
          "name": "stdout",
          "output_type": "stream",
          "text": [
            "\n",
            "Epoch [8/10], Train Loss: 2.2368, Train Acc: 18.91%, Val Loss: 2.2384, Val Acc: 18.95%\n"
          ]
        },
        {
          "metadata": {
            "tags": null
          },
          "name": "stderr",
          "output_type": "stream",
          "text": [
            "\n"
          ]
        },
        {
          "metadata": {
            "tags": null
          },
          "name": "stdout",
          "output_type": "stream",
          "text": [
            "Validating gradient for: model.fc1.weight\n",
            "Validating gradient for: model.fc1.bias\n",
            "Validating gradient for: model.fc2.weight\n",
            "Validating gradient for: model.fc2.bias\n",
            "Gradient check passed successfully!\n"
          ]
        },
        {
          "metadata": {
            "tags": null
          },
          "name": "stderr",
          "output_type": "stream",
          "text": [
            "100%|██████████| 7326/7326 [00:35<00:00, 205.50it/s]\n",
            "100%|██████████| 1832/1832 [00:05<00:00, 334.60it/s]"
          ]
        },
        {
          "metadata": {
            "tags": null
          },
          "name": "stdout",
          "output_type": "stream",
          "text": [
            "\n",
            "Epoch [9/10], Train Loss: 2.2367, Train Acc: 18.91%, Val Loss: 2.2385, Val Acc: 18.95%\n"
          ]
        },
        {
          "metadata": {
            "tags": null
          },
          "name": "stderr",
          "output_type": "stream",
          "text": [
            "\n"
          ]
        },
        {
          "metadata": {
            "tags": null
          },
          "name": "stdout",
          "output_type": "stream",
          "text": [
            "Validating gradient for: model.fc1.weight\n",
            "Validating gradient for: model.fc1.bias\n",
            "Validating gradient for: model.fc2.weight\n",
            "Validating gradient for: model.fc2.bias\n",
            "Gradient check passed successfully!\n"
          ]
        },
        {
          "metadata": {
            "tags": null
          },
          "name": "stderr",
          "output_type": "stream",
          "text": [
            "100%|██████████| 7326/7326 [00:34<00:00, 210.79it/s]\n",
            "100%|██████████| 1832/1832 [00:07<00:00, 251.72it/s]"
          ]
        },
        {
          "metadata": {
            "tags": null
          },
          "name": "stdout",
          "output_type": "stream",
          "text": [
            "\n",
            "Epoch [10/10], Train Loss: 2.2368, Train Acc: 18.91%, Val Loss: 2.2385, Val Acc: 18.95%\n"
          ]
        },
        {
          "metadata": {
            "tags": null
          },
          "name": "stderr",
          "output_type": "stream",
          "text": [
            "\n"
          ]
        },
        {
          "metadata": {
            "tags": null
          },
          "name": "stdout",
          "output_type": "stream",
          "text": [
            "Validating gradient for: model.fc1.weight\n",
            "Validating gradient for: model.fc1.bias\n",
            "Validating gradient for: model.fc2.weight\n",
            "Validating gradient for: model.fc2.bias\n",
            "Gradient check passed successfully!\n"
          ]
        },
        {
          "metadata": {
            "tags": null
          },
          "name": "stderr",
          "output_type": "stream",
          "text": [
            "100%|██████████| 3254/3254 [00:11<00:00, 288.73it/s]\n"
          ]
        },
        {
          "metadata": {
            "tags": null
          },
          "name": "stdout",
          "output_type": "stream",
          "text": [
            "Test Accuracy with learning rate 0.001 and weight_decay 0.01: 19.59%\n"
          ]
        },
        {
          "data": {
            "image/png": "[encoded data removed]",
            "text/plain": [
              "<Figure size 640x480 with 1 Axes>"
            ]
          },
          "metadata": {},
          "output_type": "display_data"
        },
        {
          "metadata": {
            "tags": null
          },
          "name": "stdout",
          "output_type": "stream",
          "text": [
            "Training with lr=0.001, wd=0.001, optimizer=<class 'torch.optim.rmsprop.RMSprop'>\n"
          ]
        },
        {
          "metadata": {
            "tags": null
          },
          "name": "stderr",
          "output_type": "stream",
          "text": [
            "100%|██████████| 7326/7326 [00:33<00:00, 217.01it/s]\n",
            "100%|██████████| 1832/1832 [00:05<00:00, 336.13it/s]"
          ]
        },
        {
          "metadata": {
            "tags": null
          },
          "name": "stdout",
          "output_type": "stream",
          "text": [
            "\n",
            "Epoch [1/10], Train Loss: 2.2590, Train Acc: 18.59%, Val Loss: 2.2093, Val Acc: 18.95%\n"
          ]
        },
        {
          "metadata": {
            "tags": null
          },
          "name": "stderr",
          "output_type": "stream",
          "text": [
            "\n"
          ]
        },
        {
          "metadata": {
            "tags": null
          },
          "name": "stdout",
          "output_type": "stream",
          "text": [
            "Validating gradient for: model.fc1.weight\n",
            "Validating gradient for: model.fc1.bias\n",
            "Validating gradient for: model.fc2.weight\n",
            "Validating gradient for: model.fc2.bias\n",
            "Gradient check passed successfully!\n"
          ]
        },
        {
          "metadata": {
            "tags": null
          },
          "name": "stderr",
          "output_type": "stream",
          "text": [
            "100%|██████████| 7326/7326 [00:35<00:00, 207.16it/s]\n",
            "100%|██████████| 1832/1832 [00:05<00:00, 319.57it/s]"
          ]
        },
        {
          "metadata": {
            "tags": null
          },
          "name": "stdout",
          "output_type": "stream",
          "text": [
            "\n",
            "Epoch [2/10], Train Loss: 2.1832, Train Acc: 19.03%, Val Loss: 2.1640, Val Acc: 19.77%\n"
          ]
        },
        {
          "metadata": {
            "tags": null
          },
          "name": "stderr",
          "output_type": "stream",
          "text": [
            "\n"
          ]
        },
        {
          "metadata": {
            "tags": null
          },
          "name": "stdout",
          "output_type": "stream",
          "text": [
            "Validating gradient for: model.fc1.weight\n",
            "Validating gradient for: model.fc1.bias\n",
            "Validating gradient for: model.fc2.weight\n",
            "Validating gradient for: model.fc2.bias\n",
            "Gradient check passed successfully!\n"
          ]
        },
        {
          "metadata": {
            "tags": null
          },
          "name": "stderr",
          "output_type": "stream",
          "text": [
            "100%|██████████| 7326/7326 [00:33<00:00, 215.52it/s]\n",
            "100%|██████████| 1832/1832 [00:07<00:00, 247.21it/s]"
          ]
        },
        {
          "metadata": {
            "tags": null
          },
          "name": "stdout",
          "output_type": "stream",
          "text": [
            "\n",
            "Epoch [3/10], Train Loss: 2.1686, Train Acc: 19.55%, Val Loss: 2.1650, Val Acc: 19.52%\n"
          ]
        },
        {
          "metadata": {
            "tags": null
          },
          "name": "stderr",
          "output_type": "stream",
          "text": [
            "\n"
          ]
        },
        {
          "metadata": {
            "tags": null
          },
          "name": "stdout",
          "output_type": "stream",
          "text": [
            "Validating gradient for: model.fc1.weight\n",
            "Validating gradient for: model.fc1.bias\n",
            "Validating gradient for: model.fc2.weight\n",
            "Validating gradient for: model.fc2.bias\n",
            "Gradient check passed successfully!\n"
          ]
        },
        {
          "metadata": {
            "tags": null
          },
          "name": "stderr",
          "output_type": "stream",
          "text": [
            "100%|██████████| 7326/7326 [00:33<00:00, 218.59it/s]\n",
            "100%|██████████| 1832/1832 [00:06<00:00, 288.92it/s]"
          ]
        },
        {
          "metadata": {
            "tags": null
          },
          "name": "stdout",
          "output_type": "stream",
          "text": [
            "\n",
            "Epoch [4/10], Train Loss: 2.1691, Train Acc: 19.42%, Val Loss: 2.1640, Val Acc: 19.55%\n"
          ]
        },
        {
          "metadata": {
            "tags": null
          },
          "name": "stderr",
          "output_type": "stream",
          "text": [
            "\n"
          ]
        },
        {
          "metadata": {
            "tags": null
          },
          "name": "stdout",
          "output_type": "stream",
          "text": [
            "Validating gradient for: model.fc1.weight\n",
            "Validating gradient for: model.fc1.bias\n",
            "Validating gradient for: model.fc2.weight\n",
            "Validating gradient for: model.fc2.bias\n",
            "Gradient check passed successfully!\n"
          ]
        },
        {
          "metadata": {
            "tags": null
          },
          "name": "stderr",
          "output_type": "stream",
          "text": [
            "100%|██████████| 7326/7326 [00:33<00:00, 218.52it/s]\n",
            "100%|██████████| 1832/1832 [00:05<00:00, 335.49it/s]"
          ]
        },
        {
          "metadata": {
            "tags": null
          },
          "name": "stdout",
          "output_type": "stream",
          "text": [
            "\n",
            "Epoch [5/10], Train Loss: 2.1684, Train Acc: 19.47%, Val Loss: 2.1753, Val Acc: 18.95%\n"
          ]
        },
        {
          "metadata": {
            "tags": null
          },
          "name": "stderr",
          "output_type": "stream",
          "text": [
            "\n"
          ]
        },
        {
          "metadata": {
            "tags": null
          },
          "name": "stdout",
          "output_type": "stream",
          "text": [
            "Validating gradient for: model.fc1.weight\n",
            "Validating gradient for: model.fc1.bias\n",
            "Validating gradient for: model.fc2.weight\n",
            "Validating gradient for: model.fc2.bias\n",
            "Gradient check passed successfully!\n"
          ]
        },
        {
          "metadata": {
            "tags": null
          },
          "name": "stderr",
          "output_type": "stream",
          "text": [
            "100%|██████████| 7326/7326 [00:35<00:00, 207.95it/s]\n",
            "100%|██████████| 1832/1832 [00:05<00:00, 312.76it/s]"
          ]
        },
        {
          "metadata": {
            "tags": null
          },
          "name": "stdout",
          "output_type": "stream",
          "text": [
            "\n",
            "Epoch [6/10], Train Loss: 2.1669, Train Acc: 19.41%, Val Loss: 2.1545, Val Acc: 19.88%\n"
          ]
        },
        {
          "metadata": {
            "tags": null
          },
          "name": "stderr",
          "output_type": "stream",
          "text": [
            "\n"
          ]
        },
        {
          "metadata": {
            "tags": null
          },
          "name": "stdout",
          "output_type": "stream",
          "text": [
            "Validating gradient for: model.fc1.weight\n",
            "Validating gradient for: model.fc1.bias\n",
            "Validating gradient for: model.fc2.weight\n",
            "Validating gradient for: model.fc2.bias\n",
            "Gradient check passed successfully!\n"
          ]
        },
        {
          "metadata": {
            "tags": null
          },
          "name": "stderr",
          "output_type": "stream",
          "text": [
            "100%|██████████| 7326/7326 [00:34<00:00, 213.54it/s]\n",
            "100%|██████████| 1832/1832 [00:07<00:00, 243.26it/s]"
          ]
        },
        {
          "metadata": {
            "tags": null
          },
          "name": "stdout",
          "output_type": "stream",
          "text": [
            "\n",
            "Epoch [7/10], Train Loss: 2.1673, Train Acc: 19.33%, Val Loss: 2.1656, Val Acc: 19.26%\n"
          ]
        },
        {
          "metadata": {
            "tags": null
          },
          "name": "stderr",
          "output_type": "stream",
          "text": [
            "\n"
          ]
        },
        {
          "metadata": {
            "tags": null
          },
          "name": "stdout",
          "output_type": "stream",
          "text": [
            "Validating gradient for: model.fc1.weight\n",
            "Validating gradient for: model.fc1.bias\n",
            "Validating gradient for: model.fc2.weight\n",
            "Validating gradient for: model.fc2.bias\n",
            "Gradient check passed successfully!\n"
          ]
        },
        {
          "metadata": {
            "tags": null
          },
          "name": "stderr",
          "output_type": "stream",
          "text": [
            "100%|██████████| 7326/7326 [00:34<00:00, 213.45it/s]\n",
            "100%|██████████| 1832/1832 [00:06<00:00, 270.11it/s]"
          ]
        },
        {
          "metadata": {
            "tags": null
          },
          "name": "stdout",
          "output_type": "stream",
          "text": [
            "\n",
            "Epoch [8/10], Train Loss: 2.1662, Train Acc: 19.47%, Val Loss: 2.1595, Val Acc: 19.92%\n"
          ]
        },
        {
          "metadata": {
            "tags": null
          },
          "name": "stderr",
          "output_type": "stream",
          "text": [
            "\n"
          ]
        },
        {
          "metadata": {
            "tags": null
          },
          "name": "stdout",
          "output_type": "stream",
          "text": [
            "Validating gradient for: model.fc1.weight\n",
            "Validating gradient for: model.fc1.bias\n",
            "Validating gradient for: model.fc2.weight\n",
            "Validating gradient for: model.fc2.bias\n",
            "Gradient check passed successfully!\n"
          ]
        },
        {
          "metadata": {
            "tags": null
          },
          "name": "stderr",
          "output_type": "stream",
          "text": [
            "100%|██████████| 7326/7326 [00:34<00:00, 214.71it/s]\n",
            "100%|██████████| 1832/1832 [00:06<00:00, 299.92it/s]"
          ]
        },
        {
          "metadata": {
            "tags": null
          },
          "name": "stdout",
          "output_type": "stream",
          "text": [
            "\n",
            "Epoch [9/10], Train Loss: 2.1669, Train Acc: 19.42%, Val Loss: 2.1534, Val Acc: 20.00%\n"
          ]
        },
        {
          "metadata": {
            "tags": null
          },
          "name": "stderr",
          "output_type": "stream",
          "text": [
            "\n"
          ]
        },
        {
          "metadata": {
            "tags": null
          },
          "name": "stdout",
          "output_type": "stream",
          "text": [
            "Validating gradient for: model.fc1.weight\n",
            "Gradient check failed for model.fc1.weight at index 289443\n"
          ]
        },
        {
          "metadata": {
            "tags": null
          },
          "name": "stderr",
          "output_type": "stream",
          "text": [
            "100%|██████████| 7326/7326 [00:35<00:00, 205.22it/s]\n",
            "100%|██████████| 1832/1832 [00:05<00:00, 323.22it/s]"
          ]
        },
        {
          "metadata": {
            "tags": null
          },
          "name": "stdout",
          "output_type": "stream",
          "text": [
            "\n",
            "Epoch [10/10], Train Loss: 2.1678, Train Acc: 19.37%, Val Loss: 2.1545, Val Acc: 19.98%\n"
          ]
        },
        {
          "metadata": {
            "tags": null
          },
          "name": "stderr",
          "output_type": "stream",
          "text": [
            "\n"
          ]
        },
        {
          "metadata": {
            "tags": null
          },
          "name": "stdout",
          "output_type": "stream",
          "text": [
            "Validating gradient for: model.fc1.weight\n",
            "Validating gradient for: model.fc1.bias\n",
            "Validating gradient for: model.fc2.weight\n",
            "Validating gradient for: model.fc2.bias\n",
            "Gradient check passed successfully!\n"
          ]
        },
        {
          "metadata": {
            "tags": null
          },
          "name": "stderr",
          "output_type": "stream",
          "text": [
            "100%|██████████| 3254/3254 [00:11<00:00, 288.76it/s]\n"
          ]
        },
        {
          "metadata": {
            "tags": null
          },
          "name": "stdout",
          "output_type": "stream",
          "text": [
            "Test Accuracy with learning rate 0.001 and weight_decay 0.001: 20.62%\n"
          ]
        },
        {
          "data": {
            "image/png": "[encoded data removed]",
            "text/plain": [
              "<Figure size 640x480 with 1 Axes>"
            ]
          },
          "metadata": {},
          "output_type": "display_data"
        },
        {
          "metadata": {
            "tags": null
          },
          "name": "stdout",
          "output_type": "stream",
          "text": [
            "Training with lr=0.001, wd=0.0001, optimizer=<class 'torch.optim.rmsprop.RMSprop'>\n"
          ]
        },
        {
          "metadata": {
            "tags": null
          },
          "name": "stderr",
          "output_type": "stream",
          "text": [
            "100%|██████████| 7326/7326 [00:34<00:00, 215.46it/s]\n",
            "100%|██████████| 1832/1832 [00:07<00:00, 246.56it/s]"
          ]
        },
        {
          "metadata": {
            "tags": null
          },
          "name": "stdout",
          "output_type": "stream",
          "text": [
            "\n",
            "Epoch [1/10], Train Loss: 2.2425, Train Acc: 18.72%, Val Loss: 2.1830, Val Acc: 18.95%\n"
          ]
        },
        {
          "metadata": {
            "tags": null
          },
          "name": "stderr",
          "output_type": "stream",
          "text": [
            "\n"
          ]
        },
        {
          "metadata": {
            "tags": null
          },
          "name": "stdout",
          "output_type": "stream",
          "text": [
            "Validating gradient for: model.fc1.weight\n",
            "Validating gradient for: model.fc1.bias\n",
            "Validating gradient for: model.fc2.weight\n",
            "Validating gradient for: model.fc2.bias\n",
            "Gradient check passed successfully!\n"
          ]
        },
        {
          "metadata": {
            "tags": null
          },
          "name": "stderr",
          "output_type": "stream",
          "text": [
            "100%|██████████| 7326/7326 [00:33<00:00, 218.24it/s]\n",
            "100%|██████████| 1832/1832 [00:06<00:00, 288.61it/s]"
          ]
        },
        {
          "metadata": {
            "tags": null
          },
          "name": "stdout",
          "output_type": "stream",
          "text": [
            "\n",
            "Epoch [2/10], Train Loss: 2.1744, Train Acc: 19.31%, Val Loss: 2.1709, Val Acc: 19.71%\n"
          ]
        },
        {
          "metadata": {
            "tags": null
          },
          "name": "stderr",
          "output_type": "stream",
          "text": [
            "\n"
          ]
        },
        {
          "metadata": {
            "tags": null
          },
          "name": "stdout",
          "output_type": "stream",
          "text": [
            "Validating gradient for: model.fc1.weight\n",
            "Validating gradient for: model.fc1.bias\n",
            "Validating gradient for: model.fc2.weight\n",
            "Validating gradient for: model.fc2.bias\n",
            "Gradient check passed successfully!\n"
          ]
        },
        {
          "metadata": {
            "tags": null
          },
          "name": "stderr",
          "output_type": "stream",
          "text": [
            "100%|██████████| 7326/7326 [00:33<00:00, 217.52it/s]\n",
            "100%|██████████| 1832/1832 [00:05<00:00, 334.37it/s]"
          ]
        },
        {
          "metadata": {
            "tags": null
          },
          "name": "stdout",
          "output_type": "stream",
          "text": [
            "\n",
            "Epoch [3/10], Train Loss: 2.1661, Train Acc: 19.60%, Val Loss: 2.1793, Val Acc: 18.61%\n"
          ]
        },
        {
          "metadata": {
            "tags": null
          },
          "name": "stderr",
          "output_type": "stream",
          "text": [
            "\n"
          ]
        },
        {
          "metadata": {
            "tags": null
          },
          "name": "stdout",
          "output_type": "stream",
          "text": [
            "Validating gradient for: model.fc1.weight\n",
            "Validating gradient for: model.fc1.bias\n",
            "Validating gradient for: model.fc2.weight\n",
            "Validating gradient for: model.fc2.bias\n",
            "Gradient check passed successfully!\n"
          ]
        },
        {
          "metadata": {
            "tags": null
          },
          "name": "stderr",
          "output_type": "stream",
          "text": [
            "100%|██████████| 7326/7326 [00:35<00:00, 206.93it/s]\n",
            "100%|██████████| 1832/1832 [00:05<00:00, 310.11it/s]"
          ]
        },
        {
          "metadata": {
            "tags": null
          },
          "name": "stdout",
          "output_type": "stream",
          "text": [
            "\n",
            "Epoch [4/10], Train Loss: 2.1641, Train Acc: 19.51%, Val Loss: 2.1643, Val Acc: 19.29%\n"
          ]
        },
        {
          "metadata": {
            "tags": null
          },
          "name": "stderr",
          "output_type": "stream",
          "text": [
            "\n"
          ]
        },
        {
          "metadata": {
            "tags": null
          },
          "name": "stdout",
          "output_type": "stream",
          "text": [
            "Validating gradient for: model.fc1.weight\n",
            "Validating gradient for: model.fc1.bias\n",
            "Validating gradient for: model.fc2.weight\n",
            "Validating gradient for: model.fc2.bias\n",
            "Gradient check passed successfully!\n"
          ]
        },
        {
          "metadata": {
            "tags": null
          },
          "name": "stderr",
          "output_type": "stream",
          "text": [
            "100%|██████████| 7326/7326 [00:34<00:00, 212.34it/s]\n",
            "100%|██████████| 1832/1832 [00:07<00:00, 256.49it/s]"
          ]
        },
        {
          "metadata": {
            "tags": null
          },
          "name": "stdout",
          "output_type": "stream",
          "text": [
            "\n",
            "Epoch [5/10], Train Loss: 2.1641, Train Acc: 19.31%, Val Loss: 2.1532, Val Acc: 19.84%\n"
          ]
        },
        {
          "metadata": {
            "tags": null
          },
          "name": "stderr",
          "output_type": "stream",
          "text": [
            "\n"
          ]
        },
        {
          "metadata": {
            "tags": null
          },
          "name": "stdout",
          "output_type": "stream",
          "text": [
            "Validating gradient for: model.fc1.weight\n",
            "Validating gradient for: model.fc1.bias\n",
            "Validating gradient for: model.fc2.weight\n",
            "Validating gradient for: model.fc2.bias\n",
            "Gradient check passed successfully!\n"
          ]
        },
        {
          "metadata": {
            "tags": null
          },
          "name": "stderr",
          "output_type": "stream",
          "text": [
            "100%|██████████| 7326/7326 [00:33<00:00, 216.68it/s]\n",
            "100%|██████████| 1832/1832 [00:06<00:00, 272.59it/s]"
          ]
        },
        {
          "metadata": {
            "tags": null
          },
          "name": "stdout",
          "output_type": "stream",
          "text": [
            "\n",
            "Epoch [6/10], Train Loss: 2.1640, Train Acc: 19.43%, Val Loss: 2.1746, Val Acc: 18.60%\n"
          ]
        },
        {
          "metadata": {
            "tags": null
          },
          "name": "stderr",
          "output_type": "stream",
          "text": [
            "\n"
          ]
        },
        {
          "metadata": {
            "tags": null
          },
          "name": "stdout",
          "output_type": "stream",
          "text": [
            "Validating gradient for: model.fc1.weight\n",
            "Validating gradient for: model.fc1.bias\n",
            "Validating gradient for: model.fc2.weight\n",
            "Validating gradient for: model.fc2.bias\n",
            "Gradient check passed successfully!\n"
          ]
        },
        {
          "metadata": {
            "tags": null
          },
          "name": "stderr",
          "output_type": "stream",
          "text": [
            "100%|██████████| 7326/7326 [00:33<00:00, 219.34it/s]\n",
            "100%|██████████| 1832/1832 [00:05<00:00, 331.69it/s]"
          ]
        },
        {
          "metadata": {
            "tags": null
          },
          "name": "stdout",
          "output_type": "stream",
          "text": [
            "\n",
            "Epoch [7/10], Train Loss: 2.1631, Train Acc: 19.54%, Val Loss: 2.1530, Val Acc: 19.77%\n"
          ]
        },
        {
          "metadata": {
            "tags": null
          },
          "name": "stderr",
          "output_type": "stream",
          "text": [
            "\n"
          ]
        },
        {
          "metadata": {
            "tags": null
          },
          "name": "stdout",
          "output_type": "stream",
          "text": [
            "Validating gradient for: model.fc1.weight\n",
            "Validating gradient for: model.fc1.bias\n",
            "Validating gradient for: model.fc2.weight\n",
            "Validating gradient for: model.fc2.bias\n",
            "Gradient check passed successfully!\n"
          ]
        },
        {
          "metadata": {
            "tags": null
          },
          "name": "stderr",
          "output_type": "stream",
          "text": [
            "100%|██████████| 7326/7326 [00:35<00:00, 209.31it/s]\n",
            "100%|██████████| 1832/1832 [00:05<00:00, 332.03it/s]"
          ]
        },
        {
          "metadata": {
            "tags": null
          },
          "name": "stdout",
          "output_type": "stream",
          "text": [
            "\n",
            "Epoch [8/10], Train Loss: 2.1631, Train Acc: 19.51%, Val Loss: 2.1831, Val Acc: 18.95%\n"
          ]
        },
        {
          "metadata": {
            "tags": null
          },
          "name": "stderr",
          "output_type": "stream",
          "text": [
            "\n"
          ]
        },
        {
          "metadata": {
            "tags": null
          },
          "name": "stdout",
          "output_type": "stream",
          "text": [
            "Validating gradient for: model.fc1.weight\n",
            "Validating gradient for: model.fc1.bias\n",
            "Validating gradient for: model.fc2.weight\n",
            "Validating gradient for: model.fc2.bias\n",
            "Gradient check passed successfully!\n"
          ]
        },
        {
          "metadata": {
            "tags": null
          },
          "name": "stderr",
          "output_type": "stream",
          "text": [
            "100%|██████████| 7326/7326 [00:33<00:00, 219.62it/s]\n",
            "100%|██████████| 1832/1832 [00:07<00:00, 242.03it/s]"
          ]
        },
        {
          "metadata": {
            "tags": null
          },
          "name": "stdout",
          "output_type": "stream",
          "text": [
            "\n",
            "Epoch [9/10], Train Loss: 2.1627, Train Acc: 19.36%, Val Loss: 2.1691, Val Acc: 18.88%\n"
          ]
        },
        {
          "metadata": {
            "tags": null
          },
          "name": "stderr",
          "output_type": "stream",
          "text": [
            "\n"
          ]
        },
        {
          "metadata": {
            "tags": null
          },
          "name": "stdout",
          "output_type": "stream",
          "text": [
            "Validating gradient for: model.fc1.weight\n",
            "Validating gradient for: model.fc1.bias\n",
            "Validating gradient for: model.fc2.weight\n",
            "Validating gradient for: model.fc2.bias\n",
            "Gradient check passed successfully!\n"
          ]
        },
        {
          "metadata": {
            "tags": null
          },
          "name": "stderr",
          "output_type": "stream",
          "text": [
            "100%|██████████| 7326/7326 [00:33<00:00, 217.50it/s]\n",
            "100%|██████████| 1832/1832 [00:06<00:00, 286.64it/s]"
          ]
        },
        {
          "metadata": {
            "tags": null
          },
          "name": "stdout",
          "output_type": "stream",
          "text": [
            "\n",
            "Epoch [10/10], Train Loss: 2.1623, Train Acc: 19.38%, Val Loss: 2.1514, Val Acc: 19.81%\n"
          ]
        },
        {
          "metadata": {
            "tags": null
          },
          "name": "stderr",
          "output_type": "stream",
          "text": [
            "\n"
          ]
        },
        {
          "metadata": {
            "tags": null
          },
          "name": "stdout",
          "output_type": "stream",
          "text": [
            "Validating gradient for: model.fc1.weight\n",
            "Validating gradient for: model.fc1.bias\n",
            "Validating gradient for: model.fc2.weight\n",
            "Validating gradient for: model.fc2.bias\n",
            "Gradient check passed successfully!\n"
          ]
        },
        {
          "metadata": {
            "tags": null
          },
          "name": "stderr",
          "output_type": "stream",
          "text": [
            "100%|██████████| 3254/3254 [00:09<00:00, 327.13it/s]\n"
          ]
        },
        {
          "metadata": {
            "tags": null
          },
          "name": "stdout",
          "output_type": "stream",
          "text": [
            "Test Accuracy with learning rate 0.001 and weight_decay 0.0001: 20.96%\n"
          ]
        },
        {
          "data": {
            "image/png": "[encoded data removed]",
            "text/plain": [
              "<Figure size 640x480 with 1 Axes>"
            ]
          },
          "metadata": {},
          "output_type": "display_data"
        },
        {
          "metadata": {
            "tags": null
          },
          "name": "stdout",
          "output_type": "stream",
          "text": [
            "Training with lr=0.0001, wd=0.01, optimizer=<class 'torch.optim.rmsprop.RMSprop'>\n"
          ]
        },
        {
          "metadata": {
            "tags": null
          },
          "name": "stderr",
          "output_type": "stream",
          "text": [
            "100%|██████████| 7326/7326 [00:35<00:00, 208.36it/s]\n",
            "100%|██████████| 1832/1832 [00:05<00:00, 323.49it/s]"
          ]
        },
        {
          "metadata": {
            "tags": null
          },
          "name": "stdout",
          "output_type": "stream",
          "text": [
            "\n",
            "Epoch [1/10], Train Loss: 2.2303, Train Acc: 19.38%, Val Loss: 2.1787, Val Acc: 21.81%\n"
          ]
        },
        {
          "metadata": {
            "tags": null
          },
          "name": "stderr",
          "output_type": "stream",
          "text": [
            "\n"
          ]
        },
        {
          "metadata": {
            "tags": null
          },
          "name": "stdout",
          "output_type": "stream",
          "text": [
            "Validating gradient for: model.fc1.weight\n",
            "Gradient check failed for model.fc1.weight at index 29328\n"
          ]
        },
        {
          "metadata": {
            "tags": null
          },
          "name": "stderr",
          "output_type": "stream",
          "text": [
            "100%|██████████| 7326/7326 [00:34<00:00, 210.74it/s]\n",
            "100%|██████████| 1832/1832 [00:07<00:00, 248.05it/s]"
          ]
        },
        {
          "metadata": {
            "tags": null
          },
          "name": "stdout",
          "output_type": "stream",
          "text": [
            "\n",
            "Epoch [2/10], Train Loss: 2.0793, Train Acc: 25.87%, Val Loss: 1.9797, Val Acc: 30.79%\n"
          ]
        },
        {
          "metadata": {
            "tags": null
          },
          "name": "stderr",
          "output_type": "stream",
          "text": [
            "\n"
          ]
        },
        {
          "metadata": {
            "tags": null
          },
          "name": "stdout",
          "output_type": "stream",
          "text": [
            "Validating gradient for: model.fc1.weight\n",
            "Validating gradient for: model.fc1.bias\n",
            "Validating gradient for: model.fc2.weight\n",
            "Validating gradient for: model.fc2.bias\n",
            "Gradient check passed successfully!\n"
          ]
        },
        {
          "metadata": {
            "tags": null
          },
          "name": "stderr",
          "output_type": "stream",
          "text": [
            "100%|██████████| 7326/7326 [00:34<00:00, 212.82it/s]\n",
            "100%|██████████| 1832/1832 [00:06<00:00, 285.48it/s]"
          ]
        },
        {
          "metadata": {
            "tags": null
          },
          "name": "stdout",
          "output_type": "stream",
          "text": [
            "\n",
            "Epoch [3/10], Train Loss: 1.8953, Train Acc: 34.49%, Val Loss: 1.8294, Val Acc: 35.79%\n"
          ]
        },
        {
          "metadata": {
            "tags": null
          },
          "name": "stderr",
          "output_type": "stream",
          "text": [
            "\n"
          ]
        },
        {
          "metadata": {
            "tags": null
          },
          "name": "stdout",
          "output_type": "stream",
          "text": [
            "Validating gradient for: model.fc1.weight\n",
            "Validating gradient for: model.fc1.bias\n",
            "Validating gradient for: model.fc2.weight\n",
            "Validating gradient for: model.fc2.bias\n",
            "Gradient check passed successfully!\n"
          ]
        },
        {
          "metadata": {
            "tags": null
          },
          "name": "stderr",
          "output_type": "stream",
          "text": [
            "100%|██████████| 7326/7326 [00:34<00:00, 212.87it/s]\n",
            "100%|██████████| 1832/1832 [00:05<00:00, 326.57it/s]"
          ]
        },
        {
          "metadata": {
            "tags": null
          },
          "name": "stdout",
          "output_type": "stream",
          "text": [
            "\n",
            "Epoch [4/10], Train Loss: 1.7473, Train Acc: 41.14%, Val Loss: 1.7105, Val Acc: 44.00%\n"
          ]
        },
        {
          "metadata": {
            "tags": null
          },
          "name": "stderr",
          "output_type": "stream",
          "text": [
            "\n"
          ]
        },
        {
          "metadata": {
            "tags": null
          },
          "name": "stdout",
          "output_type": "stream",
          "text": [
            "Validating gradient for: model.fc1.weight\n",
            "Gradient check failed for model.fc1.weight at index 312064\n"
          ]
        },
        {
          "metadata": {
            "tags": null
          },
          "name": "stderr",
          "output_type": "stream",
          "text": [
            "100%|██████████| 7326/7326 [00:35<00:00, 207.65it/s]\n",
            "100%|██████████| 1832/1832 [00:05<00:00, 327.87it/s]"
          ]
        },
        {
          "metadata": {
            "tags": null
          },
          "name": "stdout",
          "output_type": "stream",
          "text": [
            "\n",
            "Epoch [5/10], Train Loss: 1.6543, Train Acc: 44.63%, Val Loss: 1.6184, Val Acc: 46.34%\n"
          ]
        },
        {
          "metadata": {
            "tags": null
          },
          "name": "stderr",
          "output_type": "stream",
          "text": [
            "\n"
          ]
        },
        {
          "metadata": {
            "tags": null
          },
          "name": "stdout",
          "output_type": "stream",
          "text": [
            "Validating gradient for: model.fc1.weight\n",
            "Gradient check failed for model.fc1.weight at index 304477\n"
          ]
        },
        {
          "metadata": {
            "tags": null
          },
          "name": "stderr",
          "output_type": "stream",
          "text": [
            "100%|██████████| 7326/7326 [00:33<00:00, 216.57it/s]\n",
            "100%|██████████| 1832/1832 [00:07<00:00, 247.04it/s]"
          ]
        },
        {
          "metadata": {
            "tags": null
          },
          "name": "stdout",
          "output_type": "stream",
          "text": [
            "\n",
            "Epoch [6/10], Train Loss: 1.5978, Train Acc: 46.92%, Val Loss: 1.5659, Val Acc: 49.63%\n"
          ]
        },
        {
          "metadata": {
            "tags": null
          },
          "name": "stderr",
          "output_type": "stream",
          "text": [
            "\n"
          ]
        },
        {
          "metadata": {
            "tags": null
          },
          "name": "stdout",
          "output_type": "stream",
          "text": [
            "Validating gradient for: model.fc1.weight\n",
            "Gradient check failed for model.fc1.weight at index 717205\n"
          ]
        },
        {
          "metadata": {
            "tags": null
          },
          "name": "stderr",
          "output_type": "stream",
          "text": [
            "100%|██████████| 7326/7326 [00:33<00:00, 219.68it/s]\n",
            "100%|██████████| 1832/1832 [00:05<00:00, 334.95it/s]"
          ]
        },
        {
          "metadata": {
            "tags": null
          },
          "name": "stdout",
          "output_type": "stream",
          "text": [
            "\n",
            "Epoch [7/10], Train Loss: 1.5588, Train Acc: 48.61%, Val Loss: 1.5786, Val Acc: 47.67%\n"
          ]
        },
        {
          "metadata": {
            "tags": null
          },
          "name": "stderr",
          "output_type": "stream",
          "text": [
            "\n"
          ]
        },
        {
          "metadata": {
            "tags": null
          },
          "name": "stdout",
          "output_type": "stream",
          "text": [
            "Validating gradient for: model.fc1.weight\n",
            "Validating gradient for: model.fc1.bias\n",
            "Validating gradient for: model.fc2.weight\n",
            "Validating gradient for: model.fc2.bias\n",
            "Gradient check passed successfully!\n"
          ]
        },
        {
          "metadata": {
            "tags": null
          },
          "name": "stderr",
          "output_type": "stream",
          "text": [
            "100%|██████████| 7326/7326 [00:35<00:00, 208.81it/s]\n",
            "100%|██████████| 1832/1832 [00:05<00:00, 328.48it/s]"
          ]
        },
        {
          "metadata": {
            "tags": null
          },
          "name": "stdout",
          "output_type": "stream",
          "text": [
            "\n",
            "Epoch [8/10], Train Loss: 1.5282, Train Acc: 49.90%, Val Loss: 1.5237, Val Acc: 49.52%\n"
          ]
        },
        {
          "metadata": {
            "tags": null
          },
          "name": "stderr",
          "output_type": "stream",
          "text": [
            "\n"
          ]
        },
        {
          "metadata": {
            "tags": null
          },
          "name": "stdout",
          "output_type": "stream",
          "text": [
            "Validating gradient for: model.fc1.weight\n",
            "Validating gradient for: model.fc1.bias\n",
            "Validating gradient for: model.fc2.weight\n",
            "Validating gradient for: model.fc2.bias\n",
            "Gradient check passed successfully!\n"
          ]
        },
        {
          "metadata": {
            "tags": null
          },
          "name": "stderr",
          "output_type": "stream",
          "text": [
            "100%|██████████| 7326/7326 [00:34<00:00, 212.55it/s]\n",
            "100%|██████████| 1832/1832 [00:05<00:00, 312.87it/s]"
          ]
        },
        {
          "metadata": {
            "tags": null
          },
          "name": "stdout",
          "output_type": "stream",
          "text": [
            "\n",
            "Epoch [9/10], Train Loss: 1.5037, Train Acc: 50.99%, Val Loss: 1.5571, Val Acc: 48.70%\n"
          ]
        },
        {
          "metadata": {
            "tags": null
          },
          "name": "stderr",
          "output_type": "stream",
          "text": [
            "\n"
          ]
        },
        {
          "metadata": {
            "tags": null
          },
          "name": "stdout",
          "output_type": "stream",
          "text": [
            "Validating gradient for: model.fc1.weight\n",
            "Gradient check failed for model.fc1.weight at index 468342\n"
          ]
        },
        {
          "metadata": {
            "tags": null
          },
          "name": "stderr",
          "output_type": "stream",
          "text": [
            "100%|██████████| 7326/7326 [00:34<00:00, 214.24it/s]\n",
            "100%|██████████| 1832/1832 [00:07<00:00, 247.86it/s]"
          ]
        },
        {
          "metadata": {
            "tags": null
          },
          "name": "stdout",
          "output_type": "stream",
          "text": [
            "\n",
            "Epoch [10/10], Train Loss: 1.4816, Train Acc: 52.16%, Val Loss: 1.5218, Val Acc: 51.40%\n"
          ]
        },
        {
          "metadata": {
            "tags": null
          },
          "name": "stderr",
          "output_type": "stream",
          "text": [
            "\n"
          ]
        },
        {
          "metadata": {
            "tags": null
          },
          "name": "stdout",
          "output_type": "stream",
          "text": [
            "Validating gradient for: model.fc1.weight\n",
            "Validating gradient for: model.fc1.bias\n",
            "Validating gradient for: model.fc2.weight\n",
            "Validating gradient for: model.fc2.bias\n",
            "Gradient check passed successfully!\n"
          ]
        },
        {
          "metadata": {
            "tags": null
          },
          "name": "stderr",
          "output_type": "stream",
          "text": [
            "100%|██████████| 3254/3254 [00:10<00:00, 316.91it/s]\n"
          ]
        },
        {
          "metadata": {
            "tags": null
          },
          "name": "stdout",
          "output_type": "stream",
          "text": [
            "Test Accuracy with learning rate 0.0001 and weight_decay 0.01: 48.35%\n"
          ]
        },
        {
          "data": {
            "image/png": "[encoded data removed]",
            "text/plain": [
              "<Figure size 640x480 with 1 Axes>"
            ]
          },
          "metadata": {},
          "output_type": "display_data"
        },
        {
          "metadata": {
            "tags": null
          },
          "name": "stdout",
          "output_type": "stream",
          "text": [
            "Training with lr=0.0001, wd=0.001, optimizer=<class 'torch.optim.rmsprop.RMSprop'>\n"
          ]
        },
        {
          "metadata": {
            "tags": null
          },
          "name": "stderr",
          "output_type": "stream",
          "text": [
            "100%|██████████| 7326/7326 [00:33<00:00, 217.79it/s]\n",
            "100%|██████████| 1832/1832 [00:05<00:00, 330.13it/s]"
          ]
        },
        {
          "metadata": {
            "tags": null
          },
          "name": "stdout",
          "output_type": "stream",
          "text": [
            "\n",
            "Epoch [1/10], Train Loss: 2.2266, Train Acc: 19.85%, Val Loss: 2.1677, Val Acc: 23.05%\n"
          ]
        },
        {
          "metadata": {
            "tags": null
          },
          "name": "stderr",
          "output_type": "stream",
          "text": [
            "\n"
          ]
        },
        {
          "metadata": {
            "tags": null
          },
          "name": "stdout",
          "output_type": "stream",
          "text": [
            "Validating gradient for: model.fc1.weight\n",
            "Gradient check failed for model.fc1.weight at index 190251\n"
          ]
        },
        {
          "metadata": {
            "tags": null
          },
          "name": "stderr",
          "output_type": "stream",
          "text": [
            "100%|██████████| 7326/7326 [00:35<00:00, 207.39it/s]\n",
            "100%|██████████| 1832/1832 [00:05<00:00, 320.35it/s]"
          ]
        },
        {
          "metadata": {
            "tags": null
          },
          "name": "stdout",
          "output_type": "stream",
          "text": [
            "\n",
            "Epoch [2/10], Train Loss: 2.0381, Train Acc: 27.58%, Val Loss: 1.9106, Val Acc: 36.06%\n"
          ]
        },
        {
          "metadata": {
            "tags": null
          },
          "name": "stderr",
          "output_type": "stream",
          "text": [
            "\n"
          ]
        },
        {
          "metadata": {
            "tags": null
          },
          "name": "stdout",
          "output_type": "stream",
          "text": [
            "Validating gradient for: model.fc1.weight\n",
            "Validating gradient for: model.fc1.bias\n",
            "Validating gradient for: model.fc2.weight\n",
            "Validating gradient for: model.fc2.bias\n",
            "Gradient check passed successfully!\n"
          ]
        },
        {
          "metadata": {
            "tags": null
          },
          "name": "stderr",
          "output_type": "stream",
          "text": [
            "100%|██████████| 7326/7326 [00:33<00:00, 215.64it/s]\n",
            "100%|██████████| 1832/1832 [00:07<00:00, 250.77it/s]"
          ]
        },
        {
          "metadata": {
            "tags": null
          },
          "name": "stdout",
          "output_type": "stream",
          "text": [
            "\n",
            "Epoch [3/10], Train Loss: 1.7809, Train Acc: 39.66%, Val Loss: 1.6704, Val Acc: 44.87%\n"
          ]
        },
        {
          "metadata": {
            "tags": null
          },
          "name": "stderr",
          "output_type": "stream",
          "text": [
            "\n"
          ]
        },
        {
          "metadata": {
            "tags": null
          },
          "name": "stdout",
          "output_type": "stream",
          "text": [
            "Validating gradient for: model.fc1.weight\n",
            "Validating gradient for: model.fc1.bias\n",
            "Validating gradient for: model.fc2.weight\n",
            "Validating gradient for: model.fc2.bias\n",
            "Gradient check passed successfully!\n"
          ]
        },
        {
          "metadata": {
            "tags": null
          },
          "name": "stderr",
          "output_type": "stream",
          "text": [
            "100%|██████████| 7326/7326 [00:33<00:00, 217.49it/s]\n",
            "100%|██████████| 1832/1832 [00:06<00:00, 302.36it/s]"
          ]
        },
        {
          "metadata": {
            "tags": null
          },
          "name": "stdout",
          "output_type": "stream",
          "text": [
            "\n",
            "Epoch [4/10], Train Loss: 1.5985, Train Acc: 47.53%, Val Loss: 1.5606, Val Acc: 48.67%\n"
          ]
        },
        {
          "metadata": {
            "tags": null
          },
          "name": "stderr",
          "output_type": "stream",
          "text": [
            "\n"
          ]
        },
        {
          "metadata": {
            "tags": null
          },
          "name": "stdout",
          "output_type": "stream",
          "text": [
            "Validating gradient for: model.fc1.weight\n",
            "Gradient check failed for model.fc1.weight at index 179770\n"
          ]
        },
        {
          "metadata": {
            "tags": null
          },
          "name": "stderr",
          "output_type": "stream",
          "text": [
            "100%|██████████| 7326/7326 [00:34<00:00, 210.72it/s]\n",
            "100%|██████████| 1832/1832 [00:06<00:00, 304.60it/s]"
          ]
        },
        {
          "metadata": {
            "tags": null
          },
          "name": "stdout",
          "output_type": "stream",
          "text": [
            "\n",
            "Epoch [5/10], Train Loss: 1.4864, Train Acc: 52.14%, Val Loss: 1.4726, Val Acc: 51.46%\n"
          ]
        },
        {
          "metadata": {
            "tags": null
          },
          "name": "stderr",
          "output_type": "stream",
          "text": [
            "\n"
          ]
        },
        {
          "metadata": {
            "tags": null
          },
          "name": "stdout",
          "output_type": "stream",
          "text": [
            "Validating gradient for: model.fc1.weight\n",
            "Validating gradient for: model.fc1.bias\n",
            "Validating gradient for: model.fc2.weight\n",
            "Validating gradient for: model.fc2.bias\n",
            "Gradient check passed successfully!\n"
          ]
        },
        {
          "metadata": {
            "tags": null
          },
          "name": "stderr",
          "output_type": "stream",
          "text": [
            "100%|██████████| 7326/7326 [00:36<00:00, 201.72it/s]\n",
            "100%|██████████| 1832/1832 [00:06<00:00, 304.15it/s]"
          ]
        },
        {
          "metadata": {
            "tags": null
          },
          "name": "stdout",
          "output_type": "stream",
          "text": [
            "\n",
            "Epoch [6/10], Train Loss: 1.4095, Train Acc: 55.53%, Val Loss: 1.3849, Val Acc: 56.98%\n"
          ]
        },
        {
          "metadata": {
            "tags": null
          },
          "name": "stderr",
          "output_type": "stream",
          "text": [
            "\n"
          ]
        },
        {
          "metadata": {
            "tags": null
          },
          "name": "stdout",
          "output_type": "stream",
          "text": [
            "Validating gradient for: model.fc1.weight\n",
            "Gradient check failed for model.fc1.weight at index 591750\n"
          ]
        },
        {
          "output_type": "stream",
          "name": "stderr",
          "text": [
            "100%|██████████| 7326/7326 [00:34<00:00, 210.11it/s]\n",
            "100%|██████████| 1832/1832 [00:07<00:00, 248.11it/s]"
          ]
        },
        {
          "output_type": "stream",
          "name": "stdout",
          "text": [
            "\n",
            "Epoch [7/10], Train Loss: 1.3516, Train Acc: 57.76%, Val Loss: 1.3240, Val Acc: 59.43%\n"
          ]
        },
        {
          "output_type": "stream",
          "name": "stderr",
          "text": [
            "\n"
          ]
        },
        {
          "output_type": "stream",
          "name": "stdout",
          "text": [
            "Validating gradient for: model.fc1.weight\n",
            "Gradient check failed for model.fc1.weight at index 59025\n"
          ]
        },
        {
          "output_type": "stream",
          "name": "stderr",
          "text": [
            "100%|██████████| 7326/7326 [00:34<00:00, 212.30it/s]\n",
            "100%|██████████| 1832/1832 [00:07<00:00, 255.21it/s]"
          ]
        },
        {
          "output_type": "stream",
          "name": "stdout",
          "text": [
            "\n",
            "Epoch [8/10], Train Loss: 1.3072, Train Acc: 59.19%, Val Loss: 1.3043, Val Acc: 58.88%\n"
          ]
        },
        {
          "output_type": "stream",
          "name": "stderr",
          "text": [
            "\n"
          ]
        },
        {
          "output_type": "stream",
          "name": "stdout",
          "text": [
            "Validating gradient for: model.fc1.weight\n",
            "Gradient check failed for model.fc1.weight at index 475728\n"
          ]
        },
        {
          "output_type": "stream",
          "name": "stderr",
          "text": [
            "100%|██████████| 7326/7326 [00:33<00:00, 215.98it/s]\n",
            "100%|██████████| 1832/1832 [00:06<00:00, 290.94it/s]"
          ]
        },
        {
          "output_type": "stream",
          "name": "stdout",
          "text": [
            "\n",
            "Epoch [9/10], Train Loss: 1.2710, Train Acc: 60.70%, Val Loss: 1.2446, Val Acc: 63.03%\n"
          ]
        },
        {
          "output_type": "stream",
          "name": "stderr",
          "text": [
            "\n"
          ]
        },
        {
          "output_type": "stream",
          "name": "stdout",
          "text": [
            "Validating gradient for: model.fc1.weight\n",
            "Gradient check failed for model.fc1.weight at index 533778\n"
          ]
        },
        {
          "output_type": "stream",
          "name": "stderr",
          "text": [
            "100%|██████████| 7326/7326 [00:34<00:00, 212.46it/s]\n",
            "100%|██████████| 1832/1832 [00:06<00:00, 301.64it/s]"
          ]
        },
        {
          "output_type": "stream",
          "name": "stdout",
          "text": [
            "\n",
            "Epoch [10/10], Train Loss: 1.2371, Train Acc: 62.07%, Val Loss: 1.2561, Val Acc: 61.45%\n"
          ]
        },
        {
          "output_type": "stream",
          "name": "stderr",
          "text": [
            "\n"
          ]
        },
        {
          "output_type": "stream",
          "name": "stdout",
          "text": [
            "Validating gradient for: model.fc1.weight\n",
            "Validating gradient for: model.fc1.bias\n",
            "Validating gradient for: model.fc2.weight\n",
            "Validating gradient for: model.fc2.bias\n",
            "Gradient check passed successfully!\n"
          ]
        },
        {
          "output_type": "stream",
          "name": "stderr",
          "text": [
            "100%|██████████| 3254/3254 [00:11<00:00, 276.35it/s]\n"
          ]
        },
        {
          "output_type": "stream",
          "name": "stdout",
          "text": [
            "Test Accuracy with learning rate 0.0001 and weight_decay 0.001: 57.35%\n"
          ]
        },
        {
          "output_type": "display_data",
          "data": {
            "text/plain": [
              "<Figure size 640x480 with 1 Axes>"
            ],
            "image/png": "[encoded data removed]"
          },
          "metadata": {}
        },
        {
          "output_type": "stream",
          "name": "stdout",
          "text": [
            "Training with lr=0.0001, wd=0.0001, optimizer=<class 'torch.optim.rmsprop.RMSprop'>\n"
          ]
        },
        {
          "output_type": "stream",
          "name": "stderr",
          "text": [
            "100%|██████████| 7326/7326 [00:35<00:00, 206.65it/s]\n",
            "100%|██████████| 1832/1832 [00:06<00:00, 297.54it/s]"
          ]
        },
        {
          "output_type": "stream",
          "name": "stdout",
          "text": [
            "\n",
            "Epoch [1/10], Train Loss: 2.2030, Train Acc: 20.88%, Val Loss: 2.0915, Val Acc: 26.86%\n"
          ]
        },
        {
          "output_type": "stream",
          "name": "stderr",
          "text": [
            "\n"
          ]
        },
        {
          "output_type": "stream",
          "name": "stdout",
          "text": [
            "Validating gradient for: model.fc1.weight\n",
            "Gradient check failed for model.fc1.weight at index 177224\n"
          ]
        },
        {
          "output_type": "stream",
          "name": "stderr",
          "text": [
            "100%|██████████| 7326/7326 [00:34<00:00, 213.87it/s]\n",
            "100%|██████████| 1832/1832 [00:07<00:00, 247.18it/s]"
          ]
        },
        {
          "output_type": "stream",
          "name": "stdout",
          "text": [
            "\n",
            "Epoch [2/10], Train Loss: 1.9044, Train Acc: 34.11%, Val Loss: 1.7431, Val Acc: 41.11%\n"
          ]
        },
        {
          "output_type": "stream",
          "name": "stderr",
          "text": [
            "\n"
          ]
        },
        {
          "output_type": "stream",
          "name": "stdout",
          "text": [
            "Validating gradient for: model.fc1.weight\n",
            "Gradient check failed for model.fc1.weight at index 293940\n"
          ]
        },
        {
          "output_type": "stream",
          "name": "stderr",
          "text": [
            "100%|██████████| 7326/7326 [00:33<00:00, 215.97it/s]\n",
            "100%|██████████| 1832/1832 [00:06<00:00, 281.35it/s]"
          ]
        },
        {
          "output_type": "stream",
          "name": "stdout",
          "text": [
            "\n",
            "Epoch [3/10], Train Loss: 1.6351, Train Acc: 46.11%, Val Loss: 1.5488, Val Acc: 49.28%\n"
          ]
        },
        {
          "output_type": "stream",
          "name": "stderr",
          "text": [
            "\n"
          ]
        },
        {
          "output_type": "stream",
          "name": "stdout",
          "text": [
            "Validating gradient for: model.fc1.weight\n",
            "Gradient check failed for model.fc1.weight at index 67109\n"
          ]
        },
        {
          "output_type": "stream",
          "name": "stderr",
          "text": [
            "100%|██████████| 7326/7326 [00:34<00:00, 213.34it/s]\n",
            "100%|██████████| 1832/1832 [00:05<00:00, 327.28it/s]"
          ]
        },
        {
          "output_type": "stream",
          "name": "stdout",
          "text": [
            "\n",
            "Epoch [4/10], Train Loss: 1.4725, Train Acc: 53.02%, Val Loss: 1.4274, Val Acc: 55.86%\n"
          ]
        },
        {
          "output_type": "stream",
          "name": "stderr",
          "text": [
            "\n"
          ]
        },
        {
          "output_type": "stream",
          "name": "stdout",
          "text": [
            "Validating gradient for: model.fc1.weight\n",
            "Validating gradient for: model.fc1.bias\n",
            "Validating gradient for: model.fc2.weight\n",
            "Validating gradient for: model.fc2.bias\n",
            "Gradient check passed successfully!\n"
          ]
        },
        {
          "output_type": "stream",
          "name": "stderr",
          "text": [
            "100%|██████████| 7326/7326 [00:36<00:00, 203.08it/s]\n",
            "100%|██████████| 1832/1832 [00:05<00:00, 325.87it/s]"
          ]
        },
        {
          "output_type": "stream",
          "name": "stdout",
          "text": [
            "\n",
            "Epoch [5/10], Train Loss: 1.3638, Train Acc: 57.19%, Val Loss: 1.3214, Val Acc: 58.03%\n"
          ]
        },
        {
          "output_type": "stream",
          "name": "stderr",
          "text": [
            "\n"
          ]
        },
        {
          "output_type": "stream",
          "name": "stdout",
          "text": [
            "Validating gradient for: model.fc1.weight\n",
            "Validating gradient for: model.fc1.bias\n",
            "Validating gradient for: model.fc2.weight\n",
            "Validating gradient for: model.fc2.bias\n",
            "Gradient check passed successfully!\n"
          ]
        },
        {
          "output_type": "stream",
          "name": "stderr",
          "text": [
            "100%|██████████| 7326/7326 [00:34<00:00, 215.19it/s]\n",
            "100%|██████████| 1832/1832 [00:07<00:00, 259.15it/s]"
          ]
        },
        {
          "output_type": "stream",
          "name": "stdout",
          "text": [
            "\n",
            "Epoch [6/10], Train Loss: 1.2849, Train Acc: 60.32%, Val Loss: 1.2759, Val Acc: 60.39%\n"
          ]
        },
        {
          "output_type": "stream",
          "name": "stderr",
          "text": [
            "\n"
          ]
        },
        {
          "output_type": "stream",
          "name": "stdout",
          "text": [
            "Validating gradient for: model.fc1.weight\n",
            "Gradient check failed for model.fc1.weight at index 509901\n"
          ]
        },
        {
          "output_type": "stream",
          "name": "stderr",
          "text": [
            "100%|██████████| 7326/7326 [00:33<00:00, 218.73it/s]\n",
            "100%|██████████| 1832/1832 [00:06<00:00, 262.81it/s]"
          ]
        },
        {
          "output_type": "stream",
          "name": "stdout",
          "text": [
            "\n",
            "Epoch [7/10], Train Loss: 1.2250, Train Acc: 62.46%, Val Loss: 1.1995, Val Acc: 64.11%\n"
          ]
        },
        {
          "output_type": "stream",
          "name": "stderr",
          "text": [
            "\n"
          ]
        },
        {
          "output_type": "stream",
          "name": "stdout",
          "text": [
            "Validating gradient for: model.fc1.weight\n",
            "Gradient check failed for model.fc1.weight at index 696414\n"
          ]
        },
        {
          "output_type": "stream",
          "name": "stderr",
          "text": [
            "100%|██████████| 7326/7326 [00:34<00:00, 214.54it/s]\n",
            "100%|██████████| 1832/1832 [00:06<00:00, 295.88it/s]"
          ]
        },
        {
          "output_type": "stream",
          "name": "stdout",
          "text": [
            "\n",
            "Epoch [8/10], Train Loss: 1.1797, Train Acc: 64.13%, Val Loss: 1.1531, Val Acc: 65.66%\n"
          ]
        },
        {
          "output_type": "stream",
          "name": "stderr",
          "text": [
            "\n"
          ]
        },
        {
          "output_type": "stream",
          "name": "stdout",
          "text": [
            "Validating gradient for: model.fc1.weight\n",
            "Gradient check failed for model.fc1.weight at index 568903\n"
          ]
        },
        {
          "output_type": "stream",
          "name": "stderr",
          "text": [
            "100%|██████████| 7326/7326 [00:35<00:00, 207.70it/s]\n",
            "100%|██████████| 1832/1832 [00:05<00:00, 327.63it/s]"
          ]
        },
        {
          "output_type": "stream",
          "name": "stdout",
          "text": [
            "\n",
            "Epoch [9/10], Train Loss: 1.1434, Train Acc: 65.35%, Val Loss: 1.1321, Val Acc: 66.53%\n"
          ]
        },
        {
          "output_type": "stream",
          "name": "stderr",
          "text": [
            "\n"
          ]
        },
        {
          "output_type": "stream",
          "name": "stdout",
          "text": [
            "Validating gradient for: model.fc1.weight\n",
            "Validating gradient for: model.fc1.bias\n",
            "Validating gradient for: model.fc2.weight\n",
            "Validating gradient for: model.fc2.bias\n",
            "Gradient check passed successfully!\n"
          ]
        },
        {
          "output_type": "stream",
          "name": "stderr",
          "text": [
            "100%|██████████| 7326/7326 [00:34<00:00, 210.19it/s]\n",
            "100%|██████████| 1832/1832 [00:05<00:00, 325.81it/s]"
          ]
        },
        {
          "output_type": "stream",
          "name": "stdout",
          "text": [
            "\n",
            "Epoch [10/10], Train Loss: 1.1135, Train Acc: 66.31%, Val Loss: 1.0999, Val Acc: 68.09%\n"
          ]
        },
        {
          "output_type": "stream",
          "name": "stderr",
          "text": [
            "\n"
          ]
        },
        {
          "output_type": "stream",
          "name": "stdout",
          "text": [
            "Validating gradient for: model.fc1.weight\n",
            "Gradient check failed for model.fc1.weight at index 81345\n"
          ]
        },
        {
          "output_type": "stream",
          "name": "stderr",
          "text": [
            "100%|██████████| 3254/3254 [00:11<00:00, 290.12it/s]\n"
          ]
        },
        {
          "output_type": "stream",
          "name": "stdout",
          "text": [
            "Test Accuracy with learning rate 0.0001 and weight_decay 0.0001: 63.22%\n"
          ]
        },
        {
          "output_type": "display_data",
          "data": {
            "text/plain": [
              "<Figure size 640x480 with 1 Axes>"
            ],
            "image/png": "[encoded data removed]"
          },
          "metadata": {}
        },
        {
          "output_type": "execute_result",
          "data": {
            "text/plain": [
              "  optimizer  learning_rate  weight_decay  val_accuracy\n",
              "0   RMSprop         0.0100        0.0100      0.189530\n",
              "0   RMSprop         0.0100        0.0010      0.189530\n",
              "0   RMSprop         0.0100        0.0001      0.189530\n",
              "0   RMSprop         0.0010        0.0100      0.189530\n",
              "0   RMSprop         0.0010        0.0010      0.199973\n",
              "0   RMSprop         0.0010        0.0001      0.198403\n",
              "0   RMSprop         0.0001        0.0100      0.513991\n",
              "0   RMSprop         0.0001        0.0010      0.630289\n",
              "0   RMSprop         0.0001        0.0001      0.680863"
            ],
            "text/html": [
              "\n",
              "  <div id=\"df-746e2efb-c099-4932-96e3-9f19a952d8bc\" class=\"colab-df-container\">\n",
              "    <div>\n",
              "<style scoped>\n",
              "    .dataframe tbody tr th:only-of-type {\n",
              "        vertical-align: middle;\n",
              "    }\n",
              "\n",
              "    .dataframe tbody tr th {\n",
              "        vertical-align: top;\n",
              "    }\n",
              "\n",
              "    .dataframe thead th {\n",
              "        text-align: right;\n",
              "    }\n",
              "</style>\n",
              "<table border=\"1\" class=\"dataframe\">\n",
              "  <thead>\n",
              "    <tr style=\"text-align: right;\">\n",
              "      <th></th>\n",
              "      <th>optimizer</th>\n",
              "      <th>learning_rate</th>\n",
              "      <th>weight_decay</th>\n",
              "      <th>val_accuracy</th>\n",
              "    </tr>\n",
              "  </thead>\n",
              "  <tbody>\n",
              "    <tr>\n",
              "      <th>0</th>\n",
              "      <td>RMSprop</td>\n",
              "      <td>0.0100</td>\n",
              "      <td>0.0100</td>\n",
              "      <td>0.189530</td>\n",
              "    </tr>\n",
              "    <tr>\n",
              "      <th>0</th>\n",
              "      <td>RMSprop</td>\n",
              "      <td>0.0100</td>\n",
              "      <td>0.0010</td>\n",
              "      <td>0.189530</td>\n",
              "    </tr>\n",
              "    <tr>\n",
              "      <th>0</th>\n",
              "      <td>RMSprop</td>\n",
              "      <td>0.0100</td>\n",
              "      <td>0.0001</td>\n",
              "      <td>0.189530</td>\n",
              "    </tr>\n",
              "    <tr>\n",
              "      <th>0</th>\n",
              "      <td>RMSprop</td>\n",
              "      <td>0.0010</td>\n",
              "      <td>0.0100</td>\n",
              "      <td>0.189530</td>\n",
              "    </tr>\n",
              "    <tr>\n",
              "      <th>0</th>\n",
              "      <td>RMSprop</td>\n",
              "      <td>0.0010</td>\n",
              "      <td>0.0010</td>\n",
              "      <td>0.199973</td>\n",
              "    </tr>\n",
              "    <tr>\n",
              "      <th>0</th>\n",
              "      <td>RMSprop</td>\n",
              "      <td>0.0010</td>\n",
              "      <td>0.0001</td>\n",
              "      <td>0.198403</td>\n",
              "    </tr>\n",
              "    <tr>\n",
              "      <th>0</th>\n",
              "      <td>RMSprop</td>\n",
              "      <td>0.0001</td>\n",
              "      <td>0.0100</td>\n",
              "      <td>0.513991</td>\n",
              "    </tr>\n",
              "    <tr>\n",
              "      <th>0</th>\n",
              "      <td>RMSprop</td>\n",
              "      <td>0.0001</td>\n",
              "      <td>0.0010</td>\n",
              "      <td>0.630289</td>\n",
              "    </tr>\n",
              "    <tr>\n",
              "      <th>0</th>\n",
              "      <td>RMSprop</td>\n",
              "      <td>0.0001</td>\n",
              "      <td>0.0001</td>\n",
              "      <td>0.680863</td>\n",
              "    </tr>\n",
              "  </tbody>\n",
              "</table>\n",
              "</div>\n",
              "    <div class=\"colab-df-buttons\">\n",
              "\n",
              "  <div class=\"colab-df-container\">\n",
              "    <button class=\"colab-df-convert\" onclick=\"convertToInteractive('df-746e2efb-c099-4932-96e3-9f19a952d8bc')\"\n",
              "            title=\"Convert this dataframe to an interactive table.\"\n",
              "            style=\"display:none;\">\n",
              "\n",
              "  <svg xmlns=\"http://www.w3.org/2000/svg\" height=\"24px\" viewBox=\"0 -960 960 960\">\n",
              "    <path d=\"M120-120v-720h720v720H120Zm60-500h600v-160H180v160Zm220 220h160v-160H400v160Zm0 220h160v-160H400v160ZM180-400h160v-160H180v160Zm440 0h160v-160H620v160ZM180-180h160v-160H180v160Zm440 0h160v-160H620v160Z\"/>\n",
              "  </svg>\n",
              "    </button>\n",
              "\n",
              "  <style>\n",
              "    .colab-df-container {\n",
              "      display:flex;\n",
              "      gap: 12px;\n",
              "    }\n",
              "\n",
              "    .colab-df-convert {\n",
              "      background-color: #E8F0FE;\n",
              "      border: none;\n",
              "      border-radius: 50%;\n",
              "      cursor: pointer;\n",
              "      display: none;\n",
              "      fill: #1967D2;\n",
              "      height: 32px;\n",
              "      padding: 0 0 0 0;\n",
              "      width: 32px;\n",
              "    }\n",
              "\n",
              "    .colab-df-convert:hover {\n",
              "      background-color: #E2EBFA;\n",
              "      box-shadow: 0px 1px 2px rgba(60, 64, 67, 0.3), 0px 1px 3px 1px rgba(60, 64, 67, 0.15);\n",
              "      fill: #174EA6;\n",
              "    }\n",
              "\n",
              "    .colab-df-buttons div {\n",
              "      margin-bottom: 4px;\n",
              "    }\n",
              "\n",
              "    [theme=dark] .colab-df-convert {\n",
              "      background-color: #3B4455;\n",
              "      fill: #D2E3FC;\n",
              "    }\n",
              "\n",
              "    [theme=dark] .colab-df-convert:hover {\n",
              "      background-color: #434B5C;\n",
              "      box-shadow: 0px 1px 3px 1px rgba(0, 0, 0, 0.15);\n",
              "      filter: drop-shadow(0px 1px 2px rgba(0, 0, 0, 0.3));\n",
              "      fill: #FFFFFF;\n",
              "    }\n",
              "  </style>\n",
              "\n",
              "    <script>\n",
              "      const buttonEl =\n",
              "        document.querySelector('#df-746e2efb-c099-4932-96e3-9f19a952d8bc button.colab-df-convert');\n",
              "      buttonEl.style.display =\n",
              "        google.colab.kernel.accessAllowed ? 'block' : 'none';\n",
              "\n",
              "      async function convertToInteractive(key) {\n",
              "        const element = document.querySelector('#df-746e2efb-c099-4932-96e3-9f19a952d8bc');\n",
              "        const dataTable =\n",
              "          await google.colab.kernel.invokeFunction('convertToInteractive',\n",
              "                                                    [key], {});\n",
              "        if (!dataTable) return;\n",
              "\n",
              "        const docLinkHtml = 'Like what you see? Visit the ' +\n",
              "          '<a target=\"_blank\" href=https://colab.research.google.com/notebooks/data_table.ipynb>data table notebook</a>'\n",
              "          + ' to learn more about interactive tables.';\n",
              "        element.innerHTML = '';\n",
              "        dataTable['output_type'] = 'display_data';\n",
              "        await google.colab.output.renderOutput(dataTable, element);\n",
              "        const docLink = document.createElement('div');\n",
              "        docLink.innerHTML = docLinkHtml;\n",
              "        element.appendChild(docLink);\n",
              "      }\n",
              "    </script>\n",
              "  </div>\n",
              "\n",
              "\n",
              "<div id=\"df-9be96baf-8db4-466c-b3c1-bc6c503cfbcd\">\n",
              "  <button class=\"colab-df-quickchart\" onclick=\"quickchart('df-9be96baf-8db4-466c-b3c1-bc6c503cfbcd')\"\n",
              "            title=\"Suggest charts\"\n",
              "            style=\"display:none;\">\n",
              "\n",
              "<svg xmlns=\"http://www.w3.org/2000/svg\" height=\"24px\"viewBox=\"0 0 24 24\"\n",
              "     width=\"24px\">\n",
              "    <g>\n",
              "        <path d=\"M19 3H5c-1.1 0-2 .9-2 2v14c0 1.1.9 2 2 2h14c1.1 0 2-.9 2-2V5c0-1.1-.9-2-2-2zM9 17H7v-7h2v7zm4 0h-2V7h2v10zm4 0h-2v-4h2v4z\"/>\n",
              "    </g>\n",
              "</svg>\n",
              "  </button>\n",
              "\n",
              "<style>\n",
              "  .colab-df-quickchart {\n",
              "      --bg-color: #E8F0FE;\n",
              "      --fill-color: #1967D2;\n",
              "      --hover-bg-color: #E2EBFA;\n",
              "      --hover-fill-color: #174EA6;\n",
              "      --disabled-fill-color: #AAA;\n",
              "      --disabled-bg-color: #DDD;\n",
              "  }\n",
              "\n",
              "  [theme=dark] .colab-df-quickchart {\n",
              "      --bg-color: #3B4455;\n",
              "      --fill-color: #D2E3FC;\n",
              "      --hover-bg-color: #434B5C;\n",
              "      --hover-fill-color: #FFFFFF;\n",
              "      --disabled-bg-color: #3B4455;\n",
              "      --disabled-fill-color: #666;\n",
              "  }\n",
              "\n",
              "  .colab-df-quickchart {\n",
              "    background-color: var(--bg-color);\n",
              "    border: none;\n",
              "    border-radius: 50%;\n",
              "    cursor: pointer;\n",
              "    display: none;\n",
              "    fill: var(--fill-color);\n",
              "    height: 32px;\n",
              "    padding: 0;\n",
              "    width: 32px;\n",
              "  }\n",
              "\n",
              "  .colab-df-quickchart:hover {\n",
              "    background-color: var(--hover-bg-color);\n",
              "    box-shadow: 0 1px 2px rgba(60, 64, 67, 0.3), 0 1px 3px 1px rgba(60, 64, 67, 0.15);\n",
              "    fill: var(--button-hover-fill-color);\n",
              "  }\n",
              "\n",
              "  .colab-df-quickchart-complete:disabled,\n",
              "  .colab-df-quickchart-complete:disabled:hover {\n",
              "    background-color: var(--disabled-bg-color);\n",
              "    fill: var(--disabled-fill-color);\n",
              "    box-shadow: none;\n",
              "  }\n",
              "\n",
              "  .colab-df-spinner {\n",
              "    border: 2px solid var(--fill-color);\n",
              "    border-color: transparent;\n",
              "    border-bottom-color: var(--fill-color);\n",
              "    animation:\n",
              "      spin 1s steps(1) infinite;\n",
              "  }\n",
              "\n",
              "  @keyframes spin {\n",
              "    0% {\n",
              "      border-color: transparent;\n",
              "      border-bottom-color: var(--fill-color);\n",
              "      border-left-color: var(--fill-color);\n",
              "    }\n",
              "    20% {\n",
              "      border-color: transparent;\n",
              "      border-left-color: var(--fill-color);\n",
              "      border-top-color: var(--fill-color);\n",
              "    }\n",
              "    30% {\n",
              "      border-color: transparent;\n",
              "      border-left-color: var(--fill-color);\n",
              "      border-top-color: var(--fill-color);\n",
              "      border-right-color: var(--fill-color);\n",
              "    }\n",
              "    40% {\n",
              "      border-color: transparent;\n",
              "      border-right-color: var(--fill-color);\n",
              "      border-top-color: var(--fill-color);\n",
              "    }\n",
              "    60% {\n",
              "      border-color: transparent;\n",
              "      border-right-color: var(--fill-color);\n",
              "    }\n",
              "    80% {\n",
              "      border-color: transparent;\n",
              "      border-right-color: var(--fill-color);\n",
              "      border-bottom-color: var(--fill-color);\n",
              "    }\n",
              "    90% {\n",
              "      border-color: transparent;\n",
              "      border-bottom-color: var(--fill-color);\n",
              "    }\n",
              "  }\n",
              "</style>\n",
              "\n",
              "  <script>\n",
              "    async function quickchart(key) {\n",
              "      const quickchartButtonEl =\n",
              "        document.querySelector('#' + key + ' button');\n",
              "      quickchartButtonEl.disabled = true;  // To prevent multiple clicks.\n",
              "      quickchartButtonEl.classList.add('colab-df-spinner');\n",
              "      try {\n",
              "        const charts = await google.colab.kernel.invokeFunction(\n",
              "            'suggestCharts', [key], {});\n",
              "      } catch (error) {\n",
              "        console.error('Error during call to suggestCharts:', error);\n",
              "      }\n",
              "      quickchartButtonEl.classList.remove('colab-df-spinner');\n",
              "      quickchartButtonEl.classList.add('colab-df-quickchart-complete');\n",
              "    }\n",
              "    (() => {\n",
              "      let quickchartButtonEl =\n",
              "        document.querySelector('#df-9be96baf-8db4-466c-b3c1-bc6c503cfbcd button');\n",
              "      quickchartButtonEl.style.display =\n",
              "        google.colab.kernel.accessAllowed ? 'block' : 'none';\n",
              "    })();\n",
              "  </script>\n",
              "</div>\n",
              "    </div>\n",
              "  </div>\n"
            ],
            "application/vnd.google.colaboratory.intrinsic+json": {
              "type": "dataframe",
              "summary": "{\n  \"name\": \"train_grid_search(results, 10, [0\",\n  \"rows\": 9,\n  \"fields\": [\n    {\n      \"column\": \"optimizer\",\n      \"properties\": {\n        \"dtype\": \"category\",\n        \"num_unique_values\": 1,\n        \"samples\": [\n          \"RMSprop\"\n        ],\n        \"semantic_type\": \"\",\n        \"description\": \"\"\n      }\n    },\n    {\n      \"column\": \"learning_rate\",\n      \"properties\": {\n        \"dtype\": \"number\",\n        \"std\": 0.004741044188783732,\n        \"min\": 0.0001,\n        \"max\": 0.01,\n        \"num_unique_values\": 3,\n        \"samples\": [\n          0.01\n        ],\n        \"semantic_type\": \"\",\n        \"description\": \"\"\n      }\n    },\n    {\n      \"column\": \"weight_decay\",\n      \"properties\": {\n        \"dtype\": \"number\",\n        \"std\": 0.004741044188783732,\n        \"min\": 0.0001,\n        \"max\": 0.01,\n        \"num_unique_values\": 3,\n        \"samples\": [\n          0.01\n        ],\n        \"semantic_type\": \"\",\n        \"description\": \"\"\n      }\n    },\n    {\n      \"column\": \"val_accuracy\",\n      \"properties\": {\n        \"dtype\": \"number\",\n        \"std\": 0.21221090160637746,\n        \"min\": 0.18953043953043952,\n        \"max\": 0.6808626808626809,\n        \"num_unique_values\": 6,\n        \"samples\": [\n          0.18953043953043952\n        ],\n        \"semantic_type\": \"\",\n        \"description\": \"\"\n      }\n    }\n  ]\n}"
            }
          },
          "metadata": {},
          "execution_count": 20
        }
      ]
    },
    {
      "cell_type": "markdown",
      "source": [
        "## Fine-tuning"
      ],
      "metadata": {
        "id": "CzuyeMEKxDRc"
      }
    },
    {
      "cell_type": "markdown",
      "source": [
        "Переобучим модель с 3 лучшими наборами параметров на 50 эпохах"
      ],
      "metadata": {
        "id": "UTCV4fUuxHUb"
      }
    },
    {
      "cell_type": "code",
      "source": [
        "results = pd.DataFrame(columns=['optimizer', 'learning_rate', 'weight_decay', 'val_accuracy'])"
      ],
      "metadata": {
        "id": "ybbZ49mzxNo1"
      },
      "execution_count": 15,
      "outputs": []
    },
    {
      "cell_type": "code",
      "source": [
        "train_grid_search(results, 50, [0.0001], [0.01, 0.001, 0.0001])"
      ],
      "metadata": {
        "colab": {
          "base_uri": "https://localhost:8080/",
          "height": 1000
        },
        "id": "TTxsTvr5xDAu",
        "outputId": "488cb968-1d84-44c5-d8e5-0d3329b19f63"
      },
      "execution_count": 16,
      "outputs": [
        {
          "metadata": {
            "tags": null
          },
          "name": "stdout",
          "output_type": "stream",
          "text": [
            "Training with lr=0.0001, wd=0.01, optimizer=<class 'torch.optim.rmsprop.RMSprop'>\n"
          ]
        },
        {
          "metadata": {
            "tags": null
          },
          "name": "stderr",
          "output_type": "stream",
          "text": [
            "100%|██████████| 7326/7326 [00:34<00:00, 209.66it/s]\n",
            "100%|██████████| 1832/1832 [00:07<00:00, 261.36it/s]"
          ]
        },
        {
          "metadata": {
            "tags": null
          },
          "name": "stdout",
          "output_type": "stream",
          "text": [
            "\n",
            "Epoch [1/50], Train Loss: 2.2304, Train Acc: 18.90%, Val Loss: 2.1803, Val Acc: 20.64%\n"
          ]
        },
        {
          "metadata": {
            "tags": null
          },
          "name": "stderr",
          "output_type": "stream",
          "text": [
            "\n"
          ]
        },
        {
          "metadata": {
            "tags": null
          },
          "name": "stdout",
          "output_type": "stream",
          "text": [
            "Validating gradient for: model.fc1.weight\n",
            "Gradient check failed for model.fc1.weight at index 685256\n"
          ]
        },
        {
          "metadata": {
            "tags": null
          },
          "name": "stderr",
          "output_type": "stream",
          "text": [
            "100%|██████████| 7326/7326 [00:35<00:00, 206.29it/s]\n",
            "100%|██████████| 1832/1832 [00:06<00:00, 279.23it/s]"
          ]
        },
        {
          "metadata": {
            "tags": null
          },
          "name": "stdout",
          "output_type": "stream",
          "text": [
            "\n",
            "Epoch [2/50], Train Loss: 2.0856, Train Acc: 25.36%, Val Loss: 1.9981, Val Acc: 32.14%\n"
          ]
        },
        {
          "metadata": {
            "tags": null
          },
          "name": "stderr",
          "output_type": "stream",
          "text": [
            "\n"
          ]
        },
        {
          "metadata": {
            "tags": null
          },
          "name": "stdout",
          "output_type": "stream",
          "text": [
            "Validating gradient for: model.fc1.weight\n",
            "Validating gradient for: model.fc1.bias\n",
            "Validating gradient for: model.fc2.weight\n",
            "Validating gradient for: model.fc2.bias\n",
            "Gradient check passed successfully!\n"
          ]
        },
        {
          "metadata": {
            "tags": null
          },
          "name": "stderr",
          "output_type": "stream",
          "text": [
            "100%|██████████| 7326/7326 [00:32<00:00, 226.93it/s]\n",
            "100%|██████████| 1832/1832 [00:05<00:00, 334.84it/s]"
          ]
        },
        {
          "metadata": {
            "tags": null
          },
          "name": "stdout",
          "output_type": "stream",
          "text": [
            "\n",
            "Epoch [3/50], Train Loss: 1.9098, Train Acc: 33.53%, Val Loss: 1.8254, Val Acc: 38.80%\n"
          ]
        },
        {
          "metadata": {
            "tags": null
          },
          "name": "stderr",
          "output_type": "stream",
          "text": [
            "\n"
          ]
        },
        {
          "metadata": {
            "tags": null
          },
          "name": "stdout",
          "output_type": "stream",
          "text": [
            "Validating gradient for: model.fc1.weight\n",
            "Validating gradient for: model.fc1.bias\n",
            "Validating gradient for: model.fc2.weight\n",
            "Validating gradient for: model.fc2.bias\n",
            "Gradient check passed successfully!\n"
          ]
        },
        {
          "metadata": {
            "tags": null
          },
          "name": "stderr",
          "output_type": "stream",
          "text": [
            "100%|██████████| 7326/7326 [00:32<00:00, 224.54it/s]\n",
            "100%|██████████| 1832/1832 [00:05<00:00, 315.08it/s]"
          ]
        },
        {
          "metadata": {
            "tags": null
          },
          "name": "stdout",
          "output_type": "stream",
          "text": [
            "\n",
            "Epoch [4/50], Train Loss: 1.7780, Train Acc: 40.27%, Val Loss: 1.7162, Val Acc: 43.73%\n"
          ]
        },
        {
          "metadata": {
            "tags": null
          },
          "name": "stderr",
          "output_type": "stream",
          "text": [
            "\n"
          ]
        },
        {
          "metadata": {
            "tags": null
          },
          "name": "stdout",
          "output_type": "stream",
          "text": [
            "Validating gradient for: model.fc1.weight\n",
            "Gradient check failed for model.fc1.weight at index 42678\n"
          ]
        },
        {
          "metadata": {
            "tags": null
          },
          "name": "stderr",
          "output_type": "stream",
          "text": [
            "100%|██████████| 7326/7326 [00:32<00:00, 227.79it/s]\n",
            "100%|██████████| 1832/1832 [00:06<00:00, 280.96it/s]"
          ]
        },
        {
          "metadata": {
            "tags": null
          },
          "name": "stdout",
          "output_type": "stream",
          "text": [
            "\n",
            "Epoch [5/50], Train Loss: 1.6914, Train Acc: 44.07%, Val Loss: 1.6602, Val Acc: 45.44%\n"
          ]
        },
        {
          "metadata": {
            "tags": null
          },
          "name": "stderr",
          "output_type": "stream",
          "text": [
            "\n"
          ]
        },
        {
          "metadata": {
            "tags": null
          },
          "name": "stdout",
          "output_type": "stream",
          "text": [
            "Validating gradient for: model.fc1.weight\n",
            "Validating gradient for: model.fc1.bias\n",
            "Validating gradient for: model.fc2.weight\n",
            "Validating gradient for: model.fc2.bias\n",
            "Gradient check passed successfully!\n"
          ]
        },
        {
          "metadata": {
            "tags": null
          },
          "name": "stderr",
          "output_type": "stream",
          "text": [
            "100%|██████████| 7326/7326 [00:31<00:00, 231.03it/s]\n",
            "100%|██████████| 1832/1832 [00:05<00:00, 327.94it/s]"
          ]
        },
        {
          "metadata": {
            "tags": null
          },
          "name": "stdout",
          "output_type": "stream",
          "text": [
            "\n",
            "Epoch [6/50], Train Loss: 1.6272, Train Acc: 47.12%, Val Loss: 1.5977, Val Acc: 48.39%\n"
          ]
        },
        {
          "metadata": {
            "tags": null
          },
          "name": "stderr",
          "output_type": "stream",
          "text": [
            "\n"
          ]
        },
        {
          "metadata": {
            "tags": null
          },
          "name": "stdout",
          "output_type": "stream",
          "text": [
            "Validating gradient for: model.fc1.weight\n",
            "Gradient check failed for model.fc1.weight at index 69807\n"
          ]
        },
        {
          "metadata": {
            "tags": null
          },
          "name": "stderr",
          "output_type": "stream",
          "text": [
            "100%|██████████| 7326/7326 [00:32<00:00, 223.99it/s]\n",
            "100%|██████████| 1832/1832 [00:06<00:00, 283.26it/s]"
          ]
        },
        {
          "metadata": {
            "tags": null
          },
          "name": "stdout",
          "output_type": "stream",
          "text": [
            "\n",
            "Epoch [7/50], Train Loss: 1.5754, Train Acc: 49.54%, Val Loss: 1.5442, Val Acc: 51.88%\n"
          ]
        },
        {
          "metadata": {
            "tags": null
          },
          "name": "stderr",
          "output_type": "stream",
          "text": [
            "\n"
          ]
        },
        {
          "metadata": {
            "tags": null
          },
          "name": "stdout",
          "output_type": "stream",
          "text": [
            "Validating gradient for: model.fc1.weight\n",
            "Gradient check failed for model.fc1.weight at index 20798\n"
          ]
        },
        {
          "metadata": {
            "tags": null
          },
          "name": "stderr",
          "output_type": "stream",
          "text": [
            "100%|██████████| 7326/7326 [00:31<00:00, 231.19it/s]\n",
            "100%|██████████| 1832/1832 [00:05<00:00, 356.15it/s]"
          ]
        },
        {
          "metadata": {
            "tags": null
          },
          "name": "stdout",
          "output_type": "stream",
          "text": [
            "\n",
            "Epoch [8/50], Train Loss: 1.5239, Train Acc: 51.65%, Val Loss: 1.5121, Val Acc: 52.18%\n"
          ]
        },
        {
          "metadata": {
            "tags": null
          },
          "name": "stderr",
          "output_type": "stream",
          "text": [
            "\n"
          ]
        },
        {
          "metadata": {
            "tags": null
          },
          "name": "stdout",
          "output_type": "stream",
          "text": [
            "Validating gradient for: model.fc1.weight\n",
            "Gradient check failed for model.fc1.weight at index 77832\n"
          ]
        },
        {
          "metadata": {
            "tags": null
          },
          "name": "stderr",
          "output_type": "stream",
          "text": [
            "100%|██████████| 7326/7326 [00:32<00:00, 223.87it/s]\n",
            "100%|██████████| 1832/1832 [00:05<00:00, 333.64it/s]"
          ]
        },
        {
          "metadata": {
            "tags": null
          },
          "name": "stdout",
          "output_type": "stream",
          "text": [
            "\n",
            "Epoch [9/50], Train Loss: 1.4836, Train Acc: 53.27%, Val Loss: 1.5288, Val Acc: 50.61%\n"
          ]
        },
        {
          "metadata": {
            "tags": null
          },
          "name": "stderr",
          "output_type": "stream",
          "text": [
            "\n"
          ]
        },
        {
          "metadata": {
            "tags": null
          },
          "name": "stdout",
          "output_type": "stream",
          "text": [
            "Validating gradient for: model.fc1.weight\n",
            "Gradient check failed for model.fc1.weight at index 280458\n"
          ]
        },
        {
          "metadata": {
            "tags": null
          },
          "name": "stderr",
          "output_type": "stream",
          "text": [
            "100%|██████████| 7326/7326 [00:32<00:00, 228.25it/s]\n",
            "100%|██████████| 1832/1832 [00:06<00:00, 268.90it/s]"
          ]
        },
        {
          "metadata": {
            "tags": null
          },
          "name": "stdout",
          "output_type": "stream",
          "text": [
            "\n",
            "Epoch [10/50], Train Loss: 1.4519, Train Acc: 54.25%, Val Loss: 1.4450, Val Acc: 55.42%\n"
          ]
        },
        {
          "metadata": {
            "tags": null
          },
          "name": "stderr",
          "output_type": "stream",
          "text": [
            "\n"
          ]
        },
        {
          "metadata": {
            "tags": null
          },
          "name": "stdout",
          "output_type": "stream",
          "text": [
            "Validating gradient for: model.fc1.weight\n",
            "Gradient check failed for model.fc1.weight at index 70476\n"
          ]
        },
        {
          "metadata": {
            "tags": null
          },
          "name": "stderr",
          "output_type": "stream",
          "text": [
            "100%|██████████| 7326/7326 [00:32<00:00, 228.74it/s]\n",
            "100%|██████████| 1832/1832 [00:05<00:00, 353.00it/s]"
          ]
        },
        {
          "metadata": {
            "tags": null
          },
          "name": "stdout",
          "output_type": "stream",
          "text": [
            "\n",
            "Epoch [11/50], Train Loss: 1.4251, Train Acc: 55.57%, Val Loss: 1.4027, Val Acc: 56.78%\n"
          ]
        },
        {
          "metadata": {
            "tags": null
          },
          "name": "stderr",
          "output_type": "stream",
          "text": [
            "\n"
          ]
        },
        {
          "metadata": {
            "tags": null
          },
          "name": "stdout",
          "output_type": "stream",
          "text": [
            "Validating gradient for: model.fc1.weight\n",
            "Gradient check failed for model.fc1.weight at index 77615\n"
          ]
        },
        {
          "metadata": {
            "tags": null
          },
          "name": "stderr",
          "output_type": "stream",
          "text": [
            "100%|██████████| 7326/7326 [00:32<00:00, 228.55it/s]\n",
            "100%|██████████| 1832/1832 [00:08<00:00, 225.16it/s]"
          ]
        },
        {
          "metadata": {
            "tags": null
          },
          "name": "stdout",
          "output_type": "stream",
          "text": [
            "\n",
            "Epoch [12/50], Train Loss: 1.4037, Train Acc: 56.29%, Val Loss: 1.4029, Val Acc: 56.60%\n"
          ]
        },
        {
          "metadata": {
            "tags": null
          },
          "name": "stderr",
          "output_type": "stream",
          "text": [
            "\n"
          ]
        },
        {
          "metadata": {
            "tags": null
          },
          "name": "stdout",
          "output_type": "stream",
          "text": [
            "Validating gradient for: model.fc1.weight\n",
            "Validating gradient for: model.fc1.bias\n",
            "Validating gradient for: model.fc2.weight\n",
            "Validating gradient for: model.fc2.bias\n",
            "Gradient check passed successfully!\n"
          ]
        },
        {
          "metadata": {
            "tags": null
          },
          "name": "stderr",
          "output_type": "stream",
          "text": [
            "100%|██████████| 7326/7326 [00:31<00:00, 229.51it/s]\n",
            "100%|██████████| 1832/1832 [00:06<00:00, 304.77it/s]"
          ]
        },
        {
          "metadata": {
            "tags": null
          },
          "name": "stdout",
          "output_type": "stream",
          "text": [
            "\n",
            "Epoch [13/50], Train Loss: 1.3845, Train Acc: 57.14%, Val Loss: 1.3761, Val Acc: 58.33%\n"
          ]
        },
        {
          "metadata": {
            "tags": null
          },
          "name": "stderr",
          "output_type": "stream",
          "text": [
            "\n"
          ]
        },
        {
          "metadata": {
            "tags": null
          },
          "name": "stdout",
          "output_type": "stream",
          "text": [
            "Validating gradient for: model.fc1.weight\n",
            "Validating gradient for: model.fc1.bias\n",
            "Validating gradient for: model.fc2.weight\n",
            "Validating gradient for: model.fc2.bias\n",
            "Gradient check passed successfully!\n"
          ]
        },
        {
          "metadata": {
            "tags": null
          },
          "name": "stderr",
          "output_type": "stream",
          "text": [
            "100%|██████████| 7326/7326 [00:32<00:00, 225.77it/s]\n",
            "100%|██████████| 1832/1832 [00:05<00:00, 352.33it/s]"
          ]
        },
        {
          "metadata": {
            "tags": null
          },
          "name": "stdout",
          "output_type": "stream",
          "text": [
            "\n",
            "Epoch [14/50], Train Loss: 1.3677, Train Acc: 57.74%, Val Loss: 1.3569, Val Acc: 60.09%\n"
          ]
        },
        {
          "metadata": {
            "tags": null
          },
          "name": "stderr",
          "output_type": "stream",
          "text": [
            "\n"
          ]
        },
        {
          "metadata": {
            "tags": null
          },
          "name": "stdout",
          "output_type": "stream",
          "text": [
            "Validating gradient for: model.fc1.weight\n",
            "Validating gradient for: model.fc1.bias\n",
            "Validating gradient for: model.fc2.weight\n",
            "Validating gradient for: model.fc2.bias\n",
            "Gradient check passed successfully!\n"
          ]
        },
        {
          "metadata": {
            "tags": null
          },
          "name": "stderr",
          "output_type": "stream",
          "text": [
            "100%|██████████| 7326/7326 [00:31<00:00, 231.22it/s]\n",
            "100%|██████████| 1832/1832 [00:06<00:00, 267.84it/s]"
          ]
        },
        {
          "metadata": {
            "tags": null
          },
          "name": "stdout",
          "output_type": "stream",
          "text": [
            "\n",
            "Epoch [15/50], Train Loss: 1.3537, Train Acc: 58.50%, Val Loss: 1.3673, Val Acc: 57.25%\n"
          ]
        },
        {
          "metadata": {
            "tags": null
          },
          "name": "stderr",
          "output_type": "stream",
          "text": [
            "\n"
          ]
        },
        {
          "metadata": {
            "tags": null
          },
          "name": "stdout",
          "output_type": "stream",
          "text": [
            "Validating gradient for: model.fc1.weight\n",
            "Validating gradient for: model.fc1.bias\n",
            "Validating gradient for: model.fc2.weight\n",
            "Validating gradient for: model.fc2.bias\n",
            "Gradient check passed successfully!\n"
          ]
        },
        {
          "metadata": {
            "tags": null
          },
          "name": "stderr",
          "output_type": "stream",
          "text": [
            "100%|██████████| 7326/7326 [00:31<00:00, 231.77it/s]\n",
            "100%|██████████| 1832/1832 [00:05<00:00, 365.21it/s]"
          ]
        },
        {
          "metadata": {
            "tags": null
          },
          "name": "stdout",
          "output_type": "stream",
          "text": [
            "\n",
            "Epoch [16/50], Train Loss: 1.3427, Train Acc: 58.85%, Val Loss: 1.3621, Val Acc: 58.01%\n"
          ]
        },
        {
          "metadata": {
            "tags": null
          },
          "name": "stderr",
          "output_type": "stream",
          "text": [
            "\n"
          ]
        },
        {
          "metadata": {
            "tags": null
          },
          "name": "stdout",
          "output_type": "stream",
          "text": [
            "Validating gradient for: model.fc1.weight\n",
            "Validating gradient for: model.fc1.bias\n",
            "Validating gradient for: model.fc2.weight\n",
            "Validating gradient for: model.fc2.bias\n",
            "Gradient check passed successfully!\n"
          ]
        },
        {
          "metadata": {
            "tags": null
          },
          "name": "stderr",
          "output_type": "stream",
          "text": [
            "100%|██████████| 7326/7326 [00:32<00:00, 224.57it/s]\n",
            "100%|██████████| 1832/1832 [00:05<00:00, 345.73it/s]"
          ]
        },
        {
          "metadata": {
            "tags": null
          },
          "name": "stdout",
          "output_type": "stream",
          "text": [
            "\n",
            "Epoch [17/50], Train Loss: 1.3330, Train Acc: 59.52%, Val Loss: 1.3406, Val Acc: 59.94%\n"
          ]
        },
        {
          "metadata": {
            "tags": null
          },
          "name": "stderr",
          "output_type": "stream",
          "text": [
            "\n"
          ]
        },
        {
          "metadata": {
            "tags": null
          },
          "name": "stdout",
          "output_type": "stream",
          "text": [
            "Validating gradient for: model.fc1.weight\n",
            "Validating gradient for: model.fc1.bias\n",
            "Validating gradient for: model.fc2.weight\n",
            "Validating gradient for: model.fc2.bias\n",
            "Gradient check passed successfully!\n"
          ]
        },
        {
          "metadata": {
            "tags": null
          },
          "name": "stderr",
          "output_type": "stream",
          "text": [
            "100%|██████████| 7326/7326 [00:31<00:00, 234.61it/s]\n",
            "100%|██████████| 1832/1832 [00:08<00:00, 224.56it/s]"
          ]
        },
        {
          "metadata": {
            "tags": null
          },
          "name": "stdout",
          "output_type": "stream",
          "text": [
            "\n",
            "Epoch [18/50], Train Loss: 1.3247, Train Acc: 59.74%, Val Loss: 1.3852, Val Acc: 55.16%\n"
          ]
        },
        {
          "metadata": {
            "tags": null
          },
          "name": "stderr",
          "output_type": "stream",
          "text": [
            "\n"
          ]
        },
        {
          "metadata": {
            "tags": null
          },
          "name": "stdout",
          "output_type": "stream",
          "text": [
            "Validating gradient for: model.fc1.weight\n",
            "Gradient check failed for model.fc1.weight at index 205262\n"
          ]
        },
        {
          "metadata": {
            "tags": null
          },
          "name": "stderr",
          "output_type": "stream",
          "text": [
            "100%|██████████| 7326/7326 [00:31<00:00, 231.58it/s]\n",
            "100%|██████████| 1832/1832 [00:05<00:00, 357.08it/s]"
          ]
        },
        {
          "metadata": {
            "tags": null
          },
          "name": "stdout",
          "output_type": "stream",
          "text": [
            "\n",
            "Epoch [19/50], Train Loss: 1.3174, Train Acc: 60.14%, Val Loss: 1.3244, Val Acc: 60.53%\n"
          ]
        },
        {
          "metadata": {
            "tags": null
          },
          "name": "stderr",
          "output_type": "stream",
          "text": [
            "\n"
          ]
        },
        {
          "metadata": {
            "tags": null
          },
          "name": "stdout",
          "output_type": "stream",
          "text": [
            "Validating gradient for: model.fc1.weight\n",
            "Gradient check failed for model.fc1.weight at index 591045\n"
          ]
        },
        {
          "metadata": {
            "tags": null
          },
          "name": "stderr",
          "output_type": "stream",
          "text": [
            "100%|██████████| 7326/7326 [00:31<00:00, 231.52it/s]\n",
            "100%|██████████| 1832/1832 [00:06<00:00, 269.92it/s]"
          ]
        },
        {
          "metadata": {
            "tags": null
          },
          "name": "stdout",
          "output_type": "stream",
          "text": [
            "\n",
            "Epoch [20/50], Train Loss: 1.3115, Train Acc: 60.38%, Val Loss: 1.3308, Val Acc: 59.59%\n"
          ]
        },
        {
          "metadata": {
            "tags": null
          },
          "name": "stderr",
          "output_type": "stream",
          "text": [
            "\n"
          ]
        },
        {
          "metadata": {
            "tags": null
          },
          "name": "stdout",
          "output_type": "stream",
          "text": [
            "Validating gradient for: model.fc1.weight\n",
            "Gradient check failed for model.fc1.weight at index 204693\n"
          ]
        },
        {
          "metadata": {
            "tags": null
          },
          "name": "stderr",
          "output_type": "stream",
          "text": [
            "100%|██████████| 7326/7326 [00:31<00:00, 233.73it/s]\n",
            "100%|██████████| 1832/1832 [00:05<00:00, 359.82it/s]"
          ]
        },
        {
          "metadata": {
            "tags": null
          },
          "name": "stdout",
          "output_type": "stream",
          "text": [
            "\n",
            "Epoch [21/50], Train Loss: 1.3051, Train Acc: 60.70%, Val Loss: 1.3181, Val Acc: 60.33%\n"
          ]
        },
        {
          "metadata": {
            "tags": null
          },
          "name": "stderr",
          "output_type": "stream",
          "text": [
            "\n"
          ]
        },
        {
          "metadata": {
            "tags": null
          },
          "name": "stdout",
          "output_type": "stream",
          "text": [
            "Validating gradient for: model.fc1.weight\n",
            "Gradient check failed for model.fc1.weight at index 69805\n"
          ]
        },
        {
          "metadata": {
            "tags": null
          },
          "name": "stderr",
          "output_type": "stream",
          "text": [
            "100%|██████████| 7326/7326 [00:32<00:00, 227.35it/s]\n",
            "100%|██████████| 1832/1832 [00:06<00:00, 276.33it/s]"
          ]
        },
        {
          "metadata": {
            "tags": null
          },
          "name": "stdout",
          "output_type": "stream",
          "text": [
            "\n",
            "Epoch [22/50], Train Loss: 1.3009, Train Acc: 60.81%, Val Loss: 1.3054, Val Acc: 61.34%\n"
          ]
        },
        {
          "metadata": {
            "tags": null
          },
          "name": "stderr",
          "output_type": "stream",
          "text": [
            "\n"
          ]
        },
        {
          "metadata": {
            "tags": null
          },
          "name": "stdout",
          "output_type": "stream",
          "text": [
            "Validating gradient for: model.fc1.weight\n",
            "Validating gradient for: model.fc1.bias\n",
            "Validating gradient for: model.fc2.weight\n",
            "Validating gradient for: model.fc2.bias\n",
            "Gradient check passed successfully!\n"
          ]
        },
        {
          "metadata": {
            "tags": null
          },
          "name": "stderr",
          "output_type": "stream",
          "text": [
            "100%|██████████| 7326/7326 [00:31<00:00, 235.01it/s]\n",
            "100%|██████████| 1832/1832 [00:05<00:00, 350.46it/s]"
          ]
        },
        {
          "metadata": {
            "tags": null
          },
          "name": "stdout",
          "output_type": "stream",
          "text": [
            "\n",
            "Epoch [23/50], Train Loss: 1.2980, Train Acc: 60.90%, Val Loss: 1.3240, Val Acc: 59.34%\n"
          ]
        },
        {
          "metadata": {
            "tags": null
          },
          "name": "stderr",
          "output_type": "stream",
          "text": [
            "\n"
          ]
        },
        {
          "metadata": {
            "tags": null
          },
          "name": "stdout",
          "output_type": "stream",
          "text": [
            "Validating gradient for: model.fc1.weight\n",
            "Validating gradient for: model.fc1.bias\n",
            "Validating gradient for: model.fc2.weight\n",
            "Validating gradient for: model.fc2.bias\n",
            "Gradient check passed successfully!\n"
          ]
        },
        {
          "metadata": {
            "tags": null
          },
          "name": "stderr",
          "output_type": "stream",
          "text": [
            "100%|██████████| 7326/7326 [00:32<00:00, 223.86it/s]\n",
            "100%|██████████| 1832/1832 [00:06<00:00, 285.89it/s]"
          ]
        },
        {
          "metadata": {
            "tags": null
          },
          "name": "stdout",
          "output_type": "stream",
          "text": [
            "\n",
            "Epoch [24/50], Train Loss: 1.2936, Train Acc: 61.15%, Val Loss: 1.2994, Val Acc: 61.39%\n"
          ]
        },
        {
          "metadata": {
            "tags": null
          },
          "name": "stderr",
          "output_type": "stream",
          "text": [
            "\n"
          ]
        },
        {
          "metadata": {
            "tags": null
          },
          "name": "stdout",
          "output_type": "stream",
          "text": [
            "Validating gradient for: model.fc1.weight\n",
            "Gradient check failed for model.fc1.weight at index 365566\n"
          ]
        },
        {
          "metadata": {
            "tags": null
          },
          "name": "stderr",
          "output_type": "stream",
          "text": [
            "100%|██████████| 7326/7326 [00:32<00:00, 227.86it/s]\n",
            "100%|██████████| 1832/1832 [00:06<00:00, 274.26it/s]"
          ]
        },
        {
          "metadata": {
            "tags": null
          },
          "name": "stdout",
          "output_type": "stream",
          "text": [
            "\n",
            "Epoch [25/50], Train Loss: 1.2895, Train Acc: 61.26%, Val Loss: 1.2998, Val Acc: 62.75%\n"
          ]
        },
        {
          "metadata": {
            "tags": null
          },
          "name": "stderr",
          "output_type": "stream",
          "text": [
            "\n"
          ]
        },
        {
          "metadata": {
            "tags": null
          },
          "name": "stdout",
          "output_type": "stream",
          "text": [
            "Validating gradient for: model.fc1.weight\n",
            "Gradient check failed for model.fc1.weight at index 70412\n"
          ]
        },
        {
          "metadata": {
            "tags": null
          },
          "name": "stderr",
          "output_type": "stream",
          "text": [
            "100%|██████████| 7326/7326 [00:32<00:00, 228.35it/s]\n",
            "100%|██████████| 1832/1832 [00:05<00:00, 347.60it/s]"
          ]
        },
        {
          "metadata": {
            "tags": null
          },
          "name": "stdout",
          "output_type": "stream",
          "text": [
            "\n",
            "Epoch [26/50], Train Loss: 1.2871, Train Acc: 61.40%, Val Loss: 1.2864, Val Acc: 62.27%\n"
          ]
        },
        {
          "metadata": {
            "tags": null
          },
          "name": "stderr",
          "output_type": "stream",
          "text": [
            "\n"
          ]
        },
        {
          "metadata": {
            "tags": null
          },
          "name": "stdout",
          "output_type": "stream",
          "text": [
            "Validating gradient for: model.fc1.weight\n",
            "Gradient check failed for model.fc1.weight at index 209099\n"
          ]
        },
        {
          "metadata": {
            "tags": null
          },
          "name": "stderr",
          "output_type": "stream",
          "text": [
            "100%|██████████| 7326/7326 [00:32<00:00, 227.17it/s]\n",
            "100%|██████████| 1832/1832 [00:05<00:00, 341.38it/s]"
          ]
        },
        {
          "metadata": {
            "tags": null
          },
          "name": "stdout",
          "output_type": "stream",
          "text": [
            "\n",
            "Epoch [27/50], Train Loss: 1.2841, Train Acc: 61.43%, Val Loss: 1.2877, Val Acc: 62.09%\n"
          ]
        },
        {
          "metadata": {
            "tags": null
          },
          "name": "stderr",
          "output_type": "stream",
          "text": [
            "\n"
          ]
        },
        {
          "metadata": {
            "tags": null
          },
          "name": "stdout",
          "output_type": "stream",
          "text": [
            "Validating gradient for: model.fc1.weight\n",
            "Validating gradient for: model.fc1.bias\n",
            "Validating gradient for: model.fc2.weight\n",
            "Validating gradient for: model.fc2.bias\n",
            "Gradient check passed successfully!\n"
          ]
        },
        {
          "metadata": {
            "tags": null
          },
          "name": "stderr",
          "output_type": "stream",
          "text": [
            "100%|██████████| 7326/7326 [00:31<00:00, 233.32it/s]\n",
            "100%|██████████| 1832/1832 [00:06<00:00, 299.20it/s]"
          ]
        },
        {
          "metadata": {
            "tags": null
          },
          "name": "stdout",
          "output_type": "stream",
          "text": [
            "\n",
            "Epoch [28/50], Train Loss: 1.2835, Train Acc: 61.47%, Val Loss: 1.3306, Val Acc: 58.80%\n"
          ]
        },
        {
          "metadata": {
            "tags": null
          },
          "name": "stderr",
          "output_type": "stream",
          "text": [
            "\n"
          ]
        },
        {
          "metadata": {
            "tags": null
          },
          "name": "stdout",
          "output_type": "stream",
          "text": [
            "Validating gradient for: model.fc1.weight\n",
            "Gradient check failed for model.fc1.weight at index 209103\n"
          ]
        },
        {
          "metadata": {
            "tags": null
          },
          "name": "stderr",
          "output_type": "stream",
          "text": [
            "100%|██████████| 7326/7326 [00:31<00:00, 229.50it/s]\n",
            "100%|██████████| 1832/1832 [00:05<00:00, 359.71it/s]"
          ]
        },
        {
          "metadata": {
            "tags": null
          },
          "name": "stdout",
          "output_type": "stream",
          "text": [
            "\n",
            "Epoch [29/50], Train Loss: 1.2806, Train Acc: 61.63%, Val Loss: 1.2865, Val Acc: 62.80%\n"
          ]
        },
        {
          "metadata": {
            "tags": null
          },
          "name": "stderr",
          "output_type": "stream",
          "text": [
            "\n"
          ]
        },
        {
          "metadata": {
            "tags": null
          },
          "name": "stdout",
          "output_type": "stream",
          "text": [
            "Validating gradient for: model.fc1.weight\n",
            "Gradient check failed for model.fc1.weight at index 382006\n"
          ]
        },
        {
          "metadata": {
            "tags": null
          },
          "name": "stderr",
          "output_type": "stream",
          "text": [
            "100%|██████████| 7326/7326 [00:33<00:00, 217.66it/s]\n",
            "100%|██████████| 1832/1832 [00:05<00:00, 344.87it/s]"
          ]
        },
        {
          "metadata": {
            "tags": null
          },
          "name": "stdout",
          "output_type": "stream",
          "text": [
            "\n",
            "Epoch [30/50], Train Loss: 1.2790, Train Acc: 61.63%, Val Loss: 1.3142, Val Acc: 59.97%\n"
          ]
        },
        {
          "metadata": {
            "tags": null
          },
          "name": "stderr",
          "output_type": "stream",
          "text": [
            "\n"
          ]
        },
        {
          "metadata": {
            "tags": null
          },
          "name": "stdout",
          "output_type": "stream",
          "text": [
            "Validating gradient for: model.fc1.weight\n",
            "Validating gradient for: model.fc1.bias\n",
            "Validating gradient for: model.fc2.weight\n",
            "Validating gradient for: model.fc2.bias\n",
            "Gradient check passed successfully!\n"
          ]
        },
        {
          "metadata": {
            "tags": null
          },
          "name": "stderr",
          "output_type": "stream",
          "text": [
            "100%|██████████| 7326/7326 [00:30<00:00, 236.86it/s]\n",
            "100%|██████████| 1832/1832 [00:06<00:00, 288.71it/s]"
          ]
        },
        {
          "metadata": {
            "tags": null
          },
          "name": "stdout",
          "output_type": "stream",
          "text": [
            "\n",
            "Epoch [31/50], Train Loss: 1.2773, Train Acc: 61.79%, Val Loss: 1.2723, Val Acc: 63.07%\n"
          ]
        },
        {
          "metadata": {
            "tags": null
          },
          "name": "stderr",
          "output_type": "stream",
          "text": [
            "\n"
          ]
        },
        {
          "metadata": {
            "tags": null
          },
          "name": "stdout",
          "output_type": "stream",
          "text": [
            "Validating gradient for: model.fc1.weight\n",
            "Gradient check failed for model.fc1.weight at index 685576\n"
          ]
        },
        {
          "metadata": {
            "tags": null
          },
          "name": "stderr",
          "output_type": "stream",
          "text": [
            "100%|██████████| 7326/7326 [00:31<00:00, 235.87it/s]\n",
            "100%|██████████| 1832/1832 [00:05<00:00, 356.03it/s]"
          ]
        },
        {
          "metadata": {
            "tags": null
          },
          "name": "stdout",
          "output_type": "stream",
          "text": [
            "\n",
            "Epoch [32/50], Train Loss: 1.2777, Train Acc: 61.60%, Val Loss: 1.2834, Val Acc: 62.39%\n"
          ]
        },
        {
          "metadata": {
            "tags": null
          },
          "name": "stderr",
          "output_type": "stream",
          "text": [
            "\n"
          ]
        },
        {
          "metadata": {
            "tags": null
          },
          "name": "stdout",
          "output_type": "stream",
          "text": [
            "Validating gradient for: model.fc1.weight\n",
            "Validating gradient for: model.fc1.bias\n",
            "Validating gradient for: model.fc2.weight\n",
            "Validating gradient for: model.fc2.bias\n",
            "Gradient check passed successfully!\n"
          ]
        },
        {
          "metadata": {
            "tags": null
          },
          "name": "stderr",
          "output_type": "stream",
          "text": [
            "100%|██████████| 7326/7326 [00:31<00:00, 234.27it/s]\n",
            "100%|██████████| 1832/1832 [00:06<00:00, 273.02it/s]"
          ]
        },
        {
          "metadata": {
            "tags": null
          },
          "name": "stdout",
          "output_type": "stream",
          "text": [
            "\n",
            "Epoch [33/50], Train Loss: 1.2758, Train Acc: 61.82%, Val Loss: 1.2794, Val Acc: 61.83%\n"
          ]
        },
        {
          "metadata": {
            "tags": null
          },
          "name": "stderr",
          "output_type": "stream",
          "text": [
            "\n"
          ]
        },
        {
          "metadata": {
            "tags": null
          },
          "name": "stdout",
          "output_type": "stream",
          "text": [
            "Validating gradient for: model.fc1.weight\n",
            "Gradient check failed for model.fc1.weight at index 325410\n"
          ]
        },
        {
          "metadata": {
            "tags": null
          },
          "name": "stderr",
          "output_type": "stream",
          "text": [
            "100%|██████████| 7326/7326 [00:31<00:00, 232.17it/s]\n",
            "100%|██████████| 1832/1832 [00:05<00:00, 326.40it/s]"
          ]
        },
        {
          "metadata": {
            "tags": null
          },
          "name": "stdout",
          "output_type": "stream",
          "text": [
            "\n",
            "Epoch [34/50], Train Loss: 1.2750, Train Acc: 61.79%, Val Loss: 1.2656, Val Acc: 63.35%\n"
          ]
        },
        {
          "metadata": {
            "tags": null
          },
          "name": "stderr",
          "output_type": "stream",
          "text": [
            "\n"
          ]
        },
        {
          "metadata": {
            "tags": null
          },
          "name": "stdout",
          "output_type": "stream",
          "text": [
            "Validating gradient for: model.fc1.weight\n",
            "Gradient check failed for model.fc1.weight at index 68255\n"
          ]
        },
        {
          "metadata": {
            "tags": null
          },
          "name": "stderr",
          "output_type": "stream",
          "text": [
            "100%|██████████| 7326/7326 [00:33<00:00, 219.82it/s]\n",
            "100%|██████████| 1832/1832 [00:05<00:00, 346.27it/s]"
          ]
        },
        {
          "metadata": {
            "tags": null
          },
          "name": "stdout",
          "output_type": "stream",
          "text": [
            "\n",
            "Epoch [35/50], Train Loss: 1.2728, Train Acc: 61.84%, Val Loss: 1.2725, Val Acc: 61.68%\n"
          ]
        },
        {
          "metadata": {
            "tags": null
          },
          "name": "stderr",
          "output_type": "stream",
          "text": [
            "\n"
          ]
        },
        {
          "metadata": {
            "tags": null
          },
          "name": "stdout",
          "output_type": "stream",
          "text": [
            "Validating gradient for: model.fc1.weight\n",
            "Gradient check failed for model.fc1.weight at index 323619\n"
          ]
        },
        {
          "metadata": {
            "tags": null
          },
          "name": "stderr",
          "output_type": "stream",
          "text": [
            "100%|██████████| 7326/7326 [00:34<00:00, 215.46it/s]\n",
            "100%|██████████| 1832/1832 [00:07<00:00, 259.67it/s]"
          ]
        },
        {
          "metadata": {
            "tags": null
          },
          "name": "stdout",
          "output_type": "stream",
          "text": [
            "\n",
            "Epoch [36/50], Train Loss: 1.2731, Train Acc: 61.77%, Val Loss: 1.2773, Val Acc: 62.22%\n"
          ]
        },
        {
          "metadata": {
            "tags": null
          },
          "name": "stderr",
          "output_type": "stream",
          "text": [
            "\n"
          ]
        },
        {
          "metadata": {
            "tags": null
          },
          "name": "stdout",
          "output_type": "stream",
          "text": [
            "Validating gradient for: model.fc1.weight\n",
            "Validating gradient for: model.fc1.bias\n",
            "Validating gradient for: model.fc2.weight\n",
            "Validating gradient for: model.fc2.bias\n",
            "Gradient check passed successfully!\n"
          ]
        },
        {
          "metadata": {
            "tags": null
          },
          "name": "stderr",
          "output_type": "stream",
          "text": [
            "100%|██████████| 7326/7326 [00:31<00:00, 229.94it/s]\n",
            "100%|██████████| 1832/1832 [00:05<00:00, 326.59it/s]"
          ]
        },
        {
          "metadata": {
            "tags": null
          },
          "name": "stdout",
          "output_type": "stream",
          "text": [
            "\n",
            "Epoch [37/50], Train Loss: 1.2715, Train Acc: 61.91%, Val Loss: 1.3434, Val Acc: 58.67%\n"
          ]
        },
        {
          "metadata": {
            "tags": null
          },
          "name": "stderr",
          "output_type": "stream",
          "text": [
            "\n"
          ]
        },
        {
          "metadata": {
            "tags": null
          },
          "name": "stdout",
          "output_type": "stream",
          "text": [
            "Validating gradient for: model.fc1.weight\n",
            "Validating gradient for: model.fc1.bias\n",
            "Validating gradient for: model.fc2.weight\n",
            "Validating gradient for: model.fc2.bias\n",
            "Gradient check passed successfully!\n"
          ]
        },
        {
          "metadata": {
            "tags": null
          },
          "name": "stderr",
          "output_type": "stream",
          "text": [
            "100%|██████████| 7326/7326 [00:33<00:00, 220.97it/s]\n",
            "100%|██████████| 1832/1832 [00:06<00:00, 284.31it/s]"
          ]
        },
        {
          "metadata": {
            "tags": null
          },
          "name": "stdout",
          "output_type": "stream",
          "text": [
            "\n",
            "Epoch [38/50], Train Loss: 1.2695, Train Acc: 61.96%, Val Loss: 1.2796, Val Acc: 61.68%\n"
          ]
        },
        {
          "metadata": {
            "tags": null
          },
          "name": "stderr",
          "output_type": "stream",
          "text": [
            "\n"
          ]
        },
        {
          "metadata": {
            "tags": null
          },
          "name": "stdout",
          "output_type": "stream",
          "text": [
            "Validating gradient for: model.fc1.weight\n",
            "Gradient check failed for model.fc1.weight at index 203580\n"
          ]
        },
        {
          "metadata": {
            "tags": null
          },
          "name": "stderr",
          "output_type": "stream",
          "text": [
            "100%|██████████| 7326/7326 [00:40<00:00, 182.18it/s]\n",
            "100%|██████████| 1832/1832 [00:05<00:00, 354.50it/s]"
          ]
        },
        {
          "metadata": {
            "tags": null
          },
          "name": "stdout",
          "output_type": "stream",
          "text": [
            "\n",
            "Epoch [39/50], Train Loss: 1.2694, Train Acc: 62.08%, Val Loss: 1.3096, Val Acc: 58.76%\n"
          ]
        },
        {
          "metadata": {
            "tags": null
          },
          "name": "stderr",
          "output_type": "stream",
          "text": [
            "\n"
          ]
        },
        {
          "metadata": {
            "tags": null
          },
          "name": "stdout",
          "output_type": "stream",
          "text": [
            "Validating gradient for: model.fc1.weight\n",
            "Gradient check failed for model.fc1.weight at index 209728\n"
          ]
        },
        {
          "metadata": {
            "tags": null
          },
          "name": "stderr",
          "output_type": "stream",
          "text": [
            "100%|██████████| 7326/7326 [00:41<00:00, 175.92it/s]\n",
            "100%|██████████| 1832/1832 [00:06<00:00, 291.54it/s]"
          ]
        },
        {
          "metadata": {
            "tags": null
          },
          "name": "stdout",
          "output_type": "stream",
          "text": [
            "\n",
            "Epoch [40/50], Train Loss: 1.2683, Train Acc: 62.06%, Val Loss: 1.2845, Val Acc: 60.66%\n"
          ]
        },
        {
          "metadata": {
            "tags": null
          },
          "name": "stderr",
          "output_type": "stream",
          "text": [
            "\n"
          ]
        },
        {
          "metadata": {
            "tags": null
          },
          "name": "stdout",
          "output_type": "stream",
          "text": [
            "Validating gradient for: model.fc1.weight\n",
            "Gradient check failed for model.fc1.weight at index 686327\n"
          ]
        },
        {
          "metadata": {
            "tags": null
          },
          "name": "stderr",
          "output_type": "stream",
          "text": [
            "100%|██████████| 7326/7326 [00:40<00:00, 179.33it/s]\n",
            "100%|██████████| 1832/1832 [00:06<00:00, 283.52it/s]"
          ]
        },
        {
          "metadata": {
            "tags": null
          },
          "name": "stdout",
          "output_type": "stream",
          "text": [
            "\n",
            "Epoch [41/50], Train Loss: 1.2676, Train Acc: 62.12%, Val Loss: 1.3156, Val Acc: 58.84%\n"
          ]
        },
        {
          "metadata": {
            "tags": null
          },
          "name": "stderr",
          "output_type": "stream",
          "text": [
            "\n"
          ]
        },
        {
          "metadata": {
            "tags": null
          },
          "name": "stdout",
          "output_type": "stream",
          "text": [
            "Validating gradient for: model.fc1.weight\n",
            "Gradient check failed for model.fc1.weight at index 279728\n"
          ]
        },
        {
          "metadata": {
            "tags": null
          },
          "name": "stderr",
          "output_type": "stream",
          "text": [
            "100%|██████████| 7326/7326 [00:37<00:00, 197.61it/s]\n",
            "100%|██████████| 1832/1832 [00:06<00:00, 276.20it/s]"
          ]
        },
        {
          "metadata": {
            "tags": null
          },
          "name": "stdout",
          "output_type": "stream",
          "text": [
            "\n",
            "Epoch [42/50], Train Loss: 1.2674, Train Acc: 62.06%, Val Loss: 1.2992, Val Acc: 61.08%\n"
          ]
        },
        {
          "metadata": {
            "tags": null
          },
          "name": "stderr",
          "output_type": "stream",
          "text": [
            "\n"
          ]
        },
        {
          "metadata": {
            "tags": null
          },
          "name": "stdout",
          "output_type": "stream",
          "text": [
            "Validating gradient for: model.fc1.weight\n",
            "Validating gradient for: model.fc1.bias\n",
            "Validating gradient for: model.fc2.weight\n",
            "Validating gradient for: model.fc2.bias\n",
            "Gradient check passed successfully!\n"
          ]
        },
        {
          "metadata": {
            "tags": null
          },
          "name": "stderr",
          "output_type": "stream",
          "text": [
            "100%|██████████| 7326/7326 [00:47<00:00, 152.82it/s]\n",
            "100%|██████████| 1832/1832 [00:11<00:00, 156.11it/s]"
          ]
        },
        {
          "metadata": {
            "tags": null
          },
          "name": "stdout",
          "output_type": "stream",
          "text": [
            "\n",
            "Epoch [43/50], Train Loss: 1.2674, Train Acc: 62.31%, Val Loss: 1.3103, Val Acc: 61.24%\n"
          ]
        },
        {
          "metadata": {
            "tags": null
          },
          "name": "stderr",
          "output_type": "stream",
          "text": [
            "\n"
          ]
        },
        {
          "metadata": {
            "tags": null
          },
          "name": "stdout",
          "output_type": "stream",
          "text": [
            "Validating gradient for: model.fc1.weight\n",
            "Validating gradient for: model.fc1.bias\n",
            "Validating gradient for: model.fc2.weight\n",
            "Validating gradient for: model.fc2.bias\n",
            "Gradient check passed successfully!\n"
          ]
        },
        {
          "metadata": {
            "tags": null
          },
          "name": "stderr",
          "output_type": "stream",
          "text": [
            "100%|██████████| 7326/7326 [00:35<00:00, 206.31it/s]\n",
            "100%|██████████| 1832/1832 [00:06<00:00, 265.27it/s]"
          ]
        },
        {
          "metadata": {
            "tags": null
          },
          "name": "stdout",
          "output_type": "stream",
          "text": [
            "\n",
            "Epoch [44/50], Train Loss: 1.2669, Train Acc: 62.24%, Val Loss: 1.2733, Val Acc: 62.37%\n"
          ]
        },
        {
          "metadata": {
            "tags": null
          },
          "name": "stderr",
          "output_type": "stream",
          "text": [
            "\n"
          ]
        },
        {
          "metadata": {
            "tags": null
          },
          "name": "stdout",
          "output_type": "stream",
          "text": [
            "Validating gradient for: model.fc1.weight\n",
            "Validating gradient for: model.fc1.bias\n",
            "Validating gradient for: model.fc2.weight\n",
            "Validating gradient for: model.fc2.bias\n",
            "Gradient check passed successfully!\n"
          ]
        },
        {
          "metadata": {
            "tags": null
          },
          "name": "stderr",
          "output_type": "stream",
          "text": [
            "100%|██████████| 7326/7326 [00:32<00:00, 226.23it/s]\n",
            "100%|██████████| 1832/1832 [00:05<00:00, 348.30it/s]"
          ]
        },
        {
          "metadata": {
            "tags": null
          },
          "name": "stdout",
          "output_type": "stream",
          "text": [
            "\n",
            "Epoch [45/50], Train Loss: 1.2665, Train Acc: 62.22%, Val Loss: 1.2596, Val Acc: 62.83%\n"
          ]
        },
        {
          "metadata": {
            "tags": null
          },
          "name": "stderr",
          "output_type": "stream",
          "text": [
            "\n"
          ]
        },
        {
          "metadata": {
            "tags": null
          },
          "name": "stdout",
          "output_type": "stream",
          "text": [
            "Validating gradient for: model.fc1.weight\n",
            "Validating gradient for: model.fc1.bias\n",
            "Validating gradient for: model.fc2.weight\n",
            "Validating gradient for: model.fc2.bias\n",
            "Gradient check passed successfully!\n"
          ]
        },
        {
          "metadata": {
            "tags": null
          },
          "name": "stderr",
          "output_type": "stream",
          "text": [
            "100%|██████████| 7326/7326 [00:36<00:00, 203.50it/s]\n",
            "100%|██████████| 1832/1832 [00:05<00:00, 342.48it/s]"
          ]
        },
        {
          "metadata": {
            "tags": null
          },
          "name": "stdout",
          "output_type": "stream",
          "text": [
            "\n",
            "Epoch [46/50], Train Loss: 1.2666, Train Acc: 62.19%, Val Loss: 1.3008, Val Acc: 61.68%\n"
          ]
        },
        {
          "metadata": {
            "tags": null
          },
          "name": "stderr",
          "output_type": "stream",
          "text": [
            "\n"
          ]
        },
        {
          "metadata": {
            "tags": null
          },
          "name": "stdout",
          "output_type": "stream",
          "text": [
            "Validating gradient for: model.fc1.weight\n",
            "Validating gradient for: model.fc1.bias\n",
            "Validating gradient for: model.fc2.weight\n",
            "Gradient check failed for model.fc2.weight at index 580\n"
          ]
        },
        {
          "metadata": {
            "tags": null
          },
          "name": "stderr",
          "output_type": "stream",
          "text": [
            "100%|██████████| 7326/7326 [00:31<00:00, 231.15it/s]\n",
            "100%|██████████| 1832/1832 [00:06<00:00, 265.70it/s]"
          ]
        },
        {
          "metadata": {
            "tags": null
          },
          "name": "stdout",
          "output_type": "stream",
          "text": [
            "\n",
            "Epoch [47/50], Train Loss: 1.2651, Train Acc: 62.10%, Val Loss: 1.2981, Val Acc: 61.88%\n"
          ]
        },
        {
          "metadata": {
            "tags": null
          },
          "name": "stderr",
          "output_type": "stream",
          "text": [
            "\n"
          ]
        },
        {
          "metadata": {
            "tags": null
          },
          "name": "stdout",
          "output_type": "stream",
          "text": [
            "Validating gradient for: model.fc1.weight\n",
            "Gradient check failed for model.fc1.weight at index 560170\n"
          ]
        },
        {
          "metadata": {
            "tags": null
          },
          "name": "stderr",
          "output_type": "stream",
          "text": [
            "100%|██████████| 7326/7326 [00:32<00:00, 226.93it/s]\n",
            "100%|██████████| 1832/1832 [00:05<00:00, 357.55it/s]"
          ]
        },
        {
          "metadata": {
            "tags": null
          },
          "name": "stdout",
          "output_type": "stream",
          "text": [
            "\n",
            "Epoch [48/50], Train Loss: 1.2649, Train Acc: 62.33%, Val Loss: 1.2714, Val Acc: 62.88%\n"
          ]
        },
        {
          "metadata": {
            "tags": null
          },
          "name": "stderr",
          "output_type": "stream",
          "text": [
            "\n"
          ]
        },
        {
          "metadata": {
            "tags": null
          },
          "name": "stdout",
          "output_type": "stream",
          "text": [
            "Validating gradient for: model.fc1.weight\n",
            "Gradient check failed for model.fc1.weight at index 362603\n"
          ]
        },
        {
          "metadata": {
            "tags": null
          },
          "name": "stderr",
          "output_type": "stream",
          "text": [
            "100%|██████████| 7326/7326 [00:32<00:00, 227.82it/s]\n",
            "100%|██████████| 1832/1832 [00:06<00:00, 284.33it/s]"
          ]
        },
        {
          "metadata": {
            "tags": null
          },
          "name": "stdout",
          "output_type": "stream",
          "text": [
            "\n",
            "Epoch [49/50], Train Loss: 1.2658, Train Acc: 62.29%, Val Loss: 1.3143, Val Acc: 59.21%\n"
          ]
        },
        {
          "metadata": {
            "tags": null
          },
          "name": "stderr",
          "output_type": "stream",
          "text": [
            "\n"
          ]
        },
        {
          "metadata": {
            "tags": null
          },
          "name": "stdout",
          "output_type": "stream",
          "text": [
            "Validating gradient for: model.fc1.weight\n",
            "Gradient check failed for model.fc1.weight at index 80240\n"
          ]
        },
        {
          "metadata": {
            "tags": null
          },
          "name": "stderr",
          "output_type": "stream",
          "text": [
            "100%|██████████| 7326/7326 [00:31<00:00, 230.79it/s]\n",
            "100%|██████████| 1832/1832 [00:05<00:00, 344.63it/s]"
          ]
        },
        {
          "metadata": {
            "tags": null
          },
          "name": "stdout",
          "output_type": "stream",
          "text": [
            "\n",
            "Epoch [50/50], Train Loss: 1.2637, Train Acc: 62.39%, Val Loss: 1.2689, Val Acc: 62.20%\n"
          ]
        },
        {
          "metadata": {
            "tags": null
          },
          "name": "stderr",
          "output_type": "stream",
          "text": [
            "\n"
          ]
        },
        {
          "metadata": {
            "tags": null
          },
          "name": "stdout",
          "output_type": "stream",
          "text": [
            "Validating gradient for: model.fc1.weight\n",
            "Validating gradient for: model.fc1.bias\n",
            "Validating gradient for: model.fc2.weight\n",
            "Validating gradient for: model.fc2.bias\n",
            "Gradient check passed successfully!\n"
          ]
        },
        {
          "metadata": {
            "tags": null
          },
          "name": "stderr",
          "output_type": "stream",
          "text": [
            "100%|██████████| 3254/3254 [00:10<00:00, 301.04it/s]\n"
          ]
        },
        {
          "metadata": {
            "tags": null
          },
          "name": "stdout",
          "output_type": "stream",
          "text": [
            "Test Accuracy with learning rate 0.0001 and weight_decay 0.01: 59.19%\n"
          ]
        },
        {
          "data": {
            "image/png": "[encoded data removed]",
            "text/plain": [
              "<Figure size 640x480 with 1 Axes>"
            ]
          },
          "metadata": {},
          "output_type": "display_data"
        },
        {
          "metadata": {
            "tags": null
          },
          "name": "stdout",
          "output_type": "stream",
          "text": [
            "Training with lr=0.0001, wd=0.001, optimizer=<class 'torch.optim.rmsprop.RMSprop'>\n"
          ]
        },
        {
          "metadata": {
            "tags": null
          },
          "name": "stderr",
          "output_type": "stream",
          "text": [
            "100%|██████████| 7326/7326 [00:32<00:00, 225.53it/s]\n",
            "100%|██████████| 1832/1832 [00:06<00:00, 280.13it/s]"
          ]
        },
        {
          "metadata": {
            "tags": null
          },
          "name": "stdout",
          "output_type": "stream",
          "text": [
            "\n",
            "Epoch [1/50], Train Loss: 2.2007, Train Acc: 19.79%, Val Loss: 2.1007, Val Acc: 22.90%\n"
          ]
        },
        {
          "metadata": {
            "tags": null
          },
          "name": "stderr",
          "output_type": "stream",
          "text": [
            "\n"
          ]
        },
        {
          "metadata": {
            "tags": null
          },
          "name": "stdout",
          "output_type": "stream",
          "text": [
            "Validating gradient for: model.fc1.weight\n",
            "Gradient check failed for model.fc1.weight at index 275118\n"
          ]
        },
        {
          "metadata": {
            "tags": null
          },
          "name": "stderr",
          "output_type": "stream",
          "text": [
            "100%|██████████| 7326/7326 [00:33<00:00, 218.35it/s]\n",
            "100%|██████████| 1832/1832 [00:05<00:00, 350.62it/s]"
          ]
        },
        {
          "metadata": {
            "tags": null
          },
          "name": "stdout",
          "output_type": "stream",
          "text": [
            "\n",
            "Epoch [2/50], Train Loss: 1.9658, Train Acc: 29.99%, Val Loss: 1.8779, Val Acc: 32.70%\n"
          ]
        },
        {
          "metadata": {
            "tags": null
          },
          "name": "stderr",
          "output_type": "stream",
          "text": [
            "\n"
          ]
        },
        {
          "metadata": {
            "tags": null
          },
          "name": "stdout",
          "output_type": "stream",
          "text": [
            "Validating gradient for: model.fc1.weight\n",
            "Validating gradient for: model.fc1.bias\n",
            "Validating gradient for: model.fc2.weight\n",
            "Validating gradient for: model.fc2.bias\n",
            "Gradient check passed successfully!\n"
          ]
        },
        {
          "metadata": {
            "tags": null
          },
          "name": "stderr",
          "output_type": "stream",
          "text": [
            "100%|██████████| 7326/7326 [00:32<00:00, 223.78it/s]\n",
            "100%|██████████| 1832/1832 [00:05<00:00, 334.61it/s]"
          ]
        },
        {
          "metadata": {
            "tags": null
          },
          "name": "stdout",
          "output_type": "stream",
          "text": [
            "\n",
            "Epoch [3/50], Train Loss: 1.7333, Train Acc: 41.35%, Val Loss: 1.6395, Val Acc: 46.69%\n"
          ]
        },
        {
          "metadata": {
            "tags": null
          },
          "name": "stderr",
          "output_type": "stream",
          "text": [
            "\n"
          ]
        },
        {
          "metadata": {
            "tags": null
          },
          "name": "stdout",
          "output_type": "stream",
          "text": [
            "Validating gradient for: model.fc1.weight\n",
            "Validating gradient for: model.fc1.bias\n",
            "Validating gradient for: model.fc2.weight\n",
            "Validating gradient for: model.fc2.bias\n",
            "Gradient check passed successfully!\n"
          ]
        },
        {
          "metadata": {
            "tags": null
          },
          "name": "stderr",
          "output_type": "stream",
          "text": [
            "100%|██████████| 7326/7326 [00:31<00:00, 229.88it/s]\n",
            "100%|██████████| 1832/1832 [00:06<00:00, 279.75it/s]"
          ]
        },
        {
          "metadata": {
            "tags": null
          },
          "name": "stdout",
          "output_type": "stream",
          "text": [
            "\n",
            "Epoch [4/50], Train Loss: 1.5695, Train Acc: 48.99%, Val Loss: 1.5071, Val Acc: 51.17%\n"
          ]
        },
        {
          "metadata": {
            "tags": null
          },
          "name": "stderr",
          "output_type": "stream",
          "text": [
            "\n"
          ]
        },
        {
          "metadata": {
            "tags": null
          },
          "name": "stdout",
          "output_type": "stream",
          "text": [
            "Validating gradient for: model.fc1.weight\n",
            "Validating gradient for: model.fc1.bias\n",
            "Validating gradient for: model.fc2.weight\n",
            "Validating gradient for: model.fc2.bias\n",
            "Gradient check passed successfully!\n"
          ]
        },
        {
          "metadata": {
            "tags": null
          },
          "name": "stderr",
          "output_type": "stream",
          "text": [
            "100%|██████████| 7326/7326 [00:31<00:00, 229.64it/s]\n",
            "100%|██████████| 1832/1832 [00:05<00:00, 350.02it/s]"
          ]
        },
        {
          "metadata": {
            "tags": null
          },
          "name": "stdout",
          "output_type": "stream",
          "text": [
            "\n",
            "Epoch [5/50], Train Loss: 1.4476, Train Acc: 53.69%, Val Loss: 1.3980, Val Acc: 56.87%\n"
          ]
        },
        {
          "metadata": {
            "tags": null
          },
          "name": "stderr",
          "output_type": "stream",
          "text": [
            "\n"
          ]
        },
        {
          "metadata": {
            "tags": null
          },
          "name": "stdout",
          "output_type": "stream",
          "text": [
            "Validating gradient for: model.fc1.weight\n",
            "Validating gradient for: model.fc1.bias\n",
            "Validating gradient for: model.fc2.weight\n",
            "Validating gradient for: model.fc2.bias\n",
            "Gradient check passed successfully!\n"
          ]
        },
        {
          "metadata": {
            "tags": null
          },
          "name": "stderr",
          "output_type": "stream",
          "text": [
            "100%|██████████| 7326/7326 [00:31<00:00, 229.65it/s]\n",
            "100%|██████████| 1832/1832 [00:06<00:00, 293.76it/s]"
          ]
        },
        {
          "metadata": {
            "tags": null
          },
          "name": "stdout",
          "output_type": "stream",
          "text": [
            "\n",
            "Epoch [6/50], Train Loss: 1.3615, Train Acc: 57.04%, Val Loss: 1.3556, Val Acc: 58.09%\n"
          ]
        },
        {
          "metadata": {
            "tags": null
          },
          "name": "stderr",
          "output_type": "stream",
          "text": [
            "\n"
          ]
        },
        {
          "metadata": {
            "tags": null
          },
          "name": "stdout",
          "output_type": "stream",
          "text": [
            "Validating gradient for: model.fc1.weight\n",
            "Validating gradient for: model.fc1.bias\n",
            "Validating gradient for: model.fc2.weight\n",
            "Validating gradient for: model.fc2.bias\n",
            "Gradient check passed successfully!\n"
          ]
        },
        {
          "metadata": {
            "tags": null
          },
          "name": "stderr",
          "output_type": "stream",
          "text": [
            "100%|██████████| 7326/7326 [00:31<00:00, 232.32it/s]\n",
            "100%|██████████| 1832/1832 [00:05<00:00, 328.83it/s]"
          ]
        },
        {
          "metadata": {
            "tags": null
          },
          "name": "stdout",
          "output_type": "stream",
          "text": [
            "\n",
            "Epoch [7/50], Train Loss: 1.2988, Train Acc: 59.45%, Val Loss: 1.2684, Val Acc: 61.43%\n"
          ]
        },
        {
          "metadata": {
            "tags": null
          },
          "name": "stderr",
          "output_type": "stream",
          "text": [
            "\n"
          ]
        },
        {
          "metadata": {
            "tags": null
          },
          "name": "stdout",
          "output_type": "stream",
          "text": [
            "Validating gradient for: model.fc1.weight\n",
            "Validating gradient for: model.fc1.bias\n",
            "Validating gradient for: model.fc2.weight\n",
            "Validating gradient for: model.fc2.bias\n",
            "Gradient check passed successfully!\n"
          ]
        },
        {
          "metadata": {
            "tags": null
          },
          "name": "stderr",
          "output_type": "stream",
          "text": [
            "100%|██████████| 7326/7326 [00:34<00:00, 214.56it/s]\n",
            "100%|██████████| 1832/1832 [00:05<00:00, 342.65it/s]"
          ]
        },
        {
          "metadata": {
            "tags": null
          },
          "name": "stdout",
          "output_type": "stream",
          "text": [
            "\n",
            "Epoch [8/50], Train Loss: 1.2480, Train Acc: 61.40%, Val Loss: 1.2600, Val Acc: 60.53%\n"
          ]
        },
        {
          "metadata": {
            "tags": null
          },
          "name": "stderr",
          "output_type": "stream",
          "text": [
            "\n"
          ]
        },
        {
          "metadata": {
            "tags": null
          },
          "name": "stdout",
          "output_type": "stream",
          "text": [
            "Validating gradient for: model.fc1.weight\n",
            "Validating gradient for: model.fc1.bias\n",
            "Validating gradient for: model.fc2.weight\n",
            "Validating gradient for: model.fc2.bias\n",
            "Gradient check passed successfully!\n"
          ]
        },
        {
          "metadata": {
            "tags": null
          },
          "name": "stderr",
          "output_type": "stream",
          "text": [
            "100%|██████████| 7326/7326 [00:31<00:00, 229.63it/s]\n",
            "100%|██████████| 1832/1832 [00:06<00:00, 277.72it/s]"
          ]
        },
        {
          "metadata": {
            "tags": null
          },
          "name": "stdout",
          "output_type": "stream",
          "text": [
            "\n",
            "Epoch [9/50], Train Loss: 1.2077, Train Acc: 63.07%, Val Loss: 1.1874, Val Acc: 64.26%\n"
          ]
        },
        {
          "metadata": {
            "tags": null
          },
          "name": "stderr",
          "output_type": "stream",
          "text": [
            "\n"
          ]
        },
        {
          "metadata": {
            "tags": null
          },
          "name": "stdout",
          "output_type": "stream",
          "text": [
            "Validating gradient for: model.fc1.weight\n",
            "Validating gradient for: model.fc1.bias\n",
            "Validating gradient for: model.fc2.weight\n",
            "Validating gradient for: model.fc2.bias\n",
            "Gradient check passed successfully!\n"
          ]
        },
        {
          "metadata": {
            "tags": null
          },
          "name": "stderr",
          "output_type": "stream",
          "text": [
            "100%|██████████| 7326/7326 [00:31<00:00, 230.89it/s]\n",
            "100%|██████████| 1832/1832 [00:05<00:00, 341.00it/s]"
          ]
        },
        {
          "metadata": {
            "tags": null
          },
          "name": "stdout",
          "output_type": "stream",
          "text": [
            "\n",
            "Epoch [10/50], Train Loss: 1.1743, Train Acc: 64.11%, Val Loss: 1.1600, Val Acc: 65.25%\n"
          ]
        },
        {
          "metadata": {
            "tags": null
          },
          "name": "stderr",
          "output_type": "stream",
          "text": [
            "\n"
          ]
        },
        {
          "metadata": {
            "tags": null
          },
          "name": "stdout",
          "output_type": "stream",
          "text": [
            "Validating gradient for: model.fc1.weight\n",
            "Gradient check failed for model.fc1.weight at index 169927\n"
          ]
        },
        {
          "metadata": {
            "tags": null
          },
          "name": "stderr",
          "output_type": "stream",
          "text": [
            "100%|██████████| 7326/7326 [00:40<00:00, 181.46it/s]\n",
            "100%|██████████| 1832/1832 [00:05<00:00, 348.44it/s]"
          ]
        },
        {
          "metadata": {
            "tags": null
          },
          "name": "stdout",
          "output_type": "stream",
          "text": [
            "\n",
            "Epoch [11/50], Train Loss: 1.1474, Train Acc: 64.88%, Val Loss: 1.1557, Val Acc: 64.92%\n"
          ]
        },
        {
          "metadata": {
            "tags": null
          },
          "name": "stderr",
          "output_type": "stream",
          "text": [
            "\n"
          ]
        },
        {
          "metadata": {
            "tags": null
          },
          "name": "stdout",
          "output_type": "stream",
          "text": [
            "Validating gradient for: model.fc1.weight\n",
            "Gradient check failed for model.fc1.weight at index 617566\n"
          ]
        },
        {
          "metadata": {
            "tags": null
          },
          "name": "stderr",
          "output_type": "stream",
          "text": [
            "100%|██████████| 7326/7326 [00:32<00:00, 225.41it/s]\n",
            "100%|██████████| 1832/1832 [00:05<00:00, 358.06it/s]"
          ]
        },
        {
          "metadata": {
            "tags": null
          },
          "name": "stdout",
          "output_type": "stream",
          "text": [
            "\n",
            "Epoch [12/50], Train Loss: 1.1243, Train Acc: 65.87%, Val Loss: 1.1309, Val Acc: 66.36%\n"
          ]
        },
        {
          "metadata": {
            "tags": null
          },
          "name": "stderr",
          "output_type": "stream",
          "text": [
            "\n"
          ]
        },
        {
          "metadata": {
            "tags": null
          },
          "name": "stdout",
          "output_type": "stream",
          "text": [
            "Validating gradient for: model.fc1.weight\n",
            "Validating gradient for: model.fc1.bias\n",
            "Validating gradient for: model.fc2.weight\n",
            "Validating gradient for: model.fc2.bias\n",
            "Gradient check passed successfully!\n"
          ]
        },
        {
          "metadata": {
            "tags": null
          },
          "name": "stderr",
          "output_type": "stream",
          "text": [
            "100%|██████████| 7326/7326 [00:33<00:00, 220.09it/s]\n",
            "100%|██████████| 1832/1832 [00:05<00:00, 335.40it/s]"
          ]
        },
        {
          "metadata": {
            "tags": null
          },
          "name": "stdout",
          "output_type": "stream",
          "text": [
            "\n",
            "Epoch [13/50], Train Loss: 1.1069, Train Acc: 66.47%, Val Loss: 1.1222, Val Acc: 66.96%\n"
          ]
        },
        {
          "metadata": {
            "tags": null
          },
          "name": "stderr",
          "output_type": "stream",
          "text": [
            "\n"
          ]
        },
        {
          "metadata": {
            "tags": null
          },
          "name": "stdout",
          "output_type": "stream",
          "text": [
            "Validating gradient for: model.fc1.weight\n",
            "Gradient check failed for model.fc1.weight at index 617947\n"
          ]
        },
        {
          "metadata": {
            "tags": null
          },
          "name": "stderr",
          "output_type": "stream",
          "text": [
            "100%|██████████| 7326/7326 [00:32<00:00, 226.27it/s]\n",
            "100%|██████████| 1832/1832 [00:05<00:00, 344.24it/s]"
          ]
        },
        {
          "metadata": {
            "tags": null
          },
          "name": "stdout",
          "output_type": "stream",
          "text": [
            "\n",
            "Epoch [14/50], Train Loss: 1.0904, Train Acc: 67.04%, Val Loss: 1.0977, Val Acc: 66.98%\n"
          ]
        },
        {
          "metadata": {
            "tags": null
          },
          "name": "stderr",
          "output_type": "stream",
          "text": [
            "\n"
          ]
        },
        {
          "metadata": {
            "tags": null
          },
          "name": "stdout",
          "output_type": "stream",
          "text": [
            "Validating gradient for: model.fc1.weight\n",
            "Gradient check failed for model.fc1.weight at index 508126\n"
          ]
        },
        {
          "metadata": {
            "tags": null
          },
          "name": "stderr",
          "output_type": "stream",
          "text": [
            "100%|██████████| 7326/7326 [00:31<00:00, 233.13it/s]\n",
            "100%|██████████| 1832/1832 [00:06<00:00, 267.72it/s]"
          ]
        },
        {
          "metadata": {
            "tags": null
          },
          "name": "stdout",
          "output_type": "stream",
          "text": [
            "\n",
            "Epoch [15/50], Train Loss: 1.0755, Train Acc: 67.38%, Val Loss: 1.0941, Val Acc: 67.12%\n"
          ]
        },
        {
          "metadata": {
            "tags": null
          },
          "name": "stderr",
          "output_type": "stream",
          "text": [
            "\n"
          ]
        },
        {
          "metadata": {
            "tags": null
          },
          "name": "stdout",
          "output_type": "stream",
          "text": [
            "Validating gradient for: model.fc1.weight\n",
            "Gradient check failed for model.fc1.weight at index 731492\n"
          ]
        },
        {
          "metadata": {
            "tags": null
          },
          "name": "stderr",
          "output_type": "stream",
          "text": [
            "100%|██████████| 7326/7326 [00:32<00:00, 226.29it/s]\n",
            "100%|██████████| 1832/1832 [00:05<00:00, 328.56it/s]"
          ]
        },
        {
          "metadata": {
            "tags": null
          },
          "name": "stdout",
          "output_type": "stream",
          "text": [
            "\n",
            "Epoch [16/50], Train Loss: 1.0623, Train Acc: 67.81%, Val Loss: 1.0721, Val Acc: 68.41%\n"
          ]
        },
        {
          "metadata": {
            "tags": null
          },
          "name": "stderr",
          "output_type": "stream",
          "text": [
            "\n"
          ]
        },
        {
          "metadata": {
            "tags": null
          },
          "name": "stdout",
          "output_type": "stream",
          "text": [
            "Validating gradient for: model.fc1.weight\n",
            "Gradient check failed for model.fc1.weight at index 654303\n"
          ]
        },
        {
          "metadata": {
            "tags": null
          },
          "name": "stderr",
          "output_type": "stream",
          "text": [
            "100%|██████████| 7326/7326 [00:33<00:00, 219.50it/s]\n",
            "100%|██████████| 1832/1832 [00:05<00:00, 342.01it/s]"
          ]
        },
        {
          "metadata": {
            "tags": null
          },
          "name": "stdout",
          "output_type": "stream",
          "text": [
            "\n",
            "Epoch [17/50], Train Loss: 1.0495, Train Acc: 68.31%, Val Loss: 1.0787, Val Acc: 68.00%\n"
          ]
        },
        {
          "metadata": {
            "tags": null
          },
          "name": "stderr",
          "output_type": "stream",
          "text": [
            "\n"
          ]
        },
        {
          "metadata": {
            "tags": null
          },
          "name": "stdout",
          "output_type": "stream",
          "text": [
            "Validating gradient for: model.fc1.weight\n",
            "Validating gradient for: model.fc1.bias\n",
            "Validating gradient for: model.fc2.weight\n",
            "Validating gradient for: model.fc2.bias\n",
            "Gradient check passed successfully!\n"
          ]
        },
        {
          "metadata": {
            "tags": null
          },
          "name": "stderr",
          "output_type": "stream",
          "text": [
            "100%|██████████| 7326/7326 [00:32<00:00, 228.33it/s]\n",
            "100%|██████████| 1832/1832 [00:06<00:00, 267.83it/s]"
          ]
        },
        {
          "metadata": {
            "tags": null
          },
          "name": "stdout",
          "output_type": "stream",
          "text": [
            "\n",
            "Epoch [18/50], Train Loss: 1.0382, Train Acc: 68.71%, Val Loss: 1.0345, Val Acc: 69.12%\n"
          ]
        },
        {
          "metadata": {
            "tags": null
          },
          "name": "stderr",
          "output_type": "stream",
          "text": [
            "\n"
          ]
        },
        {
          "metadata": {
            "tags": null
          },
          "name": "stdout",
          "output_type": "stream",
          "text": [
            "Validating gradient for: model.fc1.weight\n",
            "Validating gradient for: model.fc1.bias\n",
            "Validating gradient for: model.fc2.weight\n",
            "Validating gradient for: model.fc2.bias\n",
            "Gradient check passed successfully!\n"
          ]
        },
        {
          "metadata": {
            "tags": null
          },
          "name": "stderr",
          "output_type": "stream",
          "text": [
            "100%|██████████| 7326/7326 [00:33<00:00, 220.90it/s]\n",
            "100%|██████████| 1832/1832 [00:05<00:00, 354.94it/s]"
          ]
        },
        {
          "metadata": {
            "tags": null
          },
          "name": "stdout",
          "output_type": "stream",
          "text": [
            "\n",
            "Epoch [19/50], Train Loss: 1.0291, Train Acc: 68.89%, Val Loss: 1.0204, Val Acc: 70.84%\n"
          ]
        },
        {
          "metadata": {
            "tags": null
          },
          "name": "stderr",
          "output_type": "stream",
          "text": [
            "\n"
          ]
        },
        {
          "metadata": {
            "tags": null
          },
          "name": "stdout",
          "output_type": "stream",
          "text": [
            "Validating gradient for: model.fc1.weight\n",
            "Validating gradient for: model.fc1.bias\n",
            "Validating gradient for: model.fc2.weight\n",
            "Validating gradient for: model.fc2.bias\n",
            "Gradient check passed successfully!\n"
          ]
        },
        {
          "metadata": {
            "tags": null
          },
          "name": "stderr",
          "output_type": "stream",
          "text": [
            "100%|██████████| 7326/7326 [00:32<00:00, 228.48it/s]\n",
            "100%|██████████| 1832/1832 [00:06<00:00, 283.03it/s]"
          ]
        },
        {
          "metadata": {
            "tags": null
          },
          "name": "stdout",
          "output_type": "stream",
          "text": [
            "\n",
            "Epoch [20/50], Train Loss: 1.0197, Train Acc: 69.32%, Val Loss: 1.0618, Val Acc: 68.73%\n"
          ]
        },
        {
          "metadata": {
            "tags": null
          },
          "name": "stderr",
          "output_type": "stream",
          "text": [
            "\n"
          ]
        },
        {
          "metadata": {
            "tags": null
          },
          "name": "stdout",
          "output_type": "stream",
          "text": [
            "Validating gradient for: model.fc1.weight\n",
            "Gradient check failed for model.fc1.weight at index 732592\n"
          ]
        },
        {
          "metadata": {
            "tags": null
          },
          "name": "stderr",
          "output_type": "stream",
          "text": [
            "100%|██████████| 7326/7326 [00:31<00:00, 231.20it/s]\n",
            "100%|██████████| 1832/1832 [00:05<00:00, 336.72it/s]"
          ]
        },
        {
          "metadata": {
            "tags": null
          },
          "name": "stdout",
          "output_type": "stream",
          "text": [
            "\n",
            "Epoch [21/50], Train Loss: 1.0103, Train Acc: 69.70%, Val Loss: 1.0548, Val Acc: 68.35%\n"
          ]
        },
        {
          "metadata": {
            "tags": null
          },
          "name": "stderr",
          "output_type": "stream",
          "text": [
            "\n"
          ]
        },
        {
          "metadata": {
            "tags": null
          },
          "name": "stdout",
          "output_type": "stream",
          "text": [
            "Validating gradient for: model.fc1.weight\n",
            "Gradient check failed for model.fc1.weight at index 169383\n"
          ]
        },
        {
          "metadata": {
            "tags": null
          },
          "name": "stderr",
          "output_type": "stream",
          "text": [
            "100%|██████████| 7326/7326 [00:32<00:00, 225.84it/s]\n",
            "100%|██████████| 1832/1832 [00:05<00:00, 349.01it/s]"
          ]
        },
        {
          "metadata": {
            "tags": null
          },
          "name": "stdout",
          "output_type": "stream",
          "text": [
            "\n",
            "Epoch [22/50], Train Loss: 1.0029, Train Acc: 69.74%, Val Loss: 1.0109, Val Acc: 70.42%\n"
          ]
        },
        {
          "metadata": {
            "tags": null
          },
          "name": "stderr",
          "output_type": "stream",
          "text": [
            "\n"
          ]
        },
        {
          "metadata": {
            "tags": null
          },
          "name": "stdout",
          "output_type": "stream",
          "text": [
            "Validating gradient for: model.fc1.weight\n",
            "Validating gradient for: model.fc1.bias\n",
            "Validating gradient for: model.fc2.weight\n",
            "Validating gradient for: model.fc2.bias\n",
            "Gradient check passed successfully!\n"
          ]
        },
        {
          "metadata": {
            "tags": null
          },
          "name": "stderr",
          "output_type": "stream",
          "text": [
            "100%|██████████| 7326/7326 [00:31<00:00, 233.37it/s]\n",
            "100%|██████████| 1832/1832 [00:06<00:00, 269.42it/s]"
          ]
        },
        {
          "metadata": {
            "tags": null
          },
          "name": "stdout",
          "output_type": "stream",
          "text": [
            "\n",
            "Epoch [23/50], Train Loss: 0.9958, Train Acc: 69.90%, Val Loss: 1.0537, Val Acc: 68.72%\n"
          ]
        },
        {
          "metadata": {
            "tags": null
          },
          "name": "stderr",
          "output_type": "stream",
          "text": [
            "\n"
          ]
        },
        {
          "metadata": {
            "tags": null
          },
          "name": "stdout",
          "output_type": "stream",
          "text": [
            "Validating gradient for: model.fc1.weight\n",
            "Validating gradient for: model.fc1.bias\n",
            "Validating gradient for: model.fc2.weight\n",
            "Validating gradient for: model.fc2.bias\n",
            "Gradient check passed successfully!\n"
          ]
        },
        {
          "metadata": {
            "tags": null
          },
          "name": "stderr",
          "output_type": "stream",
          "text": [
            "100%|██████████| 7326/7326 [00:33<00:00, 221.64it/s]\n",
            "100%|██████████| 1832/1832 [00:05<00:00, 354.95it/s]"
          ]
        },
        {
          "metadata": {
            "tags": null
          },
          "name": "stdout",
          "output_type": "stream",
          "text": [
            "\n",
            "Epoch [24/50], Train Loss: 0.9913, Train Acc: 70.14%, Val Loss: 1.0036, Val Acc: 71.31%\n"
          ]
        },
        {
          "metadata": {
            "tags": null
          },
          "name": "stderr",
          "output_type": "stream",
          "text": [
            "\n"
          ]
        },
        {
          "metadata": {
            "tags": null
          },
          "name": "stdout",
          "output_type": "stream",
          "text": [
            "Validating gradient for: model.fc1.weight\n",
            "Gradient check failed for model.fc1.weight at index 712182\n"
          ]
        },
        {
          "metadata": {
            "tags": null
          },
          "name": "stderr",
          "output_type": "stream",
          "text": [
            "100%|██████████| 7326/7326 [00:32<00:00, 228.28it/s]\n",
            "100%|██████████| 1832/1832 [00:06<00:00, 286.18it/s]"
          ]
        },
        {
          "metadata": {
            "tags": null
          },
          "name": "stdout",
          "output_type": "stream",
          "text": [
            "\n",
            "Epoch [25/50], Train Loss: 0.9830, Train Acc: 70.53%, Val Loss: 1.0054, Val Acc: 70.47%\n"
          ]
        },
        {
          "metadata": {
            "tags": null
          },
          "name": "stderr",
          "output_type": "stream",
          "text": [
            "\n"
          ]
        },
        {
          "metadata": {
            "tags": null
          },
          "name": "stdout",
          "output_type": "stream",
          "text": [
            "Validating gradient for: model.fc1.weight\n",
            "Gradient check failed for model.fc1.weight at index 440636\n"
          ]
        },
        {
          "metadata": {
            "tags": null
          },
          "name": "stderr",
          "output_type": "stream",
          "text": [
            "100%|██████████| 7326/7326 [00:31<00:00, 234.23it/s]\n",
            "100%|██████████| 1832/1832 [00:05<00:00, 325.86it/s]"
          ]
        },
        {
          "metadata": {
            "tags": null
          },
          "name": "stdout",
          "output_type": "stream",
          "text": [
            "\n",
            "Epoch [26/50], Train Loss: 0.9796, Train Acc: 70.47%, Val Loss: 1.0174, Val Acc: 70.09%\n"
          ]
        },
        {
          "metadata": {
            "tags": null
          },
          "name": "stderr",
          "output_type": "stream",
          "text": [
            "\n"
          ]
        },
        {
          "metadata": {
            "tags": null
          },
          "name": "stdout",
          "output_type": "stream",
          "text": [
            "Validating gradient for: model.fc1.weight\n",
            "Validating gradient for: model.fc1.bias\n",
            "Validating gradient for: model.fc2.weight\n",
            "Validating gradient for: model.fc2.bias\n",
            "Gradient check passed successfully!\n"
          ]
        },
        {
          "metadata": {
            "tags": null
          },
          "name": "stderr",
          "output_type": "stream",
          "text": [
            "100%|██████████| 7326/7326 [00:32<00:00, 225.07it/s]\n",
            "100%|██████████| 1832/1832 [00:05<00:00, 348.50it/s]"
          ]
        },
        {
          "metadata": {
            "tags": null
          },
          "name": "stdout",
          "output_type": "stream",
          "text": [
            "\n",
            "Epoch [27/50], Train Loss: 0.9741, Train Acc: 70.83%, Val Loss: 1.0016, Val Acc: 70.38%\n"
          ]
        },
        {
          "metadata": {
            "tags": null
          },
          "name": "stderr",
          "output_type": "stream",
          "text": [
            "\n"
          ]
        },
        {
          "metadata": {
            "tags": null
          },
          "name": "stdout",
          "output_type": "stream",
          "text": [
            "Validating gradient for: model.fc1.weight\n",
            "Gradient check failed for model.fc1.weight at index 530578\n"
          ]
        },
        {
          "metadata": {
            "tags": null
          },
          "name": "stderr",
          "output_type": "stream",
          "text": [
            "100%|██████████| 7326/7326 [00:31<00:00, 232.67it/s]\n",
            "100%|██████████| 1832/1832 [00:06<00:00, 270.09it/s]"
          ]
        },
        {
          "metadata": {
            "tags": null
          },
          "name": "stdout",
          "output_type": "stream",
          "text": [
            "\n",
            "Epoch [28/50], Train Loss: 0.9687, Train Acc: 70.96%, Val Loss: 1.0196, Val Acc: 69.81%\n"
          ]
        },
        {
          "metadata": {
            "tags": null
          },
          "name": "stderr",
          "output_type": "stream",
          "text": [
            "\n"
          ]
        },
        {
          "metadata": {
            "tags": null
          },
          "name": "stdout",
          "output_type": "stream",
          "text": [
            "Validating gradient for: model.fc1.weight\n",
            "Gradient check failed for model.fc1.weight at index 170345\n"
          ]
        },
        {
          "metadata": {
            "tags": null
          },
          "name": "stderr",
          "output_type": "stream",
          "text": [
            "100%|██████████| 7326/7326 [00:31<00:00, 232.82it/s]\n",
            "100%|██████████| 1832/1832 [00:05<00:00, 353.02it/s]"
          ]
        },
        {
          "metadata": {
            "tags": null
          },
          "name": "stdout",
          "output_type": "stream",
          "text": [
            "\n",
            "Epoch [29/50], Train Loss: 0.9653, Train Acc: 70.87%, Val Loss: 0.9974, Val Acc: 70.82%\n"
          ]
        },
        {
          "metadata": {
            "tags": null
          },
          "name": "stderr",
          "output_type": "stream",
          "text": [
            "\n"
          ]
        },
        {
          "metadata": {
            "tags": null
          },
          "name": "stdout",
          "output_type": "stream",
          "text": [
            "Validating gradient for: model.fc1.weight\n",
            "Gradient check failed for model.fc1.weight at index 276735\n"
          ]
        },
        {
          "metadata": {
            "tags": null
          },
          "name": "stderr",
          "output_type": "stream",
          "text": [
            "100%|██████████| 7326/7326 [00:33<00:00, 215.56it/s]\n",
            "100%|██████████| 1832/1832 [00:05<00:00, 347.19it/s]"
          ]
        },
        {
          "metadata": {
            "tags": null
          },
          "name": "stdout",
          "output_type": "stream",
          "text": [
            "\n",
            "Epoch [30/50], Train Loss: 0.9607, Train Acc: 71.14%, Val Loss: 1.0016, Val Acc: 70.08%\n"
          ]
        },
        {
          "metadata": {
            "tags": null
          },
          "name": "stderr",
          "output_type": "stream",
          "text": [
            "\n"
          ]
        },
        {
          "metadata": {
            "tags": null
          },
          "name": "stdout",
          "output_type": "stream",
          "text": [
            "Validating gradient for: model.fc1.weight\n",
            "Gradient check failed for model.fc1.weight at index 313570\n"
          ]
        },
        {
          "metadata": {
            "tags": null
          },
          "name": "stderr",
          "output_type": "stream",
          "text": [
            "100%|██████████| 7326/7326 [00:33<00:00, 221.13it/s]\n",
            "100%|██████████| 1832/1832 [00:06<00:00, 270.34it/s]"
          ]
        },
        {
          "metadata": {
            "tags": null
          },
          "name": "stdout",
          "output_type": "stream",
          "text": [
            "\n",
            "Epoch [31/50], Train Loss: 0.9581, Train Acc: 71.16%, Val Loss: 1.0038, Val Acc: 69.94%\n"
          ]
        },
        {
          "metadata": {
            "tags": null
          },
          "name": "stderr",
          "output_type": "stream",
          "text": [
            "\n"
          ]
        },
        {
          "metadata": {
            "tags": null
          },
          "name": "stdout",
          "output_type": "stream",
          "text": [
            "Validating gradient for: model.fc1.weight\n",
            "Validating gradient for: model.fc1.bias\n",
            "Validating gradient for: model.fc2.weight\n",
            "Validating gradient for: model.fc2.bias\n",
            "Gradient check passed successfully!\n"
          ]
        },
        {
          "metadata": {
            "tags": null
          },
          "name": "stderr",
          "output_type": "stream",
          "text": [
            "100%|██████████| 7326/7326 [00:32<00:00, 222.94it/s]\n",
            "100%|██████████| 1832/1832 [00:05<00:00, 329.47it/s]"
          ]
        },
        {
          "metadata": {
            "tags": null
          },
          "name": "stdout",
          "output_type": "stream",
          "text": [
            "\n",
            "Epoch [32/50], Train Loss: 0.9559, Train Acc: 71.27%, Val Loss: 0.9657, Val Acc: 72.04%\n"
          ]
        },
        {
          "metadata": {
            "tags": null
          },
          "name": "stderr",
          "output_type": "stream",
          "text": [
            "\n"
          ]
        },
        {
          "metadata": {
            "tags": null
          },
          "name": "stdout",
          "output_type": "stream",
          "text": [
            "Validating gradient for: model.fc1.weight\n",
            "Validating gradient for: model.fc1.bias\n",
            "Validating gradient for: model.fc2.weight\n",
            "Validating gradient for: model.fc2.bias\n",
            "Gradient check passed successfully!\n"
          ]
        },
        {
          "metadata": {
            "tags": null
          },
          "name": "stderr",
          "output_type": "stream",
          "text": [
            "100%|██████████| 7326/7326 [00:33<00:00, 218.88it/s]\n",
            "100%|██████████| 1832/1832 [00:05<00:00, 312.53it/s]"
          ]
        },
        {
          "metadata": {
            "tags": null
          },
          "name": "stdout",
          "output_type": "stream",
          "text": [
            "\n",
            "Epoch [33/50], Train Loss: 0.9516, Train Acc: 71.39%, Val Loss: 0.9961, Val Acc: 70.52%\n"
          ]
        },
        {
          "metadata": {
            "tags": null
          },
          "name": "stderr",
          "output_type": "stream",
          "text": [
            "\n"
          ]
        },
        {
          "metadata": {
            "tags": null
          },
          "name": "stdout",
          "output_type": "stream",
          "text": [
            "Validating gradient for: model.fc1.weight\n",
            "Gradient check failed for model.fc1.weight at index 528600\n"
          ]
        },
        {
          "metadata": {
            "tags": null
          },
          "name": "stderr",
          "output_type": "stream",
          "text": [
            "100%|██████████| 7326/7326 [00:32<00:00, 227.25it/s]\n",
            "100%|██████████| 1832/1832 [00:06<00:00, 264.61it/s]"
          ]
        },
        {
          "metadata": {
            "tags": null
          },
          "name": "stdout",
          "output_type": "stream",
          "text": [
            "\n",
            "Epoch [34/50], Train Loss: 0.9488, Train Acc: 71.48%, Val Loss: 0.9665, Val Acc: 72.19%\n"
          ]
        },
        {
          "metadata": {
            "tags": null
          },
          "name": "stderr",
          "output_type": "stream",
          "text": [
            "\n"
          ]
        },
        {
          "metadata": {
            "tags": null
          },
          "name": "stdout",
          "output_type": "stream",
          "text": [
            "Validating gradient for: model.fc1.weight\n",
            "Gradient check failed for model.fc1.weight at index 617996\n"
          ]
        },
        {
          "metadata": {
            "tags": null
          },
          "name": "stderr",
          "output_type": "stream",
          "text": [
            "100%|██████████| 7326/7326 [00:33<00:00, 217.48it/s]\n",
            "100%|██████████| 1832/1832 [00:06<00:00, 279.64it/s]"
          ]
        },
        {
          "metadata": {
            "tags": null
          },
          "name": "stdout",
          "output_type": "stream",
          "text": [
            "\n",
            "Epoch [35/50], Train Loss: 0.9448, Train Acc: 71.48%, Val Loss: 0.9613, Val Acc: 71.91%\n"
          ]
        },
        {
          "metadata": {
            "tags": null
          },
          "name": "stderr",
          "output_type": "stream",
          "text": [
            "\n"
          ]
        },
        {
          "metadata": {
            "tags": null
          },
          "name": "stdout",
          "output_type": "stream",
          "text": [
            "Validating gradient for: model.fc1.weight\n",
            "Validating gradient for: model.fc1.bias\n",
            "Validating gradient for: model.fc2.weight\n",
            "Validating gradient for: model.fc2.bias\n",
            "Gradient check passed successfully!\n"
          ]
        },
        {
          "metadata": {
            "tags": null
          },
          "name": "stderr",
          "output_type": "stream",
          "text": [
            "100%|██████████| 7326/7326 [00:32<00:00, 228.56it/s]\n",
            "100%|██████████| 1832/1832 [00:05<00:00, 343.33it/s]"
          ]
        },
        {
          "metadata": {
            "tags": null
          },
          "name": "stdout",
          "output_type": "stream",
          "text": [
            "\n",
            "Epoch [36/50], Train Loss: 0.9433, Train Acc: 71.58%, Val Loss: 0.9968, Val Acc: 70.45%\n"
          ]
        },
        {
          "metadata": {
            "tags": null
          },
          "name": "stderr",
          "output_type": "stream",
          "text": [
            "\n"
          ]
        },
        {
          "metadata": {
            "tags": null
          },
          "name": "stdout",
          "output_type": "stream",
          "text": [
            "Validating gradient for: model.fc1.weight\n",
            "Validating gradient for: model.fc1.bias\n",
            "Validating gradient for: model.fc2.weight\n",
            "Validating gradient for: model.fc2.bias\n",
            "Gradient check passed successfully!\n"
          ]
        },
        {
          "metadata": {
            "tags": null
          },
          "name": "stderr",
          "output_type": "stream",
          "text": [
            "100%|██████████| 7326/7326 [00:32<00:00, 223.67it/s]\n",
            "100%|██████████| 1832/1832 [00:05<00:00, 337.96it/s]"
          ]
        },
        {
          "metadata": {
            "tags": null
          },
          "name": "stdout",
          "output_type": "stream",
          "text": [
            "\n",
            "Epoch [37/50], Train Loss: 0.9403, Train Acc: 71.64%, Val Loss: 0.9562, Val Acc: 71.53%\n"
          ]
        },
        {
          "metadata": {
            "tags": null
          },
          "name": "stderr",
          "output_type": "stream",
          "text": [
            "\n"
          ]
        },
        {
          "metadata": {
            "tags": null
          },
          "name": "stdout",
          "output_type": "stream",
          "text": [
            "Validating gradient for: model.fc1.weight\n",
            "Validating gradient for: model.fc1.bias\n",
            "Validating gradient for: model.fc2.weight\n",
            "Validating gradient for: model.fc2.bias\n",
            "Gradient check passed successfully!\n"
          ]
        },
        {
          "metadata": {
            "tags": null
          },
          "name": "stderr",
          "output_type": "stream",
          "text": [
            "100%|██████████| 7326/7326 [00:31<00:00, 229.13it/s]\n",
            "100%|██████████| 1832/1832 [00:06<00:00, 261.96it/s]"
          ]
        },
        {
          "metadata": {
            "tags": null
          },
          "name": "stdout",
          "output_type": "stream",
          "text": [
            "\n",
            "Epoch [38/50], Train Loss: 0.9383, Train Acc: 71.78%, Val Loss: 0.9823, Val Acc: 70.77%\n"
          ]
        },
        {
          "metadata": {
            "tags": null
          },
          "name": "stderr",
          "output_type": "stream",
          "text": [
            "\n"
          ]
        },
        {
          "metadata": {
            "tags": null
          },
          "name": "stdout",
          "output_type": "stream",
          "text": [
            "Validating gradient for: model.fc1.weight\n",
            "Validating gradient for: model.fc1.bias\n",
            "Validating gradient for: model.fc2.weight\n",
            "Validating gradient for: model.fc2.bias\n",
            "Gradient check passed successfully!\n"
          ]
        },
        {
          "metadata": {
            "tags": null
          },
          "name": "stderr",
          "output_type": "stream",
          "text": [
            "100%|██████████| 7326/7326 [00:31<00:00, 230.31it/s]\n",
            "100%|██████████| 1832/1832 [00:05<00:00, 342.32it/s]"
          ]
        },
        {
          "metadata": {
            "tags": null
          },
          "name": "stdout",
          "output_type": "stream",
          "text": [
            "\n",
            "Epoch [39/50], Train Loss: 0.9353, Train Acc: 71.82%, Val Loss: 1.0435, Val Acc: 68.81%\n"
          ]
        },
        {
          "metadata": {
            "tags": null
          },
          "name": "stderr",
          "output_type": "stream",
          "text": [
            "\n"
          ]
        },
        {
          "metadata": {
            "tags": null
          },
          "name": "stdout",
          "output_type": "stream",
          "text": [
            "Validating gradient for: model.fc1.weight\n",
            "Validating gradient for: model.fc1.bias\n",
            "Validating gradient for: model.fc2.weight\n",
            "Validating gradient for: model.fc2.bias\n",
            "Gradient check passed successfully!\n"
          ]
        },
        {
          "metadata": {
            "tags": null
          },
          "name": "stderr",
          "output_type": "stream",
          "text": [
            "100%|██████████| 7326/7326 [00:32<00:00, 223.88it/s]\n",
            "100%|██████████| 1832/1832 [00:08<00:00, 225.26it/s]"
          ]
        },
        {
          "metadata": {
            "tags": null
          },
          "name": "stdout",
          "output_type": "stream",
          "text": [
            "\n",
            "Epoch [40/50], Train Loss: 0.9340, Train Acc: 71.68%, Val Loss: 0.9433, Val Acc: 72.72%\n"
          ]
        },
        {
          "metadata": {
            "tags": null
          },
          "name": "stderr",
          "output_type": "stream",
          "text": [
            "\n"
          ]
        },
        {
          "metadata": {
            "tags": null
          },
          "name": "stdout",
          "output_type": "stream",
          "text": [
            "Validating gradient for: model.fc1.weight\n",
            "Validating gradient for: model.fc1.bias\n",
            "Validating gradient for: model.fc2.weight\n",
            "Validating gradient for: model.fc2.bias\n",
            "Gradient check passed successfully!\n"
          ]
        },
        {
          "metadata": {
            "tags": null
          },
          "name": "stderr",
          "output_type": "stream",
          "text": [
            "100%|██████████| 7326/7326 [00:31<00:00, 233.43it/s]\n",
            "100%|██████████| 1832/1832 [00:06<00:00, 288.82it/s]"
          ]
        },
        {
          "metadata": {
            "tags": null
          },
          "name": "stdout",
          "output_type": "stream",
          "text": [
            "\n",
            "Epoch [41/50], Train Loss: 0.9308, Train Acc: 72.00%, Val Loss: 0.9642, Val Acc: 71.79%\n"
          ]
        },
        {
          "metadata": {
            "tags": null
          },
          "name": "stderr",
          "output_type": "stream",
          "text": [
            "\n"
          ]
        },
        {
          "metadata": {
            "tags": null
          },
          "name": "stdout",
          "output_type": "stream",
          "text": [
            "Validating gradient for: model.fc1.weight\n",
            "Gradient check failed for model.fc1.weight at index 316255\n"
          ]
        },
        {
          "metadata": {
            "tags": null
          },
          "name": "stderr",
          "output_type": "stream",
          "text": [
            "100%|██████████| 7326/7326 [00:31<00:00, 233.71it/s]\n",
            "100%|██████████| 1832/1832 [00:05<00:00, 353.33it/s]"
          ]
        },
        {
          "metadata": {
            "tags": null
          },
          "name": "stdout",
          "output_type": "stream",
          "text": [
            "\n",
            "Epoch [42/50], Train Loss: 0.9280, Train Acc: 72.03%, Val Loss: 1.0362, Val Acc: 68.78%\n"
          ]
        },
        {
          "metadata": {
            "tags": null
          },
          "name": "stderr",
          "output_type": "stream",
          "text": [
            "\n"
          ]
        },
        {
          "metadata": {
            "tags": null
          },
          "name": "stdout",
          "output_type": "stream",
          "text": [
            "Validating gradient for: model.fc1.weight\n",
            "Gradient check failed for model.fc1.weight at index 505024\n"
          ]
        },
        {
          "metadata": {
            "tags": null
          },
          "name": "stderr",
          "output_type": "stream",
          "text": [
            "100%|██████████| 7326/7326 [00:31<00:00, 229.09it/s]\n",
            "100%|██████████| 1832/1832 [00:06<00:00, 270.79it/s]"
          ]
        },
        {
          "metadata": {
            "tags": null
          },
          "name": "stdout",
          "output_type": "stream",
          "text": [
            "\n",
            "Epoch [43/50], Train Loss: 0.9258, Train Acc: 72.11%, Val Loss: 1.0009, Val Acc: 70.57%\n"
          ]
        },
        {
          "metadata": {
            "tags": null
          },
          "name": "stderr",
          "output_type": "stream",
          "text": [
            "\n"
          ]
        },
        {
          "metadata": {
            "tags": null
          },
          "name": "stdout",
          "output_type": "stream",
          "text": [
            "Validating gradient for: model.fc1.weight\n",
            "Validating gradient for: model.fc1.bias\n",
            "Validating gradient for: model.fc2.weight\n",
            "Validating gradient for: model.fc2.bias\n",
            "Gradient check passed successfully!\n"
          ]
        },
        {
          "metadata": {
            "tags": null
          },
          "name": "stderr",
          "output_type": "stream",
          "text": [
            "100%|██████████| 7326/7326 [00:30<00:00, 236.86it/s]\n",
            "100%|██████████| 1832/1832 [00:05<00:00, 364.53it/s]"
          ]
        },
        {
          "metadata": {
            "tags": null
          },
          "name": "stdout",
          "output_type": "stream",
          "text": [
            "\n",
            "Epoch [44/50], Train Loss: 0.9249, Train Acc: 72.13%, Val Loss: 0.9474, Val Acc: 72.69%\n"
          ]
        },
        {
          "metadata": {
            "tags": null
          },
          "name": "stderr",
          "output_type": "stream",
          "text": [
            "\n"
          ]
        },
        {
          "metadata": {
            "tags": null
          },
          "name": "stdout",
          "output_type": "stream",
          "text": [
            "Validating gradient for: model.fc1.weight\n",
            "Validating gradient for: model.fc1.bias\n",
            "Validating gradient for: model.fc2.weight\n",
            "Validating gradient for: model.fc2.bias\n",
            "Gradient check passed successfully!\n"
          ]
        },
        {
          "metadata": {
            "tags": null
          },
          "name": "stderr",
          "output_type": "stream",
          "text": [
            "100%|██████████| 7326/7326 [00:32<00:00, 225.70it/s]\n",
            "100%|██████████| 1832/1832 [00:05<00:00, 362.93it/s]"
          ]
        },
        {
          "metadata": {
            "tags": null
          },
          "name": "stdout",
          "output_type": "stream",
          "text": [
            "\n",
            "Epoch [45/50], Train Loss: 0.9233, Train Acc: 72.20%, Val Loss: 0.9806, Val Acc: 71.33%\n"
          ]
        },
        {
          "metadata": {
            "tags": null
          },
          "name": "stderr",
          "output_type": "stream",
          "text": [
            "\n"
          ]
        },
        {
          "metadata": {
            "tags": null
          },
          "name": "stdout",
          "output_type": "stream",
          "text": [
            "Validating gradient for: model.fc1.weight\n",
            "Gradient check failed for model.fc1.weight at index 274126\n"
          ]
        },
        {
          "metadata": {
            "tags": null
          },
          "name": "stderr",
          "output_type": "stream",
          "text": [
            "100%|██████████| 7326/7326 [00:33<00:00, 221.11it/s]\n",
            "100%|██████████| 1832/1832 [00:06<00:00, 274.12it/s]"
          ]
        },
        {
          "metadata": {
            "tags": null
          },
          "name": "stdout",
          "output_type": "stream",
          "text": [
            "\n",
            "Epoch [46/50], Train Loss: 0.9203, Train Acc: 72.23%, Val Loss: 0.9451, Val Acc: 72.24%\n"
          ]
        },
        {
          "metadata": {
            "tags": null
          },
          "name": "stderr",
          "output_type": "stream",
          "text": [
            "\n"
          ]
        },
        {
          "metadata": {
            "tags": null
          },
          "name": "stdout",
          "output_type": "stream",
          "text": [
            "Validating gradient for: model.fc1.weight\n",
            "Gradient check failed for model.fc1.weight at index 575166\n"
          ]
        },
        {
          "metadata": {
            "tags": null
          },
          "name": "stderr",
          "output_type": "stream",
          "text": [
            "100%|██████████| 7326/7326 [00:31<00:00, 230.46it/s]\n",
            "100%|██████████| 1832/1832 [00:05<00:00, 345.39it/s]"
          ]
        },
        {
          "metadata": {
            "tags": null
          },
          "name": "stdout",
          "output_type": "stream",
          "text": [
            "\n",
            "Epoch [47/50], Train Loss: 0.9175, Train Acc: 72.19%, Val Loss: 0.9800, Val Acc: 70.93%\n"
          ]
        },
        {
          "metadata": {
            "tags": null
          },
          "name": "stderr",
          "output_type": "stream",
          "text": [
            "\n"
          ]
        },
        {
          "metadata": {
            "tags": null
          },
          "name": "stdout",
          "output_type": "stream",
          "text": [
            "Validating gradient for: model.fc1.weight\n",
            "Gradient check failed for model.fc1.weight at index 710977\n"
          ]
        },
        {
          "metadata": {
            "tags": null
          },
          "name": "stderr",
          "output_type": "stream",
          "text": [
            "100%|██████████| 7326/7326 [00:32<00:00, 227.96it/s]\n",
            "100%|██████████| 1832/1832 [00:06<00:00, 285.53it/s]"
          ]
        },
        {
          "metadata": {
            "tags": null
          },
          "name": "stdout",
          "output_type": "stream",
          "text": [
            "\n",
            "Epoch [48/50], Train Loss: 0.9171, Train Acc: 72.33%, Val Loss: 0.9455, Val Acc: 72.66%\n"
          ]
        },
        {
          "metadata": {
            "tags": null
          },
          "name": "stderr",
          "output_type": "stream",
          "text": [
            "\n"
          ]
        },
        {
          "metadata": {
            "tags": null
          },
          "name": "stdout",
          "output_type": "stream",
          "text": [
            "Validating gradient for: model.fc1.weight\n",
            "Gradient check failed for model.fc1.weight at index 314215\n"
          ]
        },
        {
          "metadata": {
            "tags": null
          },
          "name": "stderr",
          "output_type": "stream",
          "text": [
            "100%|██████████| 7326/7326 [00:31<00:00, 230.20it/s]\n",
            "100%|██████████| 1832/1832 [00:05<00:00, 334.17it/s]"
          ]
        },
        {
          "metadata": {
            "tags": null
          },
          "name": "stdout",
          "output_type": "stream",
          "text": [
            "\n",
            "Epoch [49/50], Train Loss: 0.9151, Train Acc: 72.40%, Val Loss: 0.9663, Val Acc: 71.69%\n"
          ]
        },
        {
          "metadata": {
            "tags": null
          },
          "name": "stderr",
          "output_type": "stream",
          "text": [
            "\n"
          ]
        },
        {
          "metadata": {
            "tags": null
          },
          "name": "stdout",
          "output_type": "stream",
          "text": [
            "Validating gradient for: model.fc1.weight\n",
            "Gradient check failed for model.fc1.weight at index 440551\n"
          ]
        },
        {
          "metadata": {
            "tags": null
          },
          "name": "stderr",
          "output_type": "stream",
          "text": [
            "100%|██████████| 7326/7326 [00:32<00:00, 225.61it/s]\n",
            "100%|██████████| 1832/1832 [00:05<00:00, 346.54it/s]"
          ]
        },
        {
          "metadata": {
            "tags": null
          },
          "name": "stdout",
          "output_type": "stream",
          "text": [
            "\n",
            "Epoch [50/50], Train Loss: 0.9133, Train Acc: 72.42%, Val Loss: 1.0891, Val Acc: 66.72%\n"
          ]
        },
        {
          "metadata": {
            "tags": null
          },
          "name": "stderr",
          "output_type": "stream",
          "text": [
            "\n"
          ]
        },
        {
          "metadata": {
            "tags": null
          },
          "name": "stdout",
          "output_type": "stream",
          "text": [
            "Validating gradient for: model.fc1.weight\n",
            "Validating gradient for: model.fc1.bias\n",
            "Validating gradient for: model.fc2.weight\n",
            "Validating gradient for: model.fc2.bias\n",
            "Gradient check passed successfully!\n"
          ]
        },
        {
          "metadata": {
            "tags": null
          },
          "name": "stderr",
          "output_type": "stream",
          "text": [
            "100%|██████████| 3254/3254 [00:10<00:00, 307.62it/s]\n"
          ]
        },
        {
          "metadata": {
            "tags": null
          },
          "name": "stdout",
          "output_type": "stream",
          "text": [
            "Test Accuracy with learning rate 0.0001 and weight_decay 0.001: 64.23%\n"
          ]
        },
        {
          "data": {
            "image/png": "[encoded data removed]",
            "text/plain": [
              "<Figure size 640x480 with 1 Axes>"
            ]
          },
          "metadata": {},
          "output_type": "display_data"
        },
        {
          "metadata": {
            "tags": null
          },
          "name": "stdout",
          "output_type": "stream",
          "text": [
            "Training with lr=0.0001, wd=0.0001, optimizer=<class 'torch.optim.rmsprop.RMSprop'>\n"
          ]
        },
        {
          "metadata": {
            "tags": null
          },
          "name": "stderr",
          "output_type": "stream",
          "text": [
            "100%|██████████| 7326/7326 [00:33<00:00, 218.39it/s]\n",
            "100%|██████████| 1832/1832 [00:05<00:00, 342.48it/s]"
          ]
        },
        {
          "metadata": {
            "tags": null
          },
          "name": "stdout",
          "output_type": "stream",
          "text": [
            "\n",
            "Epoch [1/50], Train Loss: 2.1979, Train Acc: 20.77%, Val Loss: 2.0869, Val Acc: 24.65%\n"
          ]
        },
        {
          "metadata": {
            "tags": null
          },
          "name": "stderr",
          "output_type": "stream",
          "text": [
            "\n"
          ]
        },
        {
          "metadata": {
            "tags": null
          },
          "name": "stdout",
          "output_type": "stream",
          "text": [
            "Validating gradient for: model.fc1.weight\n",
            "Gradient check failed for model.fc1.weight at index 322227\n"
          ]
        },
        {
          "metadata": {
            "tags": null
          },
          "name": "stderr",
          "output_type": "stream",
          "text": [
            "100%|██████████| 7326/7326 [00:32<00:00, 224.56it/s]\n",
            "100%|██████████| 1832/1832 [00:05<00:00, 353.49it/s]"
          ]
        },
        {
          "metadata": {
            "tags": null
          },
          "name": "stdout",
          "output_type": "stream",
          "text": [
            "\n",
            "Epoch [2/50], Train Loss: 1.8704, Train Acc: 36.45%, Val Loss: 1.7210, Val Acc: 44.89%\n"
          ]
        },
        {
          "metadata": {
            "tags": null
          },
          "name": "stderr",
          "output_type": "stream",
          "text": [
            "\n"
          ]
        },
        {
          "metadata": {
            "tags": null
          },
          "name": "stdout",
          "output_type": "stream",
          "text": [
            "Validating gradient for: model.fc1.weight\n",
            "Validating gradient for: model.fc1.bias\n",
            "Validating gradient for: model.fc2.weight\n",
            "Validating gradient for: model.fc2.bias\n",
            "Gradient check passed successfully!\n"
          ]
        },
        {
          "metadata": {
            "tags": null
          },
          "name": "stderr",
          "output_type": "stream",
          "text": [
            "100%|██████████| 7326/7326 [00:31<00:00, 231.17it/s]\n",
            "100%|██████████| 1832/1832 [00:06<00:00, 264.25it/s]"
          ]
        },
        {
          "metadata": {
            "tags": null
          },
          "name": "stdout",
          "output_type": "stream",
          "text": [
            "\n",
            "Epoch [3/50], Train Loss: 1.6083, Train Acc: 47.54%, Val Loss: 1.5281, Val Acc: 49.82%\n"
          ]
        },
        {
          "metadata": {
            "tags": null
          },
          "name": "stderr",
          "output_type": "stream",
          "text": [
            "\n"
          ]
        },
        {
          "metadata": {
            "tags": null
          },
          "name": "stdout",
          "output_type": "stream",
          "text": [
            "Validating gradient for: model.fc1.weight\n",
            "Validating gradient for: model.fc1.bias\n",
            "Validating gradient for: model.fc2.weight\n",
            "Validating gradient for: model.fc2.bias\n",
            "Gradient check passed successfully!\n"
          ]
        },
        {
          "metadata": {
            "tags": null
          },
          "name": "stderr",
          "output_type": "stream",
          "text": [
            "100%|██████████| 7326/7326 [00:32<00:00, 227.82it/s]\n",
            "100%|██████████| 1832/1832 [00:05<00:00, 343.50it/s]"
          ]
        },
        {
          "metadata": {
            "tags": null
          },
          "name": "stdout",
          "output_type": "stream",
          "text": [
            "\n",
            "Epoch [4/50], Train Loss: 1.4548, Train Acc: 53.52%, Val Loss: 1.3969, Val Acc: 56.08%\n"
          ]
        },
        {
          "metadata": {
            "tags": null
          },
          "name": "stderr",
          "output_type": "stream",
          "text": [
            "\n"
          ]
        },
        {
          "metadata": {
            "tags": null
          },
          "name": "stdout",
          "output_type": "stream",
          "text": [
            "Validating gradient for: model.fc1.weight\n",
            "Gradient check failed for model.fc1.weight at index 456215\n"
          ]
        },
        {
          "metadata": {
            "tags": null
          },
          "name": "stderr",
          "output_type": "stream",
          "text": [
            "100%|██████████| 7326/7326 [00:32<00:00, 226.87it/s]\n",
            "100%|██████████| 1832/1832 [00:05<00:00, 340.36it/s]"
          ]
        },
        {
          "metadata": {
            "tags": null
          },
          "name": "stdout",
          "output_type": "stream",
          "text": [
            "\n",
            "Epoch [5/50], Train Loss: 1.3461, Train Acc: 58.07%, Val Loss: 1.3011, Val Acc: 60.20%\n"
          ]
        },
        {
          "metadata": {
            "tags": null
          },
          "name": "stderr",
          "output_type": "stream",
          "text": [
            "\n"
          ]
        },
        {
          "metadata": {
            "tags": null
          },
          "name": "stdout",
          "output_type": "stream",
          "text": [
            "Validating gradient for: model.fc1.weight\n",
            "Validating gradient for: model.fc1.bias\n",
            "Validating gradient for: model.fc2.weight\n",
            "Validating gradient for: model.fc2.bias\n",
            "Gradient check passed successfully!\n"
          ]
        },
        {
          "metadata": {
            "tags": null
          },
          "name": "stderr",
          "output_type": "stream",
          "text": [
            "100%|██████████| 7326/7326 [00:33<00:00, 221.20it/s]\n",
            "100%|██████████| 1832/1832 [00:06<00:00, 270.69it/s]"
          ]
        },
        {
          "metadata": {
            "tags": null
          },
          "name": "stdout",
          "output_type": "stream",
          "text": [
            "\n",
            "Epoch [6/50], Train Loss: 1.2680, Train Acc: 61.37%, Val Loss: 1.2338, Val Acc: 62.93%\n"
          ]
        },
        {
          "metadata": {
            "tags": null
          },
          "name": "stderr",
          "output_type": "stream",
          "text": [
            "\n"
          ]
        },
        {
          "metadata": {
            "tags": null
          },
          "name": "stdout",
          "output_type": "stream",
          "text": [
            "Validating gradient for: model.fc1.weight\n",
            "Gradient check failed for model.fc1.weight at index 234995\n"
          ]
        },
        {
          "metadata": {
            "tags": null
          },
          "name": "stderr",
          "output_type": "stream",
          "text": [
            "100%|██████████| 7326/7326 [00:31<00:00, 232.28it/s]\n",
            "100%|██████████| 1832/1832 [00:05<00:00, 316.87it/s]"
          ]
        },
        {
          "metadata": {
            "tags": null
          },
          "name": "stdout",
          "output_type": "stream",
          "text": [
            "\n",
            "Epoch [7/50], Train Loss: 1.2106, Train Acc: 63.36%, Val Loss: 1.1943, Val Acc: 64.35%\n"
          ]
        },
        {
          "metadata": {
            "tags": null
          },
          "name": "stderr",
          "output_type": "stream",
          "text": [
            "\n"
          ]
        },
        {
          "metadata": {
            "tags": null
          },
          "name": "stdout",
          "output_type": "stream",
          "text": [
            "Validating gradient for: model.fc1.weight\n",
            "Gradient check failed for model.fc1.weight at index 380116\n"
          ]
        },
        {
          "metadata": {
            "tags": null
          },
          "name": "stderr",
          "output_type": "stream",
          "text": [
            "100%|██████████| 7326/7326 [00:32<00:00, 224.80it/s]\n",
            "100%|██████████| 1832/1832 [00:05<00:00, 349.88it/s]"
          ]
        },
        {
          "metadata": {
            "tags": null
          },
          "name": "stdout",
          "output_type": "stream",
          "text": [
            "\n",
            "Epoch [8/50], Train Loss: 1.1703, Train Acc: 64.49%, Val Loss: 1.1799, Val Acc: 64.95%\n"
          ]
        },
        {
          "metadata": {
            "tags": null
          },
          "name": "stderr",
          "output_type": "stream",
          "text": [
            "\n"
          ]
        },
        {
          "metadata": {
            "tags": null
          },
          "name": "stdout",
          "output_type": "stream",
          "text": [
            "Validating gradient for: model.fc1.weight\n",
            "Gradient check failed for model.fc1.weight at index 316043\n"
          ]
        },
        {
          "metadata": {
            "tags": null
          },
          "name": "stderr",
          "output_type": "stream",
          "text": [
            "100%|██████████| 7326/7326 [00:31<00:00, 228.98it/s]\n",
            "100%|██████████| 1832/1832 [00:06<00:00, 272.20it/s]"
          ]
        },
        {
          "metadata": {
            "tags": null
          },
          "name": "stdout",
          "output_type": "stream",
          "text": [
            "\n",
            "Epoch [9/50], Train Loss: 1.1380, Train Acc: 65.62%, Val Loss: 1.1254, Val Acc: 66.62%\n"
          ]
        },
        {
          "metadata": {
            "tags": null
          },
          "name": "stderr",
          "output_type": "stream",
          "text": [
            "\n"
          ]
        },
        {
          "metadata": {
            "tags": null
          },
          "name": "stdout",
          "output_type": "stream",
          "text": [
            "Validating gradient for: model.fc1.weight\n",
            "Gradient check failed for model.fc1.weight at index 34917\n"
          ]
        },
        {
          "metadata": {
            "tags": null
          },
          "name": "stderr",
          "output_type": "stream",
          "text": [
            "100%|██████████| 7326/7326 [00:32<00:00, 227.00it/s]\n",
            "100%|██████████| 1832/1832 [00:05<00:00, 347.09it/s]"
          ]
        },
        {
          "metadata": {
            "tags": null
          },
          "name": "stdout",
          "output_type": "stream",
          "text": [
            "\n",
            "Epoch [10/50], Train Loss: 1.1102, Train Acc: 66.47%, Val Loss: 1.1059, Val Acc: 66.86%\n"
          ]
        },
        {
          "metadata": {
            "tags": null
          },
          "name": "stderr",
          "output_type": "stream",
          "text": [
            "\n"
          ]
        },
        {
          "metadata": {
            "tags": null
          },
          "name": "stdout",
          "output_type": "stream",
          "text": [
            "Validating gradient for: model.fc1.weight\n",
            "Gradient check failed for model.fc1.weight at index 11765\n"
          ]
        },
        {
          "metadata": {
            "tags": null
          },
          "name": "stderr",
          "output_type": "stream",
          "text": [
            "100%|██████████| 7326/7326 [00:31<00:00, 233.08it/s]\n",
            "100%|██████████| 1832/1832 [00:06<00:00, 267.98it/s]"
          ]
        },
        {
          "metadata": {
            "tags": null
          },
          "name": "stdout",
          "output_type": "stream",
          "text": [
            "\n",
            "Epoch [11/50], Train Loss: 1.0858, Train Acc: 67.34%, Val Loss: 1.0758, Val Acc: 67.86%\n"
          ]
        },
        {
          "metadata": {
            "tags": null
          },
          "name": "stderr",
          "output_type": "stream",
          "text": [
            "\n"
          ]
        },
        {
          "metadata": {
            "tags": null
          },
          "name": "stdout",
          "output_type": "stream",
          "text": [
            "Validating gradient for: model.fc1.weight\n",
            "Gradient check failed for model.fc1.weight at index 235798\n"
          ]
        },
        {
          "metadata": {
            "tags": null
          },
          "name": "stderr",
          "output_type": "stream",
          "text": [
            "100%|██████████| 7326/7326 [00:33<00:00, 218.42it/s]\n",
            "100%|██████████| 1832/1832 [00:06<00:00, 292.36it/s]"
          ]
        },
        {
          "metadata": {
            "tags": null
          },
          "name": "stdout",
          "output_type": "stream",
          "text": [
            "\n",
            "Epoch [12/50], Train Loss: 1.0670, Train Acc: 68.00%, Val Loss: 1.0596, Val Acc: 68.56%\n"
          ]
        },
        {
          "metadata": {
            "tags": null
          },
          "name": "stderr",
          "output_type": "stream",
          "text": [
            "\n"
          ]
        },
        {
          "metadata": {
            "tags": null
          },
          "name": "stdout",
          "output_type": "stream",
          "text": [
            "Validating gradient for: model.fc1.weight\n",
            "Gradient check failed for model.fc1.weight at index 378200\n"
          ]
        },
        {
          "metadata": {
            "tags": null
          },
          "name": "stderr",
          "output_type": "stream",
          "text": [
            "100%|██████████| 7326/7326 [00:31<00:00, 229.69it/s]\n",
            "100%|██████████| 1832/1832 [00:05<00:00, 350.83it/s]"
          ]
        },
        {
          "metadata": {
            "tags": null
          },
          "name": "stdout",
          "output_type": "stream",
          "text": [
            "\n",
            "Epoch [13/50], Train Loss: 1.0489, Train Acc: 68.62%, Val Loss: 1.0664, Val Acc: 67.61%\n"
          ]
        },
        {
          "metadata": {
            "tags": null
          },
          "name": "stderr",
          "output_type": "stream",
          "text": [
            "\n"
          ]
        },
        {
          "metadata": {
            "tags": null
          },
          "name": "stdout",
          "output_type": "stream",
          "text": [
            "Validating gradient for: model.fc1.weight\n",
            "Validating gradient for: model.fc1.bias\n",
            "Validating gradient for: model.fc2.weight\n",
            "Validating gradient for: model.fc2.bias\n",
            "Gradient check passed successfully!\n"
          ]
        },
        {
          "metadata": {
            "tags": null
          },
          "name": "stderr",
          "output_type": "stream",
          "text": [
            "100%|██████████| 7326/7326 [00:32<00:00, 225.31it/s]\n",
            "100%|██████████| 1832/1832 [00:06<00:00, 283.31it/s]"
          ]
        },
        {
          "metadata": {
            "tags": null
          },
          "name": "stdout",
          "output_type": "stream",
          "text": [
            "\n",
            "Epoch [14/50], Train Loss: 1.0303, Train Acc: 69.11%, Val Loss: 1.0287, Val Acc: 69.38%\n"
          ]
        },
        {
          "metadata": {
            "tags": null
          },
          "name": "stderr",
          "output_type": "stream",
          "text": [
            "\n"
          ]
        },
        {
          "metadata": {
            "tags": null
          },
          "name": "stdout",
          "output_type": "stream",
          "text": [
            "Validating gradient for: model.fc1.weight\n",
            "Gradient check failed for model.fc1.weight at index 23212\n"
          ]
        },
        {
          "metadata": {
            "tags": null
          },
          "name": "stderr",
          "output_type": "stream",
          "text": [
            "100%|██████████| 7326/7326 [00:32<00:00, 228.83it/s]\n",
            "100%|██████████| 1832/1832 [00:06<00:00, 284.50it/s]"
          ]
        },
        {
          "metadata": {
            "tags": null
          },
          "name": "stdout",
          "output_type": "stream",
          "text": [
            "\n",
            "Epoch [15/50], Train Loss: 1.0160, Train Acc: 69.49%, Val Loss: 1.0361, Val Acc: 68.97%\n"
          ]
        },
        {
          "metadata": {
            "tags": null
          },
          "name": "stderr",
          "output_type": "stream",
          "text": [
            "\n"
          ]
        },
        {
          "metadata": {
            "tags": null
          },
          "name": "stdout",
          "output_type": "stream",
          "text": [
            "Validating gradient for: model.fc1.weight\n",
            "Gradient check failed for model.fc1.weight at index 12003\n"
          ]
        },
        {
          "metadata": {
            "tags": null
          },
          "name": "stderr",
          "output_type": "stream",
          "text": [
            "100%|██████████| 7326/7326 [00:32<00:00, 228.03it/s]\n",
            "100%|██████████| 1832/1832 [00:05<00:00, 348.67it/s]"
          ]
        },
        {
          "metadata": {
            "tags": null
          },
          "name": "stdout",
          "output_type": "stream",
          "text": [
            "\n",
            "Epoch [16/50], Train Loss: 1.0035, Train Acc: 69.87%, Val Loss: 0.9996, Val Acc: 70.52%\n"
          ]
        },
        {
          "metadata": {
            "tags": null
          },
          "name": "stderr",
          "output_type": "stream",
          "text": [
            "\n"
          ]
        },
        {
          "metadata": {
            "tags": null
          },
          "name": "stdout",
          "output_type": "stream",
          "text": [
            "Validating gradient for: model.fc1.weight\n",
            "Gradient check failed for model.fc1.weight at index 9518\n"
          ]
        },
        {
          "metadata": {
            "tags": null
          },
          "name": "stderr",
          "output_type": "stream",
          "text": [
            "100%|██████████| 7326/7326 [00:34<00:00, 211.23it/s]\n",
            "100%|██████████| 1832/1832 [00:05<00:00, 335.55it/s]"
          ]
        },
        {
          "metadata": {
            "tags": null
          },
          "name": "stdout",
          "output_type": "stream",
          "text": [
            "\n",
            "Epoch [17/50], Train Loss: 0.9905, Train Acc: 70.27%, Val Loss: 1.0767, Val Acc: 67.52%\n"
          ]
        },
        {
          "metadata": {
            "tags": null
          },
          "name": "stderr",
          "output_type": "stream",
          "text": [
            "\n"
          ]
        },
        {
          "metadata": {
            "tags": null
          },
          "name": "stdout",
          "output_type": "stream",
          "text": [
            "Validating gradient for: model.fc1.weight\n",
            "Gradient check failed for model.fc1.weight at index 38183\n"
          ]
        },
        {
          "metadata": {
            "tags": null
          },
          "name": "stderr",
          "output_type": "stream",
          "text": [
            "100%|██████████| 7326/7326 [00:31<00:00, 230.23it/s]\n",
            "100%|██████████| 1832/1832 [00:06<00:00, 268.19it/s]"
          ]
        },
        {
          "metadata": {
            "tags": null
          },
          "name": "stdout",
          "output_type": "stream",
          "text": [
            "\n",
            "Epoch [18/50], Train Loss: 0.9782, Train Acc: 70.69%, Val Loss: 1.0094, Val Acc: 70.11%\n"
          ]
        },
        {
          "metadata": {
            "tags": null
          },
          "name": "stderr",
          "output_type": "stream",
          "text": [
            "\n"
          ]
        },
        {
          "metadata": {
            "tags": null
          },
          "name": "stdout",
          "output_type": "stream",
          "text": [
            "Validating gradient for: model.fc1.weight\n",
            "Gradient check failed for model.fc1.weight at index 109745\n"
          ]
        },
        {
          "metadata": {
            "tags": null
          },
          "name": "stderr",
          "output_type": "stream",
          "text": [
            "100%|██████████| 7326/7326 [00:31<00:00, 231.41it/s]\n",
            "100%|██████████| 1832/1832 [00:05<00:00, 354.84it/s]"
          ]
        },
        {
          "metadata": {
            "tags": null
          },
          "name": "stdout",
          "output_type": "stream",
          "text": [
            "\n",
            "Epoch [19/50], Train Loss: 0.9663, Train Acc: 71.08%, Val Loss: 1.0439, Val Acc: 68.75%\n"
          ]
        },
        {
          "metadata": {
            "tags": null
          },
          "name": "stderr",
          "output_type": "stream",
          "text": [
            "\n"
          ]
        },
        {
          "metadata": {
            "tags": null
          },
          "name": "stdout",
          "output_type": "stream",
          "text": [
            "Validating gradient for: model.fc1.weight\n",
            "Validating gradient for: model.fc1.bias\n",
            "Validating gradient for: model.fc2.weight\n",
            "Validating gradient for: model.fc2.bias\n",
            "Gradient check passed successfully!\n"
          ]
        },
        {
          "output_type": "stream",
          "name": "stderr",
          "text": [
            "100%|██████████| 7326/7326 [00:32<00:00, 227.80it/s]\n",
            "100%|██████████| 1832/1832 [00:06<00:00, 271.93it/s]"
          ]
        },
        {
          "output_type": "stream",
          "name": "stdout",
          "text": [
            "\n",
            "Epoch [20/50], Train Loss: 0.9571, Train Acc: 71.26%, Val Loss: 0.9821, Val Acc: 71.10%\n"
          ]
        },
        {
          "output_type": "stream",
          "name": "stderr",
          "text": [
            "\n"
          ]
        },
        {
          "output_type": "stream",
          "name": "stdout",
          "text": [
            "Validating gradient for: model.fc1.weight\n",
            "Gradient check failed for model.fc1.weight at index 14203\n"
          ]
        },
        {
          "output_type": "stream",
          "name": "stderr",
          "text": [
            "100%|██████████| 7326/7326 [00:31<00:00, 233.39it/s]\n",
            "100%|██████████| 1832/1832 [00:05<00:00, 321.34it/s]"
          ]
        },
        {
          "output_type": "stream",
          "name": "stdout",
          "text": [
            "\n",
            "Epoch [21/50], Train Loss: 0.9445, Train Acc: 71.65%, Val Loss: 0.9789, Val Acc: 71.04%\n"
          ]
        },
        {
          "output_type": "stream",
          "name": "stderr",
          "text": [
            "\n"
          ]
        },
        {
          "output_type": "stream",
          "name": "stdout",
          "text": [
            "Validating gradient for: model.fc1.weight\n",
            "Gradient check failed for model.fc1.weight at index 35668\n"
          ]
        },
        {
          "output_type": "stream",
          "name": "stderr",
          "text": [
            "100%|██████████| 7326/7326 [00:34<00:00, 212.21it/s]\n",
            "100%|██████████| 1832/1832 [00:05<00:00, 354.04it/s]"
          ]
        },
        {
          "output_type": "stream",
          "name": "stdout",
          "text": [
            "\n",
            "Epoch [22/50], Train Loss: 0.9354, Train Acc: 71.98%, Val Loss: 1.0014, Val Acc: 70.18%\n"
          ]
        },
        {
          "output_type": "stream",
          "name": "stderr",
          "text": [
            "\n"
          ]
        },
        {
          "output_type": "stream",
          "name": "stdout",
          "text": [
            "Validating gradient for: model.fc1.weight\n",
            "Gradient check failed for model.fc1.weight at index 492425\n"
          ]
        },
        {
          "output_type": "stream",
          "name": "stderr",
          "text": [
            "100%|██████████| 7326/7326 [00:31<00:00, 229.14it/s]\n",
            "100%|██████████| 1832/1832 [00:06<00:00, 281.47it/s]"
          ]
        },
        {
          "output_type": "stream",
          "name": "stdout",
          "text": [
            "\n",
            "Epoch [23/50], Train Loss: 0.9273, Train Acc: 72.16%, Val Loss: 0.9560, Val Acc: 71.49%\n"
          ]
        },
        {
          "output_type": "stream",
          "name": "stderr",
          "text": [
            "\n"
          ]
        },
        {
          "output_type": "stream",
          "name": "stdout",
          "text": [
            "Validating gradient for: model.fc1.weight\n",
            "Validating gradient for: model.fc1.bias\n",
            "Validating gradient for: model.fc2.weight\n",
            "Validating gradient for: model.fc2.bias\n",
            "Gradient check passed successfully!\n"
          ]
        },
        {
          "output_type": "stream",
          "name": "stderr",
          "text": [
            "100%|██████████| 7326/7326 [00:32<00:00, 227.62it/s]\n",
            "100%|██████████| 1832/1832 [00:06<00:00, 277.79it/s]"
          ]
        },
        {
          "output_type": "stream",
          "name": "stdout",
          "text": [
            "\n",
            "Epoch [24/50], Train Loss: 0.9187, Train Acc: 72.56%, Val Loss: 0.9665, Val Acc: 71.70%\n"
          ]
        },
        {
          "output_type": "stream",
          "name": "stderr",
          "text": [
            "\n"
          ]
        },
        {
          "output_type": "stream",
          "name": "stdout",
          "text": [
            "Validating gradient for: model.fc1.weight\n",
            "Validating gradient for: model.fc1.bias\n",
            "Validating gradient for: model.fc2.weight\n",
            "Validating gradient for: model.fc2.bias\n",
            "Gradient check passed successfully!\n"
          ]
        },
        {
          "output_type": "stream",
          "name": "stderr",
          "text": [
            "100%|██████████| 7326/7326 [00:31<00:00, 229.77it/s]\n",
            "100%|██████████| 1832/1832 [00:05<00:00, 340.16it/s]"
          ]
        },
        {
          "output_type": "stream",
          "name": "stdout",
          "text": [
            "\n",
            "Epoch [25/50], Train Loss: 0.9099, Train Acc: 72.82%, Val Loss: 0.9457, Val Acc: 72.19%\n"
          ]
        },
        {
          "output_type": "stream",
          "name": "stderr",
          "text": [
            "\n"
          ]
        },
        {
          "output_type": "stream",
          "name": "stdout",
          "text": [
            "Validating gradient for: model.fc1.weight\n",
            "Gradient check failed for model.fc1.weight at index 38798\n"
          ]
        },
        {
          "output_type": "stream",
          "name": "stderr",
          "text": [
            "100%|██████████| 7326/7326 [00:32<00:00, 226.68it/s]\n",
            "100%|██████████| 1832/1832 [00:06<00:00, 274.01it/s]"
          ]
        },
        {
          "output_type": "stream",
          "name": "stdout",
          "text": [
            "\n",
            "Epoch [26/50], Train Loss: 0.9027, Train Acc: 73.10%, Val Loss: 0.9217, Val Acc: 73.20%\n"
          ]
        },
        {
          "output_type": "stream",
          "name": "stderr",
          "text": [
            "\n"
          ]
        },
        {
          "output_type": "stream",
          "name": "stdout",
          "text": [
            "Validating gradient for: model.fc1.weight\n",
            "Gradient check failed for model.fc1.weight at index 35973\n"
          ]
        },
        {
          "output_type": "stream",
          "name": "stderr",
          "text": [
            "100%|██████████| 7326/7326 [00:32<00:00, 222.14it/s]\n",
            "100%|██████████| 1832/1832 [00:06<00:00, 294.76it/s]"
          ]
        },
        {
          "output_type": "stream",
          "name": "stdout",
          "text": [
            "\n",
            "Epoch [27/50], Train Loss: 0.8944, Train Acc: 73.34%, Val Loss: 0.9126, Val Acc: 73.43%\n"
          ]
        },
        {
          "output_type": "stream",
          "name": "stderr",
          "text": [
            "\n"
          ]
        },
        {
          "output_type": "stream",
          "name": "stdout",
          "text": [
            "Validating gradient for: model.fc1.weight\n",
            "Gradient check failed for model.fc1.weight at index 561390\n"
          ]
        },
        {
          "output_type": "stream",
          "name": "stderr",
          "text": [
            "100%|██████████| 7326/7326 [00:31<00:00, 232.38it/s]\n",
            "100%|██████████| 1832/1832 [00:05<00:00, 353.70it/s]"
          ]
        },
        {
          "output_type": "stream",
          "name": "stdout",
          "text": [
            "\n",
            "Epoch [28/50], Train Loss: 0.8877, Train Acc: 73.46%, Val Loss: 0.9228, Val Acc: 72.95%\n"
          ]
        },
        {
          "output_type": "stream",
          "name": "stderr",
          "text": [
            "\n"
          ]
        },
        {
          "output_type": "stream",
          "name": "stdout",
          "text": [
            "Validating gradient for: model.fc1.weight\n",
            "Gradient check failed for model.fc1.weight at index 380058\n"
          ]
        },
        {
          "output_type": "stream",
          "name": "stderr",
          "text": [
            "100%|██████████| 7326/7326 [00:31<00:00, 231.09it/s]\n",
            "100%|██████████| 1832/1832 [00:06<00:00, 274.86it/s]"
          ]
        },
        {
          "output_type": "stream",
          "name": "stdout",
          "text": [
            "\n",
            "Epoch [29/50], Train Loss: 0.8807, Train Acc: 73.71%, Val Loss: 0.9127, Val Acc: 73.51%\n"
          ]
        },
        {
          "output_type": "stream",
          "name": "stderr",
          "text": [
            "\n"
          ]
        },
        {
          "output_type": "stream",
          "name": "stdout",
          "text": [
            "Validating gradient for: model.fc1.weight\n",
            "Validating gradient for: model.fc1.bias\n",
            "Validating gradient for: model.fc2.weight\n",
            "Validating gradient for: model.fc2.bias\n",
            "Gradient check passed successfully!\n"
          ]
        },
        {
          "output_type": "stream",
          "name": "stderr",
          "text": [
            "100%|██████████| 7326/7326 [00:31<00:00, 231.91it/s]\n",
            "100%|██████████| 1832/1832 [00:05<00:00, 325.75it/s]"
          ]
        },
        {
          "output_type": "stream",
          "name": "stdout",
          "text": [
            "\n",
            "Epoch [30/50], Train Loss: 0.8750, Train Acc: 73.77%, Val Loss: 0.9064, Val Acc: 73.68%\n"
          ]
        },
        {
          "output_type": "stream",
          "name": "stderr",
          "text": [
            "\n"
          ]
        },
        {
          "output_type": "stream",
          "name": "stdout",
          "text": [
            "Validating gradient for: model.fc1.weight\n",
            "Gradient check failed for model.fc1.weight at index 593245\n"
          ]
        },
        {
          "output_type": "stream",
          "name": "stderr",
          "text": [
            "100%|██████████| 7326/7326 [00:32<00:00, 223.21it/s]\n",
            "100%|██████████| 1832/1832 [00:05<00:00, 349.17it/s]"
          ]
        },
        {
          "output_type": "stream",
          "name": "stdout",
          "text": [
            "\n",
            "Epoch [31/50], Train Loss: 0.8698, Train Acc: 73.98%, Val Loss: 0.8822, Val Acc: 74.41%\n"
          ]
        },
        {
          "output_type": "stream",
          "name": "stderr",
          "text": [
            "\n"
          ]
        },
        {
          "output_type": "stream",
          "name": "stdout",
          "text": [
            "Validating gradient for: model.fc1.weight\n",
            "Validating gradient for: model.fc1.bias\n",
            "Validating gradient for: model.fc2.weight\n",
            "Validating gradient for: model.fc2.bias\n",
            "Gradient check passed successfully!\n"
          ]
        },
        {
          "output_type": "stream",
          "name": "stderr",
          "text": [
            "100%|██████████| 7326/7326 [00:31<00:00, 230.59it/s]\n",
            "100%|██████████| 1832/1832 [00:08<00:00, 223.29it/s]"
          ]
        },
        {
          "output_type": "stream",
          "name": "stdout",
          "text": [
            "\n",
            "Epoch [32/50], Train Loss: 0.8647, Train Acc: 74.30%, Val Loss: 0.9003, Val Acc: 73.42%\n"
          ]
        },
        {
          "output_type": "stream",
          "name": "stderr",
          "text": [
            "\n"
          ]
        },
        {
          "output_type": "stream",
          "name": "stdout",
          "text": [
            "Validating gradient for: model.fc1.weight\n",
            "Gradient check failed for model.fc1.weight at index 741930\n"
          ]
        },
        {
          "output_type": "stream",
          "name": "stderr",
          "text": [
            "100%|██████████| 7326/7326 [00:31<00:00, 229.07it/s]\n",
            "100%|██████████| 1832/1832 [00:05<00:00, 342.01it/s]"
          ]
        },
        {
          "output_type": "stream",
          "name": "stdout",
          "text": [
            "\n",
            "Epoch [33/50], Train Loss: 0.8570, Train Acc: 74.36%, Val Loss: 0.9001, Val Acc: 73.83%\n"
          ]
        },
        {
          "output_type": "stream",
          "name": "stderr",
          "text": [
            "\n"
          ]
        },
        {
          "output_type": "stream",
          "name": "stdout",
          "text": [
            "Validating gradient for: model.fc1.weight\n",
            "Gradient check failed for model.fc1.weight at index 730096\n"
          ]
        },
        {
          "output_type": "stream",
          "name": "stderr",
          "text": [
            "100%|██████████| 7326/7326 [00:33<00:00, 221.24it/s]\n",
            "100%|██████████| 1832/1832 [00:05<00:00, 324.49it/s]"
          ]
        },
        {
          "output_type": "stream",
          "name": "stdout",
          "text": [
            "\n",
            "Epoch [34/50], Train Loss: 0.8523, Train Acc: 74.54%, Val Loss: 0.9068, Val Acc: 73.47%\n"
          ]
        },
        {
          "output_type": "stream",
          "name": "stderr",
          "text": [
            "\n"
          ]
        },
        {
          "output_type": "stream",
          "name": "stdout",
          "text": [
            "Validating gradient for: model.fc1.weight\n",
            "Gradient check failed for model.fc1.weight at index 39244\n"
          ]
        },
        {
          "output_type": "stream",
          "name": "stderr",
          "text": [
            "100%|██████████| 7326/7326 [00:32<00:00, 225.84it/s]\n",
            "100%|██████████| 1832/1832 [00:06<00:00, 267.04it/s]"
          ]
        },
        {
          "output_type": "stream",
          "name": "stdout",
          "text": [
            "\n",
            "Epoch [35/50], Train Loss: 0.8482, Train Acc: 74.74%, Val Loss: 0.8909, Val Acc: 74.13%\n"
          ]
        },
        {
          "output_type": "stream",
          "name": "stderr",
          "text": [
            "\n"
          ]
        },
        {
          "output_type": "stream",
          "name": "stdout",
          "text": [
            "Validating gradient for: model.fc1.weight\n",
            "Gradient check failed for model.fc1.weight at index 457642\n"
          ]
        },
        {
          "output_type": "stream",
          "name": "stderr",
          "text": [
            "100%|██████████| 7326/7326 [00:32<00:00, 222.26it/s]\n",
            "100%|██████████| 1832/1832 [00:05<00:00, 327.65it/s]"
          ]
        },
        {
          "output_type": "stream",
          "name": "stdout",
          "text": [
            "\n",
            "Epoch [36/50], Train Loss: 0.8433, Train Acc: 74.69%, Val Loss: 0.8805, Val Acc: 74.40%\n"
          ]
        },
        {
          "output_type": "stream",
          "name": "stderr",
          "text": [
            "\n"
          ]
        },
        {
          "output_type": "stream",
          "name": "stdout",
          "text": [
            "Validating gradient for: model.fc1.weight\n",
            "Gradient check failed for model.fc1.weight at index 109383\n"
          ]
        },
        {
          "output_type": "stream",
          "name": "stderr",
          "text": [
            "100%|██████████| 7326/7326 [00:33<00:00, 220.03it/s]\n",
            "100%|██████████| 1832/1832 [00:05<00:00, 343.07it/s]"
          ]
        },
        {
          "output_type": "stream",
          "name": "stdout",
          "text": [
            "\n",
            "Epoch [37/50], Train Loss: 0.8380, Train Acc: 75.12%, Val Loss: 0.8611, Val Acc: 74.80%\n"
          ]
        },
        {
          "output_type": "stream",
          "name": "stderr",
          "text": [
            "\n"
          ]
        },
        {
          "output_type": "stream",
          "name": "stdout",
          "text": [
            "Validating gradient for: model.fc1.weight\n",
            "Gradient check failed for model.fc1.weight at index 13000\n"
          ]
        },
        {
          "output_type": "stream",
          "name": "stderr",
          "text": [
            "100%|██████████| 7326/7326 [00:33<00:00, 218.20it/s]\n",
            "100%|██████████| 1832/1832 [00:07<00:00, 261.14it/s]"
          ]
        },
        {
          "output_type": "stream",
          "name": "stdout",
          "text": [
            "\n",
            "Epoch [38/50], Train Loss: 0.8334, Train Acc: 75.10%, Val Loss: 0.9154, Val Acc: 72.85%\n"
          ]
        },
        {
          "output_type": "stream",
          "name": "stderr",
          "text": [
            "\n"
          ]
        },
        {
          "output_type": "stream",
          "name": "stdout",
          "text": [
            "Validating gradient for: model.fc1.weight\n",
            "Validating gradient for: model.fc1.bias\n",
            "Validating gradient for: model.fc2.weight\n",
            "Validating gradient for: model.fc2.bias\n",
            "Gradient check passed successfully!\n"
          ]
        },
        {
          "output_type": "stream",
          "name": "stderr",
          "text": [
            "100%|██████████| 7326/7326 [00:32<00:00, 225.89it/s]\n",
            "100%|██████████| 1832/1832 [00:06<00:00, 292.56it/s]"
          ]
        },
        {
          "output_type": "stream",
          "name": "stdout",
          "text": [
            "\n",
            "Epoch [39/50], Train Loss: 0.8300, Train Acc: 75.23%, Val Loss: 0.8393, Val Acc: 76.02%\n"
          ]
        },
        {
          "output_type": "stream",
          "name": "stderr",
          "text": [
            "\n"
          ]
        },
        {
          "output_type": "stream",
          "name": "stdout",
          "text": [
            "Validating gradient for: model.fc1.weight\n",
            "Gradient check failed for model.fc1.weight at index 454664\n"
          ]
        },
        {
          "output_type": "stream",
          "name": "stderr",
          "text": [
            "100%|██████████| 7326/7326 [00:32<00:00, 224.49it/s]\n",
            "100%|██████████| 1832/1832 [00:05<00:00, 324.33it/s]"
          ]
        },
        {
          "output_type": "stream",
          "name": "stdout",
          "text": [
            "\n",
            "Epoch [40/50], Train Loss: 0.8258, Train Acc: 75.40%, Val Loss: 0.8464, Val Acc: 75.61%\n"
          ]
        },
        {
          "output_type": "stream",
          "name": "stderr",
          "text": [
            "\n"
          ]
        },
        {
          "output_type": "stream",
          "name": "stdout",
          "text": [
            "Validating gradient for: model.fc1.weight\n",
            "Gradient check failed for model.fc1.weight at index 234531\n"
          ]
        },
        {
          "output_type": "stream",
          "name": "stderr",
          "text": [
            "100%|██████████| 7326/7326 [00:34<00:00, 210.15it/s]\n",
            "100%|██████████| 1832/1832 [00:05<00:00, 337.71it/s]"
          ]
        },
        {
          "output_type": "stream",
          "name": "stdout",
          "text": [
            "\n",
            "Epoch [41/50], Train Loss: 0.8217, Train Acc: 75.45%, Val Loss: 0.9388, Val Acc: 72.30%\n"
          ]
        },
        {
          "output_type": "stream",
          "name": "stderr",
          "text": [
            "\n"
          ]
        },
        {
          "output_type": "stream",
          "name": "stdout",
          "text": [
            "Validating gradient for: model.fc1.weight\n",
            "Gradient check failed for model.fc1.weight at index 309030\n"
          ]
        },
        {
          "output_type": "stream",
          "name": "stderr",
          "text": [
            "100%|██████████| 7326/7326 [00:32<00:00, 223.16it/s]\n",
            "100%|██████████| 1832/1832 [00:07<00:00, 241.57it/s]"
          ]
        },
        {
          "output_type": "stream",
          "name": "stdout",
          "text": [
            "\n",
            "Epoch [42/50], Train Loss: 0.8194, Train Acc: 75.68%, Val Loss: 0.8979, Val Acc: 73.80%\n"
          ]
        },
        {
          "output_type": "stream",
          "name": "stderr",
          "text": [
            "\n"
          ]
        },
        {
          "output_type": "stream",
          "name": "stdout",
          "text": [
            "Validating gradient for: model.fc1.weight\n",
            "Gradient check failed for model.fc1.weight at index 538670\n"
          ]
        },
        {
          "output_type": "stream",
          "name": "stderr",
          "text": [
            "100%|██████████| 7326/7326 [00:33<00:00, 221.48it/s]\n",
            "100%|██████████| 1832/1832 [00:06<00:00, 269.11it/s]"
          ]
        },
        {
          "output_type": "stream",
          "name": "stdout",
          "text": [
            "\n",
            "Epoch [43/50], Train Loss: 0.8156, Train Acc: 75.75%, Val Loss: 0.8838, Val Acc: 73.81%\n"
          ]
        },
        {
          "output_type": "stream",
          "name": "stderr",
          "text": [
            "\n"
          ]
        },
        {
          "output_type": "stream",
          "name": "stdout",
          "text": [
            "Validating gradient for: model.fc1.weight\n",
            "Validating gradient for: model.fc1.bias\n",
            "Validating gradient for: model.fc2.weight\n",
            "Validating gradient for: model.fc2.bias\n",
            "Gradient check passed successfully!\n"
          ]
        },
        {
          "output_type": "stream",
          "name": "stderr",
          "text": [
            "100%|██████████| 7326/7326 [00:32<00:00, 226.70it/s]\n",
            "100%|██████████| 1832/1832 [00:05<00:00, 352.72it/s]"
          ]
        },
        {
          "output_type": "stream",
          "name": "stdout",
          "text": [
            "\n",
            "Epoch [44/50], Train Loss: 0.8128, Train Acc: 75.80%, Val Loss: 0.9065, Val Acc: 73.20%\n"
          ]
        },
        {
          "output_type": "stream",
          "name": "stderr",
          "text": [
            "\n"
          ]
        },
        {
          "output_type": "stream",
          "name": "stdout",
          "text": [
            "Validating gradient for: model.fc1.weight\n",
            "Gradient check failed for model.fc1.weight at index 22047\n"
          ]
        },
        {
          "output_type": "stream",
          "name": "stderr",
          "text": [
            "100%|██████████| 7326/7326 [00:32<00:00, 227.06it/s]\n",
            "100%|██████████| 1832/1832 [00:06<00:00, 270.52it/s]"
          ]
        },
        {
          "output_type": "stream",
          "name": "stdout",
          "text": [
            "\n",
            "Epoch [45/50], Train Loss: 0.8083, Train Acc: 76.00%, Val Loss: 0.8457, Val Acc: 75.60%\n"
          ]
        },
        {
          "output_type": "stream",
          "name": "stderr",
          "text": [
            "\n"
          ]
        },
        {
          "output_type": "stream",
          "name": "stdout",
          "text": [
            "Validating gradient for: model.fc1.weight\n",
            "Gradient check failed for model.fc1.weight at index 311937\n"
          ]
        },
        {
          "output_type": "stream",
          "name": "stderr",
          "text": [
            "100%|██████████| 7326/7326 [00:32<00:00, 228.77it/s]\n",
            "100%|██████████| 1832/1832 [00:05<00:00, 333.35it/s]"
          ]
        },
        {
          "output_type": "stream",
          "name": "stdout",
          "text": [
            "\n",
            "Epoch [46/50], Train Loss: 0.8049, Train Acc: 75.90%, Val Loss: 0.8225, Val Acc: 76.35%\n"
          ]
        },
        {
          "output_type": "stream",
          "name": "stderr",
          "text": [
            "\n"
          ]
        },
        {
          "output_type": "stream",
          "name": "stdout",
          "text": [
            "Validating gradient for: model.fc1.weight\n",
            "Validating gradient for: model.fc1.bias\n",
            "Validating gradient for: model.fc2.weight\n",
            "Validating gradient for: model.fc2.bias\n",
            "Gradient check passed successfully!\n"
          ]
        },
        {
          "output_type": "stream",
          "name": "stderr",
          "text": [
            "100%|██████████| 7326/7326 [00:33<00:00, 215.59it/s]\n",
            "100%|██████████| 1832/1832 [00:06<00:00, 277.73it/s]"
          ]
        },
        {
          "output_type": "stream",
          "name": "stdout",
          "text": [
            "\n",
            "Epoch [47/50], Train Loss: 0.8028, Train Acc: 76.13%, Val Loss: 0.8804, Val Acc: 74.21%\n"
          ]
        },
        {
          "output_type": "stream",
          "name": "stderr",
          "text": [
            "\n"
          ]
        },
        {
          "output_type": "stream",
          "name": "stdout",
          "text": [
            "Validating gradient for: model.fc1.weight\n",
            "Gradient check failed for model.fc1.weight at index 107913\n"
          ]
        },
        {
          "output_type": "stream",
          "name": "stderr",
          "text": [
            "100%|██████████| 7326/7326 [00:34<00:00, 215.41it/s]\n",
            "100%|██████████| 1832/1832 [00:05<00:00, 315.45it/s]"
          ]
        },
        {
          "output_type": "stream",
          "name": "stdout",
          "text": [
            "\n",
            "Epoch [48/50], Train Loss: 0.8004, Train Acc: 76.00%, Val Loss: 0.8381, Val Acc: 75.76%\n"
          ]
        },
        {
          "output_type": "stream",
          "name": "stderr",
          "text": [
            "\n"
          ]
        },
        {
          "output_type": "stream",
          "name": "stdout",
          "text": [
            "Validating gradient for: model.fc1.weight\n",
            "Gradient check failed for model.fc1.weight at index 312801\n"
          ]
        },
        {
          "output_type": "stream",
          "name": "stderr",
          "text": [
            "100%|██████████| 7326/7326 [00:33<00:00, 220.89it/s]\n",
            "100%|██████████| 1832/1832 [00:06<00:00, 275.97it/s]"
          ]
        },
        {
          "output_type": "stream",
          "name": "stdout",
          "text": [
            "\n",
            "Epoch [49/50], Train Loss: 0.7973, Train Acc: 76.23%, Val Loss: 0.8568, Val Acc: 74.97%\n"
          ]
        },
        {
          "output_type": "stream",
          "name": "stderr",
          "text": [
            "\n"
          ]
        },
        {
          "output_type": "stream",
          "name": "stdout",
          "text": [
            "Validating gradient for: model.fc1.weight\n",
            "Gradient check failed for model.fc1.weight at index 542548\n"
          ]
        },
        {
          "output_type": "stream",
          "name": "stderr",
          "text": [
            "100%|██████████| 7326/7326 [00:32<00:00, 222.18it/s]\n",
            "100%|██████████| 1832/1832 [00:06<00:00, 278.06it/s]"
          ]
        },
        {
          "output_type": "stream",
          "name": "stdout",
          "text": [
            "\n",
            "Epoch [50/50], Train Loss: 0.7939, Train Acc: 76.44%, Val Loss: 0.8465, Val Acc: 75.31%\n"
          ]
        },
        {
          "output_type": "stream",
          "name": "stderr",
          "text": [
            "\n"
          ]
        },
        {
          "output_type": "stream",
          "name": "stdout",
          "text": [
            "Validating gradient for: model.fc1.weight\n",
            "Gradient check failed for model.fc1.weight at index 12534\n"
          ]
        },
        {
          "output_type": "stream",
          "name": "stderr",
          "text": [
            "100%|██████████| 3254/3254 [00:09<00:00, 342.39it/s]\n"
          ]
        },
        {
          "output_type": "stream",
          "name": "stdout",
          "text": [
            "Test Accuracy with learning rate 0.0001 and weight_decay 0.0001: 72.58%\n"
          ]
        },
        {
          "output_type": "display_data",
          "data": {
            "text/plain": [
              "<Figure size 640x480 with 1 Axes>"
            ],
            "image/png": "[encoded data removed]"
          },
          "metadata": {}
        },
        {
          "output_type": "execute_result",
          "data": {
            "text/plain": [
              "  optimizer  learning_rate  weight_decay  val_accuracy\n",
              "0   RMSprop         0.0001        0.0100      0.633497\n",
              "0   RMSprop         0.0001        0.0010      0.727204\n",
              "0   RMSprop         0.0001        0.0001      0.763514"
            ],
            "text/html": [
              "\n",
              "  <div id=\"df-69f639e0-c162-4234-b8cf-0f88a9608d29\" class=\"colab-df-container\">\n",
              "    <div>\n",
              "<style scoped>\n",
              "    .dataframe tbody tr th:only-of-type {\n",
              "        vertical-align: middle;\n",
              "    }\n",
              "\n",
              "    .dataframe tbody tr th {\n",
              "        vertical-align: top;\n",
              "    }\n",
              "\n",
              "    .dataframe thead th {\n",
              "        text-align: right;\n",
              "    }\n",
              "</style>\n",
              "<table border=\"1\" class=\"dataframe\">\n",
              "  <thead>\n",
              "    <tr style=\"text-align: right;\">\n",
              "      <th></th>\n",
              "      <th>optimizer</th>\n",
              "      <th>learning_rate</th>\n",
              "      <th>weight_decay</th>\n",
              "      <th>val_accuracy</th>\n",
              "    </tr>\n",
              "  </thead>\n",
              "  <tbody>\n",
              "    <tr>\n",
              "      <th>0</th>\n",
              "      <td>RMSprop</td>\n",
              "      <td>0.0001</td>\n",
              "      <td>0.0100</td>\n",
              "      <td>0.633497</td>\n",
              "    </tr>\n",
              "    <tr>\n",
              "      <th>0</th>\n",
              "      <td>RMSprop</td>\n",
              "      <td>0.0001</td>\n",
              "      <td>0.0010</td>\n",
              "      <td>0.727204</td>\n",
              "    </tr>\n",
              "    <tr>\n",
              "      <th>0</th>\n",
              "      <td>RMSprop</td>\n",
              "      <td>0.0001</td>\n",
              "      <td>0.0001</td>\n",
              "      <td>0.763514</td>\n",
              "    </tr>\n",
              "  </tbody>\n",
              "</table>\n",
              "</div>\n",
              "    <div class=\"colab-df-buttons\">\n",
              "\n",
              "  <div class=\"colab-df-container\">\n",
              "    <button class=\"colab-df-convert\" onclick=\"convertToInteractive('df-69f639e0-c162-4234-b8cf-0f88a9608d29')\"\n",
              "            title=\"Convert this dataframe to an interactive table.\"\n",
              "            style=\"display:none;\">\n",
              "\n",
              "  <svg xmlns=\"http://www.w3.org/2000/svg\" height=\"24px\" viewBox=\"0 -960 960 960\">\n",
              "    <path d=\"M120-120v-720h720v720H120Zm60-500h600v-160H180v160Zm220 220h160v-160H400v160Zm0 220h160v-160H400v160ZM180-400h160v-160H180v160Zm440 0h160v-160H620v160ZM180-180h160v-160H180v160Zm440 0h160v-160H620v160Z\"/>\n",
              "  </svg>\n",
              "    </button>\n",
              "\n",
              "  <style>\n",
              "    .colab-df-container {\n",
              "      display:flex;\n",
              "      gap: 12px;\n",
              "    }\n",
              "\n",
              "    .colab-df-convert {\n",
              "      background-color: #E8F0FE;\n",
              "      border: none;\n",
              "      border-radius: 50%;\n",
              "      cursor: pointer;\n",
              "      display: none;\n",
              "      fill: #1967D2;\n",
              "      height: 32px;\n",
              "      padding: 0 0 0 0;\n",
              "      width: 32px;\n",
              "    }\n",
              "\n",
              "    .colab-df-convert:hover {\n",
              "      background-color: #E2EBFA;\n",
              "      box-shadow: 0px 1px 2px rgba(60, 64, 67, 0.3), 0px 1px 3px 1px rgba(60, 64, 67, 0.15);\n",
              "      fill: #174EA6;\n",
              "    }\n",
              "\n",
              "    .colab-df-buttons div {\n",
              "      margin-bottom: 4px;\n",
              "    }\n",
              "\n",
              "    [theme=dark] .colab-df-convert {\n",
              "      background-color: #3B4455;\n",
              "      fill: #D2E3FC;\n",
              "    }\n",
              "\n",
              "    [theme=dark] .colab-df-convert:hover {\n",
              "      background-color: #434B5C;\n",
              "      box-shadow: 0px 1px 3px 1px rgba(0, 0, 0, 0.15);\n",
              "      filter: drop-shadow(0px 1px 2px rgba(0, 0, 0, 0.3));\n",
              "      fill: #FFFFFF;\n",
              "    }\n",
              "  </style>\n",
              "\n",
              "    <script>\n",
              "      const buttonEl =\n",
              "        document.querySelector('#df-69f639e0-c162-4234-b8cf-0f88a9608d29 button.colab-df-convert');\n",
              "      buttonEl.style.display =\n",
              "        google.colab.kernel.accessAllowed ? 'block' : 'none';\n",
              "\n",
              "      async function convertToInteractive(key) {\n",
              "        const element = document.querySelector('#df-69f639e0-c162-4234-b8cf-0f88a9608d29');\n",
              "        const dataTable =\n",
              "          await google.colab.kernel.invokeFunction('convertToInteractive',\n",
              "                                                    [key], {});\n",
              "        if (!dataTable) return;\n",
              "\n",
              "        const docLinkHtml = 'Like what you see? Visit the ' +\n",
              "          '<a target=\"_blank\" href=https://colab.research.google.com/notebooks/data_table.ipynb>data table notebook</a>'\n",
              "          + ' to learn more about interactive tables.';\n",
              "        element.innerHTML = '';\n",
              "        dataTable['output_type'] = 'display_data';\n",
              "        await google.colab.output.renderOutput(dataTable, element);\n",
              "        const docLink = document.createElement('div');\n",
              "        docLink.innerHTML = docLinkHtml;\n",
              "        element.appendChild(docLink);\n",
              "      }\n",
              "    </script>\n",
              "  </div>\n",
              "\n",
              "\n",
              "<div id=\"df-ff140969-3a48-44a1-9304-102b7a055190\">\n",
              "  <button class=\"colab-df-quickchart\" onclick=\"quickchart('df-ff140969-3a48-44a1-9304-102b7a055190')\"\n",
              "            title=\"Suggest charts\"\n",
              "            style=\"display:none;\">\n",
              "\n",
              "<svg xmlns=\"http://www.w3.org/2000/svg\" height=\"24px\"viewBox=\"0 0 24 24\"\n",
              "     width=\"24px\">\n",
              "    <g>\n",
              "        <path d=\"M19 3H5c-1.1 0-2 .9-2 2v14c0 1.1.9 2 2 2h14c1.1 0 2-.9 2-2V5c0-1.1-.9-2-2-2zM9 17H7v-7h2v7zm4 0h-2V7h2v10zm4 0h-2v-4h2v4z\"/>\n",
              "    </g>\n",
              "</svg>\n",
              "  </button>\n",
              "\n",
              "<style>\n",
              "  .colab-df-quickchart {\n",
              "      --bg-color: #E8F0FE;\n",
              "      --fill-color: #1967D2;\n",
              "      --hover-bg-color: #E2EBFA;\n",
              "      --hover-fill-color: #174EA6;\n",
              "      --disabled-fill-color: #AAA;\n",
              "      --disabled-bg-color: #DDD;\n",
              "  }\n",
              "\n",
              "  [theme=dark] .colab-df-quickchart {\n",
              "      --bg-color: #3B4455;\n",
              "      --fill-color: #D2E3FC;\n",
              "      --hover-bg-color: #434B5C;\n",
              "      --hover-fill-color: #FFFFFF;\n",
              "      --disabled-bg-color: #3B4455;\n",
              "      --disabled-fill-color: #666;\n",
              "  }\n",
              "\n",
              "  .colab-df-quickchart {\n",
              "    background-color: var(--bg-color);\n",
              "    border: none;\n",
              "    border-radius: 50%;\n",
              "    cursor: pointer;\n",
              "    display: none;\n",
              "    fill: var(--fill-color);\n",
              "    height: 32px;\n",
              "    padding: 0;\n",
              "    width: 32px;\n",
              "  }\n",
              "\n",
              "  .colab-df-quickchart:hover {\n",
              "    background-color: var(--hover-bg-color);\n",
              "    box-shadow: 0 1px 2px rgba(60, 64, 67, 0.3), 0 1px 3px 1px rgba(60, 64, 67, 0.15);\n",
              "    fill: var(--button-hover-fill-color);\n",
              "  }\n",
              "\n",
              "  .colab-df-quickchart-complete:disabled,\n",
              "  .colab-df-quickchart-complete:disabled:hover {\n",
              "    background-color: var(--disabled-bg-color);\n",
              "    fill: var(--disabled-fill-color);\n",
              "    box-shadow: none;\n",
              "  }\n",
              "\n",
              "  .colab-df-spinner {\n",
              "    border: 2px solid var(--fill-color);\n",
              "    border-color: transparent;\n",
              "    border-bottom-color: var(--fill-color);\n",
              "    animation:\n",
              "      spin 1s steps(1) infinite;\n",
              "  }\n",
              "\n",
              "  @keyframes spin {\n",
              "    0% {\n",
              "      border-color: transparent;\n",
              "      border-bottom-color: var(--fill-color);\n",
              "      border-left-color: var(--fill-color);\n",
              "    }\n",
              "    20% {\n",
              "      border-color: transparent;\n",
              "      border-left-color: var(--fill-color);\n",
              "      border-top-color: var(--fill-color);\n",
              "    }\n",
              "    30% {\n",
              "      border-color: transparent;\n",
              "      border-left-color: var(--fill-color);\n",
              "      border-top-color: var(--fill-color);\n",
              "      border-right-color: var(--fill-color);\n",
              "    }\n",
              "    40% {\n",
              "      border-color: transparent;\n",
              "      border-right-color: var(--fill-color);\n",
              "      border-top-color: var(--fill-color);\n",
              "    }\n",
              "    60% {\n",
              "      border-color: transparent;\n",
              "      border-right-color: var(--fill-color);\n",
              "    }\n",
              "    80% {\n",
              "      border-color: transparent;\n",
              "      border-right-color: var(--fill-color);\n",
              "      border-bottom-color: var(--fill-color);\n",
              "    }\n",
              "    90% {\n",
              "      border-color: transparent;\n",
              "      border-bottom-color: var(--fill-color);\n",
              "    }\n",
              "  }\n",
              "</style>\n",
              "\n",
              "  <script>\n",
              "    async function quickchart(key) {\n",
              "      const quickchartButtonEl =\n",
              "        document.querySelector('#' + key + ' button');\n",
              "      quickchartButtonEl.disabled = true;  // To prevent multiple clicks.\n",
              "      quickchartButtonEl.classList.add('colab-df-spinner');\n",
              "      try {\n",
              "        const charts = await google.colab.kernel.invokeFunction(\n",
              "            'suggestCharts', [key], {});\n",
              "      } catch (error) {\n",
              "        console.error('Error during call to suggestCharts:', error);\n",
              "      }\n",
              "      quickchartButtonEl.classList.remove('colab-df-spinner');\n",
              "      quickchartButtonEl.classList.add('colab-df-quickchart-complete');\n",
              "    }\n",
              "    (() => {\n",
              "      let quickchartButtonEl =\n",
              "        document.querySelector('#df-ff140969-3a48-44a1-9304-102b7a055190 button');\n",
              "      quickchartButtonEl.style.display =\n",
              "        google.colab.kernel.accessAllowed ? 'block' : 'none';\n",
              "    })();\n",
              "  </script>\n",
              "</div>\n",
              "    </div>\n",
              "  </div>\n"
            ],
            "application/vnd.google.colaboratory.intrinsic+json": {
              "type": "dataframe",
              "summary": "{\n  \"name\": \"train_grid_search(results, 50, [0\",\n  \"rows\": 3,\n  \"fields\": [\n    {\n      \"column\": \"optimizer\",\n      \"properties\": {\n        \"dtype\": \"category\",\n        \"num_unique_values\": 1,\n        \"samples\": [\n          \"RMSprop\"\n        ],\n        \"semantic_type\": \"\",\n        \"description\": \"\"\n      }\n    },\n    {\n      \"column\": \"learning_rate\",\n      \"properties\": {\n        \"dtype\": \"number\",\n        \"std\": 0.0,\n        \"min\": 0.0001,\n        \"max\": 0.0001,\n        \"num_unique_values\": 1,\n        \"samples\": [\n          0.0001\n        ],\n        \"semantic_type\": \"\",\n        \"description\": \"\"\n      }\n    },\n    {\n      \"column\": \"weight_decay\",\n      \"properties\": {\n        \"dtype\": \"number\",\n        \"std\": 0.005474486277268397,\n        \"min\": 0.0001,\n        \"max\": 0.01,\n        \"num_unique_values\": 3,\n        \"samples\": [\n          0.01\n        ],\n        \"semantic_type\": \"\",\n        \"description\": \"\"\n      }\n    },\n    {\n      \"column\": \"val_accuracy\",\n      \"properties\": {\n        \"dtype\": \"number\",\n        \"std\": 0.06708660007152556,\n        \"min\": 0.6334971334971335,\n        \"max\": 0.7635135135135135,\n        \"num_unique_values\": 3,\n        \"samples\": [\n          0.6334971334971335\n        ],\n        \"semantic_type\": \"\",\n        \"description\": \"\"\n      }\n    }\n  ]\n}"
            }
          },
          "metadata": {},
          "execution_count": 16
        }
      ]
    },
    {
      "cell_type": "markdown",
      "source": [
        "## Результаты"
      ],
      "metadata": {
        "id": "tTDaXe3m3xgd"
      }
    },
    {
      "cell_type": "markdown",
      "source": [
        "Наибольшее значение accuracy=72.58% на тестовой выборке получено при learning_rate=0.0001 и weight_decay=0.0001 с использованием оптимизатора RMSprop."
      ],
      "metadata": {
        "id": "Oua-hf6v4Clr"
      }
    }
  ]
}