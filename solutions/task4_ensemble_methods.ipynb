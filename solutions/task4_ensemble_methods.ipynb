{
  "nbformat": 4,
  "nbformat_minor": 0,
  "metadata": {
    "colab": {
      "provenance": [],
      "collapsed_sections": [
        "m0dEaHlPn-1V",
        "Q69fi5dOq6SZ",
        "F6t7QfBpoMKt",
        "NEnA9y_ztg14",
        "H1amqLrktoYK"
      ]
    },
    "kernelspec": {
      "name": "python3",
      "display_name": "Python 3"
    },
    "language_info": {
      "name": "python"
    }
  },
  "cells": [
    {
      "cell_type": "markdown",
      "source": [
        "## Загрузка датасета и установка зависимостей"
      ],
      "metadata": {
        "id": "m0dEaHlPn-1V"
      }
    },
    {
      "cell_type": "code",
      "source": [
        "!pip install opendatasets\n",
        "!pip install pandas\n",
        "!pip install matplotlib\n",
        "!pip install seaborn"
      ],
      "metadata": {
        "colab": {
          "base_uri": "https://localhost:8080/"
        },
        "id": "jrQOkHUAiE5L",
        "outputId": "5659b81c-2af5-4cce-c7e7-d78c78d1189e"
      },
      "execution_count": 11,
      "outputs": [
        {
          "output_type": "stream",
          "name": "stdout",
          "text": [
            "Requirement already satisfied: opendatasets in /usr/local/lib/python3.10/dist-packages (0.1.22)\n",
            "Requirement already satisfied: tqdm in /usr/local/lib/python3.10/dist-packages (from opendatasets) (4.66.2)\n",
            "Requirement already satisfied: kaggle in /usr/local/lib/python3.10/dist-packages (from opendatasets) (1.5.16)\n",
            "Requirement already satisfied: click in /usr/local/lib/python3.10/dist-packages (from opendatasets) (8.1.7)\n",
            "Requirement already satisfied: six>=1.10 in /usr/local/lib/python3.10/dist-packages (from kaggle->opendatasets) (1.16.0)\n",
            "Requirement already satisfied: certifi in /usr/local/lib/python3.10/dist-packages (from kaggle->opendatasets) (2024.2.2)\n",
            "Requirement already satisfied: python-dateutil in /usr/local/lib/python3.10/dist-packages (from kaggle->opendatasets) (2.8.2)\n",
            "Requirement already satisfied: requests in /usr/local/lib/python3.10/dist-packages (from kaggle->opendatasets) (2.31.0)\n",
            "Requirement already satisfied: python-slugify in /usr/local/lib/python3.10/dist-packages (from kaggle->opendatasets) (8.0.4)\n",
            "Requirement already satisfied: urllib3 in /usr/local/lib/python3.10/dist-packages (from kaggle->opendatasets) (2.0.7)\n",
            "Requirement already satisfied: bleach in /usr/local/lib/python3.10/dist-packages (from kaggle->opendatasets) (6.1.0)\n",
            "Requirement already satisfied: webencodings in /usr/local/lib/python3.10/dist-packages (from bleach->kaggle->opendatasets) (0.5.1)\n",
            "Requirement already satisfied: text-unidecode>=1.3 in /usr/local/lib/python3.10/dist-packages (from python-slugify->kaggle->opendatasets) (1.3)\n",
            "Requirement already satisfied: charset-normalizer<4,>=2 in /usr/local/lib/python3.10/dist-packages (from requests->kaggle->opendatasets) (3.3.2)\n",
            "Requirement already satisfied: idna<4,>=2.5 in /usr/local/lib/python3.10/dist-packages (from requests->kaggle->opendatasets) (3.6)\n",
            "Requirement already satisfied: pandas in /usr/local/lib/python3.10/dist-packages (2.0.3)\n",
            "Requirement already satisfied: python-dateutil>=2.8.2 in /usr/local/lib/python3.10/dist-packages (from pandas) (2.8.2)\n",
            "Requirement already satisfied: pytz>=2020.1 in /usr/local/lib/python3.10/dist-packages (from pandas) (2023.4)\n",
            "Requirement already satisfied: tzdata>=2022.1 in /usr/local/lib/python3.10/dist-packages (from pandas) (2024.1)\n",
            "Requirement already satisfied: numpy>=1.21.0 in /usr/local/lib/python3.10/dist-packages (from pandas) (1.25.2)\n",
            "Requirement already satisfied: six>=1.5 in /usr/local/lib/python3.10/dist-packages (from python-dateutil>=2.8.2->pandas) (1.16.0)\n",
            "Requirement already satisfied: matplotlib in /usr/local/lib/python3.10/dist-packages (3.7.1)\n",
            "Requirement already satisfied: contourpy>=1.0.1 in /usr/local/lib/python3.10/dist-packages (from matplotlib) (1.2.0)\n",
            "Requirement already satisfied: cycler>=0.10 in /usr/local/lib/python3.10/dist-packages (from matplotlib) (0.12.1)\n",
            "Requirement already satisfied: fonttools>=4.22.0 in /usr/local/lib/python3.10/dist-packages (from matplotlib) (4.50.0)\n",
            "Requirement already satisfied: kiwisolver>=1.0.1 in /usr/local/lib/python3.10/dist-packages (from matplotlib) (1.4.5)\n",
            "Requirement already satisfied: numpy>=1.20 in /usr/local/lib/python3.10/dist-packages (from matplotlib) (1.25.2)\n",
            "Requirement already satisfied: packaging>=20.0 in /usr/local/lib/python3.10/dist-packages (from matplotlib) (24.0)\n",
            "Requirement already satisfied: pillow>=6.2.0 in /usr/local/lib/python3.10/dist-packages (from matplotlib) (9.4.0)\n",
            "Requirement already satisfied: pyparsing>=2.3.1 in /usr/local/lib/python3.10/dist-packages (from matplotlib) (3.1.2)\n",
            "Requirement already satisfied: python-dateutil>=2.7 in /usr/local/lib/python3.10/dist-packages (from matplotlib) (2.8.2)\n",
            "Requirement already satisfied: six>=1.5 in /usr/local/lib/python3.10/dist-packages (from python-dateutil>=2.7->matplotlib) (1.16.0)\n",
            "Requirement already satisfied: seaborn in /usr/local/lib/python3.10/dist-packages (0.13.1)\n",
            "Requirement already satisfied: numpy!=1.24.0,>=1.20 in /usr/local/lib/python3.10/dist-packages (from seaborn) (1.25.2)\n",
            "Requirement already satisfied: pandas>=1.2 in /usr/local/lib/python3.10/dist-packages (from seaborn) (2.0.3)\n",
            "Requirement already satisfied: matplotlib!=3.6.1,>=3.4 in /usr/local/lib/python3.10/dist-packages (from seaborn) (3.7.1)\n",
            "Requirement already satisfied: contourpy>=1.0.1 in /usr/local/lib/python3.10/dist-packages (from matplotlib!=3.6.1,>=3.4->seaborn) (1.2.0)\n",
            "Requirement already satisfied: cycler>=0.10 in /usr/local/lib/python3.10/dist-packages (from matplotlib!=3.6.1,>=3.4->seaborn) (0.12.1)\n",
            "Requirement already satisfied: fonttools>=4.22.0 in /usr/local/lib/python3.10/dist-packages (from matplotlib!=3.6.1,>=3.4->seaborn) (4.50.0)\n",
            "Requirement already satisfied: kiwisolver>=1.0.1 in /usr/local/lib/python3.10/dist-packages (from matplotlib!=3.6.1,>=3.4->seaborn) (1.4.5)\n",
            "Requirement already satisfied: packaging>=20.0 in /usr/local/lib/python3.10/dist-packages (from matplotlib!=3.6.1,>=3.4->seaborn) (24.0)\n",
            "Requirement already satisfied: pillow>=6.2.0 in /usr/local/lib/python3.10/dist-packages (from matplotlib!=3.6.1,>=3.4->seaborn) (9.4.0)\n",
            "Requirement already satisfied: pyparsing>=2.3.1 in /usr/local/lib/python3.10/dist-packages (from matplotlib!=3.6.1,>=3.4->seaborn) (3.1.2)\n",
            "Requirement already satisfied: python-dateutil>=2.7 in /usr/local/lib/python3.10/dist-packages (from matplotlib!=3.6.1,>=3.4->seaborn) (2.8.2)\n",
            "Requirement already satisfied: pytz>=2020.1 in /usr/local/lib/python3.10/dist-packages (from pandas>=1.2->seaborn) (2023.4)\n",
            "Requirement already satisfied: tzdata>=2022.1 in /usr/local/lib/python3.10/dist-packages (from pandas>=1.2->seaborn) (2024.1)\n",
            "Requirement already satisfied: six>=1.5 in /usr/local/lib/python3.10/dist-packages (from python-dateutil>=2.7->matplotlib!=3.6.1,>=3.4->seaborn) (1.16.0)\n"
          ]
        }
      ]
    },
    {
      "cell_type": "code",
      "source": [
        "import opendatasets as datasets\n",
        "import pandas as pd\n",
        "import matplotlib.pyplot as plt\n",
        "%matplotlib inline\n",
        "import seaborn as sns"
      ],
      "metadata": {
        "id": "hQE9JFMndj-c"
      },
      "execution_count": 12,
      "outputs": []
    },
    {
      "cell_type": "code",
      "source": [
        "datasets.download(\"https://www.kaggle.com/datasets/ahmettyilmazz/fuel-consumption\")"
      ],
      "metadata": {
        "colab": {
          "base_uri": "https://localhost:8080/"
        },
        "id": "YFVKYY7ciC47",
        "outputId": "d47d34b2-c469-4b8d-f99f-5b8840882b2f"
      },
      "execution_count": 13,
      "outputs": [
        {
          "output_type": "stream",
          "name": "stdout",
          "text": [
            "Skipping, found downloaded files in \"./fuel-consumption\" (use force=True to force download)\n"
          ]
        }
      ]
    },
    {
      "cell_type": "code",
      "execution_count": 14,
      "metadata": {
        "colab": {
          "base_uri": "https://localhost:8080/",
          "height": 0
        },
        "id": "EXk8AJ_TjFwL",
        "outputId": "999ecf60-1972-425e-f650-abe8fbc1f596"
      },
      "outputs": [
        {
          "output_type": "execute_result",
          "data": {
            "text/plain": [
              "   YEAR   MAKE    MODEL VEHICLE CLASS  ENGINE SIZE  CYLINDERS TRANSMISSION  \\\n",
              "0  2000  ACURA    1.6EL       COMPACT          1.6          4           A4   \n",
              "1  2000  ACURA    1.6EL       COMPACT          1.6          4           M5   \n",
              "2  2000  ACURA    3.2TL      MID-SIZE          3.2          6          AS5   \n",
              "3  2000  ACURA    3.5RL      MID-SIZE          3.5          6           A4   \n",
              "4  2000  ACURA  INTEGRA    SUBCOMPACT          1.8          4           A4   \n",
              "\n",
              "  FUEL  FUEL CONSUMPTION  HWY (L/100 km)  COMB (L/100 km)  COMB (mpg)  \\\n",
              "0    X               9.2             6.7              8.1          35   \n",
              "1    X               8.5             6.5              7.6          37   \n",
              "2    Z              12.2             7.4             10.0          28   \n",
              "3    Z              13.4             9.2             11.5          25   \n",
              "4    X              10.0             7.0              8.6          33   \n",
              "\n",
              "   EMISSIONS  \n",
              "0        186  \n",
              "1        175  \n",
              "2        230  \n",
              "3        264  \n",
              "4        198  "
            ],
            "text/html": [
              "\n",
              "  <div id=\"df-1fb2669a-ea4d-4293-9bbb-6f4501faa753\" class=\"colab-df-container\">\n",
              "    <div>\n",
              "<style scoped>\n",
              "    .dataframe tbody tr th:only-of-type {\n",
              "        vertical-align: middle;\n",
              "    }\n",
              "\n",
              "    .dataframe tbody tr th {\n",
              "        vertical-align: top;\n",
              "    }\n",
              "\n",
              "    .dataframe thead th {\n",
              "        text-align: right;\n",
              "    }\n",
              "</style>\n",
              "<table border=\"1\" class=\"dataframe\">\n",
              "  <thead>\n",
              "    <tr style=\"text-align: right;\">\n",
              "      <th></th>\n",
              "      <th>YEAR</th>\n",
              "      <th>MAKE</th>\n",
              "      <th>MODEL</th>\n",
              "      <th>VEHICLE CLASS</th>\n",
              "      <th>ENGINE SIZE</th>\n",
              "      <th>CYLINDERS</th>\n",
              "      <th>TRANSMISSION</th>\n",
              "      <th>FUEL</th>\n",
              "      <th>FUEL CONSUMPTION</th>\n",
              "      <th>HWY (L/100 km)</th>\n",
              "      <th>COMB (L/100 km)</th>\n",
              "      <th>COMB (mpg)</th>\n",
              "      <th>EMISSIONS</th>\n",
              "    </tr>\n",
              "  </thead>\n",
              "  <tbody>\n",
              "    <tr>\n",
              "      <th>0</th>\n",
              "      <td>2000</td>\n",
              "      <td>ACURA</td>\n",
              "      <td>1.6EL</td>\n",
              "      <td>COMPACT</td>\n",
              "      <td>1.6</td>\n",
              "      <td>4</td>\n",
              "      <td>A4</td>\n",
              "      <td>X</td>\n",
              "      <td>9.2</td>\n",
              "      <td>6.7</td>\n",
              "      <td>8.1</td>\n",
              "      <td>35</td>\n",
              "      <td>186</td>\n",
              "    </tr>\n",
              "    <tr>\n",
              "      <th>1</th>\n",
              "      <td>2000</td>\n",
              "      <td>ACURA</td>\n",
              "      <td>1.6EL</td>\n",
              "      <td>COMPACT</td>\n",
              "      <td>1.6</td>\n",
              "      <td>4</td>\n",
              "      <td>M5</td>\n",
              "      <td>X</td>\n",
              "      <td>8.5</td>\n",
              "      <td>6.5</td>\n",
              "      <td>7.6</td>\n",
              "      <td>37</td>\n",
              "      <td>175</td>\n",
              "    </tr>\n",
              "    <tr>\n",
              "      <th>2</th>\n",
              "      <td>2000</td>\n",
              "      <td>ACURA</td>\n",
              "      <td>3.2TL</td>\n",
              "      <td>MID-SIZE</td>\n",
              "      <td>3.2</td>\n",
              "      <td>6</td>\n",
              "      <td>AS5</td>\n",
              "      <td>Z</td>\n",
              "      <td>12.2</td>\n",
              "      <td>7.4</td>\n",
              "      <td>10.0</td>\n",
              "      <td>28</td>\n",
              "      <td>230</td>\n",
              "    </tr>\n",
              "    <tr>\n",
              "      <th>3</th>\n",
              "      <td>2000</td>\n",
              "      <td>ACURA</td>\n",
              "      <td>3.5RL</td>\n",
              "      <td>MID-SIZE</td>\n",
              "      <td>3.5</td>\n",
              "      <td>6</td>\n",
              "      <td>A4</td>\n",
              "      <td>Z</td>\n",
              "      <td>13.4</td>\n",
              "      <td>9.2</td>\n",
              "      <td>11.5</td>\n",
              "      <td>25</td>\n",
              "      <td>264</td>\n",
              "    </tr>\n",
              "    <tr>\n",
              "      <th>4</th>\n",
              "      <td>2000</td>\n",
              "      <td>ACURA</td>\n",
              "      <td>INTEGRA</td>\n",
              "      <td>SUBCOMPACT</td>\n",
              "      <td>1.8</td>\n",
              "      <td>4</td>\n",
              "      <td>A4</td>\n",
              "      <td>X</td>\n",
              "      <td>10.0</td>\n",
              "      <td>7.0</td>\n",
              "      <td>8.6</td>\n",
              "      <td>33</td>\n",
              "      <td>198</td>\n",
              "    </tr>\n",
              "  </tbody>\n",
              "</table>\n",
              "</div>\n",
              "    <div class=\"colab-df-buttons\">\n",
              "\n",
              "  <div class=\"colab-df-container\">\n",
              "    <button class=\"colab-df-convert\" onclick=\"convertToInteractive('df-1fb2669a-ea4d-4293-9bbb-6f4501faa753')\"\n",
              "            title=\"Convert this dataframe to an interactive table.\"\n",
              "            style=\"display:none;\">\n",
              "\n",
              "  <svg xmlns=\"http://www.w3.org/2000/svg\" height=\"24px\" viewBox=\"0 -960 960 960\">\n",
              "    <path d=\"M120-120v-720h720v720H120Zm60-500h600v-160H180v160Zm220 220h160v-160H400v160Zm0 220h160v-160H400v160ZM180-400h160v-160H180v160Zm440 0h160v-160H620v160ZM180-180h160v-160H180v160Zm440 0h160v-160H620v160Z\"/>\n",
              "  </svg>\n",
              "    </button>\n",
              "\n",
              "  <style>\n",
              "    .colab-df-container {\n",
              "      display:flex;\n",
              "      gap: 12px;\n",
              "    }\n",
              "\n",
              "    .colab-df-convert {\n",
              "      background-color: #E8F0FE;\n",
              "      border: none;\n",
              "      border-radius: 50%;\n",
              "      cursor: pointer;\n",
              "      display: none;\n",
              "      fill: #1967D2;\n",
              "      height: 32px;\n",
              "      padding: 0 0 0 0;\n",
              "      width: 32px;\n",
              "    }\n",
              "\n",
              "    .colab-df-convert:hover {\n",
              "      background-color: #E2EBFA;\n",
              "      box-shadow: 0px 1px 2px rgba(60, 64, 67, 0.3), 0px 1px 3px 1px rgba(60, 64, 67, 0.15);\n",
              "      fill: #174EA6;\n",
              "    }\n",
              "\n",
              "    .colab-df-buttons div {\n",
              "      margin-bottom: 4px;\n",
              "    }\n",
              "\n",
              "    [theme=dark] .colab-df-convert {\n",
              "      background-color: #3B4455;\n",
              "      fill: #D2E3FC;\n",
              "    }\n",
              "\n",
              "    [theme=dark] .colab-df-convert:hover {\n",
              "      background-color: #434B5C;\n",
              "      box-shadow: 0px 1px 3px 1px rgba(0, 0, 0, 0.15);\n",
              "      filter: drop-shadow(0px 1px 2px rgba(0, 0, 0, 0.3));\n",
              "      fill: #FFFFFF;\n",
              "    }\n",
              "  </style>\n",
              "\n",
              "    <script>\n",
              "      const buttonEl =\n",
              "        document.querySelector('#df-1fb2669a-ea4d-4293-9bbb-6f4501faa753 button.colab-df-convert');\n",
              "      buttonEl.style.display =\n",
              "        google.colab.kernel.accessAllowed ? 'block' : 'none';\n",
              "\n",
              "      async function convertToInteractive(key) {\n",
              "        const element = document.querySelector('#df-1fb2669a-ea4d-4293-9bbb-6f4501faa753');\n",
              "        const dataTable =\n",
              "          await google.colab.kernel.invokeFunction('convertToInteractive',\n",
              "                                                    [key], {});\n",
              "        if (!dataTable) return;\n",
              "\n",
              "        const docLinkHtml = 'Like what you see? Visit the ' +\n",
              "          '<a target=\"_blank\" href=https://colab.research.google.com/notebooks/data_table.ipynb>data table notebook</a>'\n",
              "          + ' to learn more about interactive tables.';\n",
              "        element.innerHTML = '';\n",
              "        dataTable['output_type'] = 'display_data';\n",
              "        await google.colab.output.renderOutput(dataTable, element);\n",
              "        const docLink = document.createElement('div');\n",
              "        docLink.innerHTML = docLinkHtml;\n",
              "        element.appendChild(docLink);\n",
              "      }\n",
              "    </script>\n",
              "  </div>\n",
              "\n",
              "\n",
              "<div id=\"df-284704be-1ccc-44f7-8c95-807fe334a352\">\n",
              "  <button class=\"colab-df-quickchart\" onclick=\"quickchart('df-284704be-1ccc-44f7-8c95-807fe334a352')\"\n",
              "            title=\"Suggest charts\"\n",
              "            style=\"display:none;\">\n",
              "\n",
              "<svg xmlns=\"http://www.w3.org/2000/svg\" height=\"24px\"viewBox=\"0 0 24 24\"\n",
              "     width=\"24px\">\n",
              "    <g>\n",
              "        <path d=\"M19 3H5c-1.1 0-2 .9-2 2v14c0 1.1.9 2 2 2h14c1.1 0 2-.9 2-2V5c0-1.1-.9-2-2-2zM9 17H7v-7h2v7zm4 0h-2V7h2v10zm4 0h-2v-4h2v4z\"/>\n",
              "    </g>\n",
              "</svg>\n",
              "  </button>\n",
              "\n",
              "<style>\n",
              "  .colab-df-quickchart {\n",
              "      --bg-color: #E8F0FE;\n",
              "      --fill-color: #1967D2;\n",
              "      --hover-bg-color: #E2EBFA;\n",
              "      --hover-fill-color: #174EA6;\n",
              "      --disabled-fill-color: #AAA;\n",
              "      --disabled-bg-color: #DDD;\n",
              "  }\n",
              "\n",
              "  [theme=dark] .colab-df-quickchart {\n",
              "      --bg-color: #3B4455;\n",
              "      --fill-color: #D2E3FC;\n",
              "      --hover-bg-color: #434B5C;\n",
              "      --hover-fill-color: #FFFFFF;\n",
              "      --disabled-bg-color: #3B4455;\n",
              "      --disabled-fill-color: #666;\n",
              "  }\n",
              "\n",
              "  .colab-df-quickchart {\n",
              "    background-color: var(--bg-color);\n",
              "    border: none;\n",
              "    border-radius: 50%;\n",
              "    cursor: pointer;\n",
              "    display: none;\n",
              "    fill: var(--fill-color);\n",
              "    height: 32px;\n",
              "    padding: 0;\n",
              "    width: 32px;\n",
              "  }\n",
              "\n",
              "  .colab-df-quickchart:hover {\n",
              "    background-color: var(--hover-bg-color);\n",
              "    box-shadow: 0 1px 2px rgba(60, 64, 67, 0.3), 0 1px 3px 1px rgba(60, 64, 67, 0.15);\n",
              "    fill: var(--button-hover-fill-color);\n",
              "  }\n",
              "\n",
              "  .colab-df-quickchart-complete:disabled,\n",
              "  .colab-df-quickchart-complete:disabled:hover {\n",
              "    background-color: var(--disabled-bg-color);\n",
              "    fill: var(--disabled-fill-color);\n",
              "    box-shadow: none;\n",
              "  }\n",
              "\n",
              "  .colab-df-spinner {\n",
              "    border: 2px solid var(--fill-color);\n",
              "    border-color: transparent;\n",
              "    border-bottom-color: var(--fill-color);\n",
              "    animation:\n",
              "      spin 1s steps(1) infinite;\n",
              "  }\n",
              "\n",
              "  @keyframes spin {\n",
              "    0% {\n",
              "      border-color: transparent;\n",
              "      border-bottom-color: var(--fill-color);\n",
              "      border-left-color: var(--fill-color);\n",
              "    }\n",
              "    20% {\n",
              "      border-color: transparent;\n",
              "      border-left-color: var(--fill-color);\n",
              "      border-top-color: var(--fill-color);\n",
              "    }\n",
              "    30% {\n",
              "      border-color: transparent;\n",
              "      border-left-color: var(--fill-color);\n",
              "      border-top-color: var(--fill-color);\n",
              "      border-right-color: var(--fill-color);\n",
              "    }\n",
              "    40% {\n",
              "      border-color: transparent;\n",
              "      border-right-color: var(--fill-color);\n",
              "      border-top-color: var(--fill-color);\n",
              "    }\n",
              "    60% {\n",
              "      border-color: transparent;\n",
              "      border-right-color: var(--fill-color);\n",
              "    }\n",
              "    80% {\n",
              "      border-color: transparent;\n",
              "      border-right-color: var(--fill-color);\n",
              "      border-bottom-color: var(--fill-color);\n",
              "    }\n",
              "    90% {\n",
              "      border-color: transparent;\n",
              "      border-bottom-color: var(--fill-color);\n",
              "    }\n",
              "  }\n",
              "</style>\n",
              "\n",
              "  <script>\n",
              "    async function quickchart(key) {\n",
              "      const quickchartButtonEl =\n",
              "        document.querySelector('#' + key + ' button');\n",
              "      quickchartButtonEl.disabled = true;  // To prevent multiple clicks.\n",
              "      quickchartButtonEl.classList.add('colab-df-spinner');\n",
              "      try {\n",
              "        const charts = await google.colab.kernel.invokeFunction(\n",
              "            'suggestCharts', [key], {});\n",
              "      } catch (error) {\n",
              "        console.error('Error during call to suggestCharts:', error);\n",
              "      }\n",
              "      quickchartButtonEl.classList.remove('colab-df-spinner');\n",
              "      quickchartButtonEl.classList.add('colab-df-quickchart-complete');\n",
              "    }\n",
              "    (() => {\n",
              "      let quickchartButtonEl =\n",
              "        document.querySelector('#df-284704be-1ccc-44f7-8c95-807fe334a352 button');\n",
              "      quickchartButtonEl.style.display =\n",
              "        google.colab.kernel.accessAllowed ? 'block' : 'none';\n",
              "    })();\n",
              "  </script>\n",
              "</div>\n",
              "    </div>\n",
              "  </div>\n"
            ],
            "application/vnd.google.colaboratory.intrinsic+json": {
              "type": "dataframe",
              "variable_name": "df",
              "summary": "{\n  \"name\": \"df\",\n  \"rows\": 22556,\n  \"fields\": [\n    {\n      \"column\": \"YEAR\",\n      \"properties\": {\n        \"dtype\": \"number\",\n        \"std\": 6,\n        \"min\": 2000,\n        \"max\": 2022,\n        \"num_unique_values\": 23,\n        \"samples\": [\n          2015,\n          2009,\n          2000\n        ],\n        \"semantic_type\": \"\",\n        \"description\": \"\"\n      }\n    },\n    {\n      \"column\": \"MAKE\",\n      \"properties\": {\n        \"dtype\": \"category\",\n        \"num_unique_values\": 87,\n        \"samples\": [\n          \"Mazda\",\n          \"ACURA\",\n          \"PLYMOUTH\"\n        ],\n        \"semantic_type\": \"\",\n        \"description\": \"\"\n      }\n    },\n    {\n      \"column\": \"MODEL\",\n      \"properties\": {\n        \"dtype\": \"category\",\n        \"num_unique_values\": 4242,\n        \"samples\": [\n          \"Grand Cherokee 4X4 Trackhawk\",\n          \"Huracan evo Spyder\",\n          \"E 350 CABRIOLET\"\n        ],\n        \"semantic_type\": \"\",\n        \"description\": \"\"\n      }\n    },\n    {\n      \"column\": \"VEHICLE CLASS\",\n      \"properties\": {\n        \"dtype\": \"category\",\n        \"num_unique_values\": 32,\n        \"samples\": [\n          \"Minivan\",\n          \"SPECIAL PURPOSE VEHICLE\",\n          \"Full-size\"\n        ],\n        \"semantic_type\": \"\",\n        \"description\": \"\"\n      }\n    },\n    {\n      \"column\": \"ENGINE SIZE\",\n      \"properties\": {\n        \"dtype\": \"number\",\n        \"std\": 1.3354251755787259,\n        \"min\": 0.8,\n        \"max\": 8.4,\n        \"num_unique_values\": 63,\n        \"samples\": [\n          2.1,\n          1.4,\n          1.6\n        ],\n        \"semantic_type\": \"\",\n        \"description\": \"\"\n      }\n    },\n    {\n      \"column\": \"CYLINDERS\",\n      \"properties\": {\n        \"dtype\": \"number\",\n        \"std\": 1,\n        \"min\": 2,\n        \"max\": 16,\n        \"num_unique_values\": 9,\n        \"samples\": [\n          2,\n          6,\n          10\n        ],\n        \"semantic_type\": \"\",\n        \"description\": \"\"\n      }\n    },\n    {\n      \"column\": \"TRANSMISSION\",\n      \"properties\": {\n        \"dtype\": \"category\",\n        \"num_unique_values\": 30,\n        \"samples\": [\n          \"A10\",\n          \"M4\",\n          \"AS9\"\n        ],\n        \"semantic_type\": \"\",\n        \"description\": \"\"\n      }\n    },\n    {\n      \"column\": \"FUEL\",\n      \"properties\": {\n        \"dtype\": \"category\",\n        \"num_unique_values\": 5,\n        \"samples\": [\n          \"Z\",\n          \"D\",\n          \"E\"\n        ],\n        \"semantic_type\": \"\",\n        \"description\": \"\"\n      }\n    },\n    {\n      \"column\": \"FUEL CONSUMPTION\",\n      \"properties\": {\n        \"dtype\": \"number\",\n        \"std\": 3.500998820187845,\n        \"min\": 3.5,\n        \"max\": 30.6,\n        \"num_unique_values\": 228,\n        \"samples\": [\n          20.0,\n          12.6,\n          11.4\n        ],\n        \"semantic_type\": \"\",\n        \"description\": \"\"\n      }\n    },\n    {\n      \"column\": \"HWY (L/100 km)\",\n      \"properties\": {\n        \"dtype\": \"number\",\n        \"std\": 2.2747638595443753,\n        \"min\": 3.2,\n        \"max\": 20.9,\n        \"num_unique_values\": 152,\n        \"samples\": [\n          13.5,\n          18.1,\n          15.4\n        ],\n        \"semantic_type\": \"\",\n        \"description\": \"\"\n      }\n    },\n    {\n      \"column\": \"COMB (L/100 km)\",\n      \"properties\": {\n        \"dtype\": \"number\",\n        \"std\": 2.9109199712714595,\n        \"min\": 3.6,\n        \"max\": 26.1,\n        \"num_unique_values\": 192,\n        \"samples\": [\n          9.4,\n          19.7,\n          15.2\n        ],\n        \"semantic_type\": \"\",\n        \"description\": \"\"\n      }\n    },\n    {\n      \"column\": \"COMB (mpg)\",\n      \"properties\": {\n        \"dtype\": \"number\",\n        \"std\": 7,\n        \"min\": 11,\n        \"max\": 78,\n        \"num_unique_values\": 59,\n        \"samples\": [\n          35,\n          34,\n          47\n        ],\n        \"semantic_type\": \"\",\n        \"description\": \"\"\n      }\n    },\n    {\n      \"column\": \"EMISSIONS\",\n      \"properties\": {\n        \"dtype\": \"number\",\n        \"std\": 59,\n        \"min\": 83,\n        \"max\": 608,\n        \"num_unique_values\": 358,\n        \"samples\": [\n          256,\n          235,\n          332\n        ],\n        \"semantic_type\": \"\",\n        \"description\": \"\"\n      }\n    }\n  ]\n}"
            }
          },
          "metadata": {},
          "execution_count": 14
        }
      ],
      "source": [
        "df = pd.read_csv(\"/content/fuel-consumption/Fuel_Consumption_2000-2022.csv\")\n",
        "df.head()"
      ]
    },
    {
      "cell_type": "markdown",
      "source": [
        "## EDA"
      ],
      "metadata": {
        "id": "Q69fi5dOq6SZ"
      }
    },
    {
      "cell_type": "markdown",
      "source": [
        "Основная информация"
      ],
      "metadata": {
        "id": "MUmtM8T52HWX"
      }
    },
    {
      "cell_type": "code",
      "source": [
        "df.info()"
      ],
      "metadata": {
        "colab": {
          "base_uri": "https://localhost:8080/"
        },
        "id": "SMkQOLtXxQVE",
        "outputId": "733d156e-7541-4d28-c0a0-c380adf4c674"
      },
      "execution_count": 15,
      "outputs": [
        {
          "output_type": "stream",
          "name": "stdout",
          "text": [
            "<class 'pandas.core.frame.DataFrame'>\n",
            "RangeIndex: 22556 entries, 0 to 22555\n",
            "Data columns (total 13 columns):\n",
            " #   Column            Non-Null Count  Dtype  \n",
            "---  ------            --------------  -----  \n",
            " 0   YEAR              22556 non-null  int64  \n",
            " 1   MAKE              22556 non-null  object \n",
            " 2   MODEL             22556 non-null  object \n",
            " 3   VEHICLE CLASS     22556 non-null  object \n",
            " 4   ENGINE SIZE       22556 non-null  float64\n",
            " 5   CYLINDERS         22556 non-null  int64  \n",
            " 6   TRANSMISSION      22556 non-null  object \n",
            " 7   FUEL              22556 non-null  object \n",
            " 8   FUEL CONSUMPTION  22556 non-null  float64\n",
            " 9   HWY (L/100 km)    22556 non-null  float64\n",
            " 10  COMB (L/100 km)   22556 non-null  float64\n",
            " 11  COMB (mpg)        22556 non-null  int64  \n",
            " 12  EMISSIONS         22556 non-null  int64  \n",
            "dtypes: float64(4), int64(4), object(5)\n",
            "memory usage: 2.2+ MB\n"
          ]
        }
      ]
    },
    {
      "cell_type": "markdown",
      "source": [
        "Пропусков в данных нет"
      ],
      "metadata": {
        "id": "raqyVChW5zll"
      }
    },
    {
      "cell_type": "markdown",
      "source": [
        "Ключевым признаком будет FUEL CONSUMPTION, а остальные параметры, представляющие расход топлива можно удалить"
      ],
      "metadata": {
        "id": "S0vteuwl3kRR"
      }
    },
    {
      "cell_type": "code",
      "source": [
        "df.drop([\"HWY (L/100 km)\", \"COMB (L/100 km)\", \"COMB (mpg)\", \"EMISSIONS\"], axis=1, inplace=True)"
      ],
      "metadata": {
        "id": "EVlyVtZ37Nxh"
      },
      "execution_count": 16,
      "outputs": []
    },
    {
      "cell_type": "markdown",
      "source": [
        "Посмотрим, сколько значений принимают параметры MAKE и MODEL"
      ],
      "metadata": {
        "id": "syeN6dFx8WJq"
      }
    },
    {
      "cell_type": "code",
      "source": [
        "df[\"MODEL\"].describe()"
      ],
      "metadata": {
        "colab": {
          "base_uri": "https://localhost:8080/"
        },
        "id": "kNFXIGVc8hHW",
        "outputId": "d6868071-df08-4bc2-f728-c5f604c61904"
      },
      "execution_count": 17,
      "outputs": [
        {
          "output_type": "execute_result",
          "data": {
            "text/plain": [
              "count     22556\n",
              "unique     4242\n",
              "top       JETTA\n",
              "freq         89\n",
              "Name: MODEL, dtype: object"
            ]
          },
          "metadata": {},
          "execution_count": 17
        }
      ]
    },
    {
      "cell_type": "code",
      "source": [
        "df[\"MAKE\"].describe()"
      ],
      "metadata": {
        "colab": {
          "base_uri": "https://localhost:8080/"
        },
        "id": "pjR3oJB1-44J",
        "outputId": "9c18890e-68ef-4f97-f851-dd7ca81a176a"
      },
      "execution_count": 18,
      "outputs": [
        {
          "output_type": "execute_result",
          "data": {
            "text/plain": [
              "count         22556\n",
              "unique           87\n",
              "top       CHEVROLET\n",
              "freq           1725\n",
              "Name: MAKE, dtype: object"
            ]
          },
          "metadata": {},
          "execution_count": 18
        }
      ]
    },
    {
      "cell_type": "markdown",
      "source": [
        "MAKE и MODEL имеют слишком много уникальных значений и мало влияют на расход, можно удалить"
      ],
      "metadata": {
        "id": "wLHeUQ3h9Ic7"
      }
    },
    {
      "cell_type": "code",
      "source": [
        "df.drop([\"MAKE\", \"MODEL\"], axis=1, inplace=True)"
      ],
      "metadata": {
        "id": "FH2O-6Qc9IBK"
      },
      "execution_count": 19,
      "outputs": []
    },
    {
      "cell_type": "markdown",
      "source": [
        "Зависимость расхода от типа топлива"
      ],
      "metadata": {
        "id": "I4T9UCXf_haL"
      }
    },
    {
      "cell_type": "code",
      "source": [
        "sns.barplot(x='FUEL', y='FUEL CONSUMPTION', data=df);"
      ],
      "metadata": {
        "colab": {
          "base_uri": "https://localhost:8080/",
          "height": 0
        },
        "id": "UHT-s4kE_gra",
        "outputId": "2337482f-3c5d-4fe3-d5cf-307395707be3"
      },
      "execution_count": 20,
      "outputs": [
        {
          "output_type": "display_data",
          "data": {
            "text/plain": [
              "<Figure size 640x480 with 1 Axes>"
            ],
            "image/png": "[encoded data removed]"
          },
          "metadata": {}
        }
      ]
    },
    {
      "cell_type": "markdown",
      "source": [
        "Видно, что наименьший расход топлива (в литрах) у дизельных двигателей (D), чуть больше у бензиновых (X, Z), а наибольший у двигателей на этаноле и газу (E, N)."
      ],
      "metadata": {
        "id": "I1N7jjH5JO5a"
      }
    },
    {
      "cell_type": "markdown",
      "source": [
        "Посмотрим, какие встречаются классы автомобилей"
      ],
      "metadata": {
        "id": "pUCiFx7jKCuw"
      }
    },
    {
      "cell_type": "code",
      "source": [
        "df[\"VEHICLE CLASS\"].value_counts()"
      ],
      "metadata": {
        "colab": {
          "base_uri": "https://localhost:8080/"
        },
        "id": "4jH2HRoPHQ6Q",
        "outputId": "f1f028d4-531c-4462-83ff-5ad89f7f1084"
      },
      "execution_count": 21,
      "outputs": [
        {
          "output_type": "execute_result",
          "data": {
            "text/plain": [
              "VEHICLE CLASS\n",
              "SUV                         2640\n",
              "COMPACT                     2636\n",
              "MID-SIZE                    2300\n",
              "PICKUP TRUCK - STANDARD     1689\n",
              "SUBCOMPACT                  1559\n",
              "FULL-SIZE                   1086\n",
              "TWO-SEATER                   999\n",
              "SUV: Small                   929\n",
              "SUV - SMALL                  827\n",
              "MINICOMPACT                  783\n",
              "STATION WAGON - SMALL        737\n",
              "Mid-size                     660\n",
              "SUV: Standard                608\n",
              "Pickup truck: Standard       515\n",
              "SUV - STANDARD               514\n",
              "Compact                      491\n",
              "Subcompact                   451\n",
              "Full-size                    417\n",
              "PICKUP TRUCK - SMALL         403\n",
              "MINIVAN                      366\n",
              "STATION WAGON - MID-SIZE     343\n",
              "VAN - CARGO                  332\n",
              "Two-seater                   313\n",
              "VAN - PASSENGER              287\n",
              "Minicompact                  211\n",
              "Station wagon: Small         140\n",
              "Pickup truck: Small          108\n",
              "Special purpose vehicle       62\n",
              "SPECIAL PURPOSE VEHICLE       52\n",
              "Station wagon: Mid-size       44\n",
              "Minivan                       42\n",
              "Van: Passenger                12\n",
              "Name: count, dtype: int64"
            ]
          },
          "metadata": {},
          "execution_count": 21
        }
      ]
    },
    {
      "cell_type": "markdown",
      "source": [
        "Можно объединить одинаковые классы, которые записаны по-разному (например, Special purpose vehicle и SPECIAL PURPOSE VEHICLE)"
      ],
      "metadata": {
        "id": "bZ8okOSoKJyt"
      }
    },
    {
      "cell_type": "code",
      "source": [
        "df['VEHICLE CLASS'] = df['VEHICLE CLASS'].str.lower().str.replace(' ', '').str.replace(':', '').str.replace('-', '')"
      ],
      "metadata": {
        "id": "FC3kEGegKl38"
      },
      "execution_count": 22,
      "outputs": []
    },
    {
      "cell_type": "markdown",
      "source": [
        "Параметр TRANSMISSION определяет тип коробки передач и кол-во передач, разобьем его на 2 части"
      ],
      "metadata": {
        "id": "oRa_NyogQs2N"
      }
    },
    {
      "cell_type": "code",
      "source": [
        "df['TRANSMISSION'].value_counts()"
      ],
      "metadata": {
        "colab": {
          "base_uri": "https://localhost:8080/"
        },
        "id": "18fhSFznZ3Kb",
        "outputId": "313457ff-9150-4eb0-da08-326aed44c5d3"
      },
      "execution_count": 23,
      "outputs": [
        {
          "output_type": "execute_result",
          "data": {
            "text/plain": [
              "TRANSMISSION\n",
              "A4      3519\n",
              "AS6     2834\n",
              "M6      2609\n",
              "M5      2104\n",
              "A6      1965\n",
              "AS8     1733\n",
              "A5      1420\n",
              "AS5      865\n",
              "AV       816\n",
              "A8       794\n",
              "AM7      689\n",
              "AS7      614\n",
              "A9       529\n",
              "AS10     335\n",
              "A7       278\n",
              "AS4      245\n",
              "AM6      214\n",
              "AM8      164\n",
              "A10      162\n",
              "AV7      143\n",
              "AV6      137\n",
              "M7       130\n",
              "AS9      110\n",
              "AV8       78\n",
              "AV10      25\n",
              "A3        24\n",
              "AV1        8\n",
              "AM5        6\n",
              "AM9        5\n",
              "M4         1\n",
              "Name: count, dtype: int64"
            ]
          },
          "metadata": {},
          "execution_count": 23
        }
      ]
    },
    {
      "cell_type": "code",
      "source": [
        "df['TRANSMISSION'] = df['TRANSMISSION'].apply(lambda x: x + '0' if x.endswith('V') else x)\n",
        "df[['TRANSMISSION TYPE', 'TRANSMISSION GEARS']] = df['TRANSMISSION'].str.split('(\\d+)', expand=True).iloc[:, :-1]\n",
        "df['TRANSMISSION GEARS'] = pd.to_numeric(df['TRANSMISSION GEARS'])\n",
        "df.drop([\"TRANSMISSION\"], axis=1, inplace=True)"
      ],
      "metadata": {
        "id": "2MIRv1QOQtRw"
      },
      "execution_count": 24,
      "outputs": []
    },
    {
      "cell_type": "markdown",
      "source": [
        "Кажется, что год выпуска слабо влияет на расход, можем удалить"
      ],
      "metadata": {
        "id": "SDSI9JGVb0HM"
      }
    },
    {
      "cell_type": "code",
      "source": [
        "sns.barplot(x='YEAR', y='FUEL CONSUMPTION', data=df);"
      ],
      "metadata": {
        "colab": {
          "base_uri": "https://localhost:8080/",
          "height": 0
        },
        "id": "tpBagASKbpPZ",
        "outputId": "62b63110-6cb8-4fe6-fcba-d91e2aa162da"
      },
      "execution_count": 25,
      "outputs": [
        {
          "output_type": "display_data",
          "data": {
            "text/plain": [
              "<Figure size 640x480 with 1 Axes>"
            ],
            "image/png": "[encoded data removed]"
          },
          "metadata": {}
        }
      ]
    },
    {
      "cell_type": "code",
      "source": [
        "df.drop([\"YEAR\"], axis=1, inplace=True)"
      ],
      "metadata": {
        "id": "2YFZgct1cGO2"
      },
      "execution_count": 26,
      "outputs": []
    },
    {
      "cell_type": "markdown",
      "source": [],
      "metadata": {
        "id": "qcrmOGVedW7r"
      }
    },
    {
      "cell_type": "code",
      "source": [
        "df[\"VEHICLE CLASS\"].value_counts()"
      ],
      "metadata": {
        "colab": {
          "base_uri": "https://localhost:8080/"
        },
        "id": "OISiGZJ6csQ4",
        "outputId": "9e0564b3-5d5f-470d-d95b-2a74a10321ac"
      },
      "execution_count": 27,
      "outputs": [
        {
          "output_type": "execute_result",
          "data": {
            "text/plain": [
              "VEHICLE CLASS\n",
              "compact                  3127\n",
              "midsize                  2960\n",
              "suv                      2640\n",
              "pickuptruckstandard      2204\n",
              "subcompact               2010\n",
              "suvsmall                 1756\n",
              "fullsize                 1503\n",
              "twoseater                1312\n",
              "suvstandard              1122\n",
              "minicompact               994\n",
              "stationwagonsmall         877\n",
              "pickuptrucksmall          511\n",
              "minivan                   408\n",
              "stationwagonmidsize       387\n",
              "vancargo                  332\n",
              "vanpassenger              299\n",
              "specialpurposevehicle     114\n",
              "Name: count, dtype: int64"
            ]
          },
          "metadata": {},
          "execution_count": 27
        }
      ]
    },
    {
      "cell_type": "markdown",
      "source": [
        "Преобразуем значения в числовые"
      ],
      "metadata": {
        "id": "g_dFzZEGdXcg"
      }
    },
    {
      "cell_type": "code",
      "source": [
        "df['TRANSMISSION TYPE'].replace(['A', 'AS', 'M', 'AV', 'AM'], [0, 1, 2, 3, 4], inplace=True)\n",
        "df['FUEL'].replace(['X', 'Z', 'E', 'D', 'N'], [0, 1, 2, 3, 4], inplace=True)\n",
        "df['VEHICLE CLASS'].replace(['compact', 'midsize', 'suv', 'pickuptruckstandard', 'subcompact',\n",
        "                             'suvsmall', 'fullsize', 'twoseater', 'suvstandard', 'minicompact',\n",
        "                             'stationwagonsmall', 'pickuptrucksmall', 'minivan', 'stationwagonmidsize',\n",
        "                             'vancargo', 'vanpassenger', 'specialpurposevehicle'],\n",
        "                              [0, 1, 2, 3, 4, 5, 6, 7, 8, 9, 10, 11, 12, 13, 14, 15, 16],\n",
        "                            inplace=True)"
      ],
      "metadata": {
        "id": "Rnn9b9yMdVwq"
      },
      "execution_count": 28,
      "outputs": []
    },
    {
      "cell_type": "markdown",
      "source": [
        "Матрица корреляции признаков"
      ],
      "metadata": {
        "id": "9iIw9nZa2XZo"
      }
    },
    {
      "cell_type": "code",
      "source": [
        "sns.heatmap(df.corr(), annot=True, cmap='RdYlGn')\n",
        "fig = plt.gcf()\n",
        "fig.set_size_inches(10, 5)\n",
        "plt.show()"
      ],
      "metadata": {
        "colab": {
          "base_uri": "https://localhost:8080/",
          "height": 0
        },
        "id": "4MqGuLAf2WFd",
        "outputId": "a7553c05-7a26-4396-a84f-4b81a585e509"
      },
      "execution_count": 29,
      "outputs": [
        {
          "output_type": "display_data",
          "data": {
            "text/plain": [
              "<Figure size 1000x500 with 2 Axes>"
            ],
            "image/png": "[encoded data removed]"
          },
          "metadata": {}
        }
      ]
    },
    {
      "cell_type": "markdown",
      "source": [
        "По матрице видно, что целевой параметр расхода топлива наиболее сильно кореллирует с объемом двигателя"
      ],
      "metadata": {
        "id": "ViQe8PHDho1A"
      }
    },
    {
      "cell_type": "markdown",
      "source": [
        "Так же CYLINDERS и ENGINE SIZE сильно кореллированы, можно удалить CYLINDERS"
      ],
      "metadata": {
        "id": "0AumYjeBfwub"
      }
    },
    {
      "cell_type": "code",
      "source": [
        "df.drop(\"CYLINDERS\", axis=1, inplace=True)"
      ],
      "metadata": {
        "id": "j2U-0fxmf9-l"
      },
      "execution_count": 30,
      "outputs": []
    },
    {
      "cell_type": "markdown",
      "source": [
        "Преобразованный датасет"
      ],
      "metadata": {
        "id": "bEMT1T5wfNhE"
      }
    },
    {
      "cell_type": "code",
      "source": [
        "df.head()"
      ],
      "metadata": {
        "colab": {
          "base_uri": "https://localhost:8080/",
          "height": 0
        },
        "id": "ZO_pHc0CfN4a",
        "outputId": "45395c76-ba9c-4b9a-8f4f-3f34a9c9f41a"
      },
      "execution_count": 31,
      "outputs": [
        {
          "output_type": "execute_result",
          "data": {
            "text/plain": [
              "   VEHICLE CLASS  ENGINE SIZE  FUEL  FUEL CONSUMPTION  TRANSMISSION TYPE  \\\n",
              "0              0          1.6     0               9.2                  0   \n",
              "1              0          1.6     0               8.5                  2   \n",
              "2              1          3.2     1              12.2                  1   \n",
              "3              1          3.5     1              13.4                  0   \n",
              "4              4          1.8     0              10.0                  0   \n",
              "\n",
              "   TRANSMISSION GEARS  \n",
              "0                   4  \n",
              "1                   5  \n",
              "2                   5  \n",
              "3                   4  \n",
              "4                   4  "
            ],
            "text/html": [
              "\n",
              "  <div id=\"df-f05477e2-4438-414a-b899-e3a30c2d44d9\" class=\"colab-df-container\">\n",
              "    <div>\n",
              "<style scoped>\n",
              "    .dataframe tbody tr th:only-of-type {\n",
              "        vertical-align: middle;\n",
              "    }\n",
              "\n",
              "    .dataframe tbody tr th {\n",
              "        vertical-align: top;\n",
              "    }\n",
              "\n",
              "    .dataframe thead th {\n",
              "        text-align: right;\n",
              "    }\n",
              "</style>\n",
              "<table border=\"1\" class=\"dataframe\">\n",
              "  <thead>\n",
              "    <tr style=\"text-align: right;\">\n",
              "      <th></th>\n",
              "      <th>VEHICLE CLASS</th>\n",
              "      <th>ENGINE SIZE</th>\n",
              "      <th>FUEL</th>\n",
              "      <th>FUEL CONSUMPTION</th>\n",
              "      <th>TRANSMISSION TYPE</th>\n",
              "      <th>TRANSMISSION GEARS</th>\n",
              "    </tr>\n",
              "  </thead>\n",
              "  <tbody>\n",
              "    <tr>\n",
              "      <th>0</th>\n",
              "      <td>0</td>\n",
              "      <td>1.6</td>\n",
              "      <td>0</td>\n",
              "      <td>9.2</td>\n",
              "      <td>0</td>\n",
              "      <td>4</td>\n",
              "    </tr>\n",
              "    <tr>\n",
              "      <th>1</th>\n",
              "      <td>0</td>\n",
              "      <td>1.6</td>\n",
              "      <td>0</td>\n",
              "      <td>8.5</td>\n",
              "      <td>2</td>\n",
              "      <td>5</td>\n",
              "    </tr>\n",
              "    <tr>\n",
              "      <th>2</th>\n",
              "      <td>1</td>\n",
              "      <td>3.2</td>\n",
              "      <td>1</td>\n",
              "      <td>12.2</td>\n",
              "      <td>1</td>\n",
              "      <td>5</td>\n",
              "    </tr>\n",
              "    <tr>\n",
              "      <th>3</th>\n",
              "      <td>1</td>\n",
              "      <td>3.5</td>\n",
              "      <td>1</td>\n",
              "      <td>13.4</td>\n",
              "      <td>0</td>\n",
              "      <td>4</td>\n",
              "    </tr>\n",
              "    <tr>\n",
              "      <th>4</th>\n",
              "      <td>4</td>\n",
              "      <td>1.8</td>\n",
              "      <td>0</td>\n",
              "      <td>10.0</td>\n",
              "      <td>0</td>\n",
              "      <td>4</td>\n",
              "    </tr>\n",
              "  </tbody>\n",
              "</table>\n",
              "</div>\n",
              "    <div class=\"colab-df-buttons\">\n",
              "\n",
              "  <div class=\"colab-df-container\">\n",
              "    <button class=\"colab-df-convert\" onclick=\"convertToInteractive('df-f05477e2-4438-414a-b899-e3a30c2d44d9')\"\n",
              "            title=\"Convert this dataframe to an interactive table.\"\n",
              "            style=\"display:none;\">\n",
              "\n",
              "  <svg xmlns=\"http://www.w3.org/2000/svg\" height=\"24px\" viewBox=\"0 -960 960 960\">\n",
              "    <path d=\"M120-120v-720h720v720H120Zm60-500h600v-160H180v160Zm220 220h160v-160H400v160Zm0 220h160v-160H400v160ZM180-400h160v-160H180v160Zm440 0h160v-160H620v160ZM180-180h160v-160H180v160Zm440 0h160v-160H620v160Z\"/>\n",
              "  </svg>\n",
              "    </button>\n",
              "\n",
              "  <style>\n",
              "    .colab-df-container {\n",
              "      display:flex;\n",
              "      gap: 12px;\n",
              "    }\n",
              "\n",
              "    .colab-df-convert {\n",
              "      background-color: #E8F0FE;\n",
              "      border: none;\n",
              "      border-radius: 50%;\n",
              "      cursor: pointer;\n",
              "      display: none;\n",
              "      fill: #1967D2;\n",
              "      height: 32px;\n",
              "      padding: 0 0 0 0;\n",
              "      width: 32px;\n",
              "    }\n",
              "\n",
              "    .colab-df-convert:hover {\n",
              "      background-color: #E2EBFA;\n",
              "      box-shadow: 0px 1px 2px rgba(60, 64, 67, 0.3), 0px 1px 3px 1px rgba(60, 64, 67, 0.15);\n",
              "      fill: #174EA6;\n",
              "    }\n",
              "\n",
              "    .colab-df-buttons div {\n",
              "      margin-bottom: 4px;\n",
              "    }\n",
              "\n",
              "    [theme=dark] .colab-df-convert {\n",
              "      background-color: #3B4455;\n",
              "      fill: #D2E3FC;\n",
              "    }\n",
              "\n",
              "    [theme=dark] .colab-df-convert:hover {\n",
              "      background-color: #434B5C;\n",
              "      box-shadow: 0px 1px 3px 1px rgba(0, 0, 0, 0.15);\n",
              "      filter: drop-shadow(0px 1px 2px rgba(0, 0, 0, 0.3));\n",
              "      fill: #FFFFFF;\n",
              "    }\n",
              "  </style>\n",
              "\n",
              "    <script>\n",
              "      const buttonEl =\n",
              "        document.querySelector('#df-f05477e2-4438-414a-b899-e3a30c2d44d9 button.colab-df-convert');\n",
              "      buttonEl.style.display =\n",
              "        google.colab.kernel.accessAllowed ? 'block' : 'none';\n",
              "\n",
              "      async function convertToInteractive(key) {\n",
              "        const element = document.querySelector('#df-f05477e2-4438-414a-b899-e3a30c2d44d9');\n",
              "        const dataTable =\n",
              "          await google.colab.kernel.invokeFunction('convertToInteractive',\n",
              "                                                    [key], {});\n",
              "        if (!dataTable) return;\n",
              "\n",
              "        const docLinkHtml = 'Like what you see? Visit the ' +\n",
              "          '<a target=\"_blank\" href=https://colab.research.google.com/notebooks/data_table.ipynb>data table notebook</a>'\n",
              "          + ' to learn more about interactive tables.';\n",
              "        element.innerHTML = '';\n",
              "        dataTable['output_type'] = 'display_data';\n",
              "        await google.colab.output.renderOutput(dataTable, element);\n",
              "        const docLink = document.createElement('div');\n",
              "        docLink.innerHTML = docLinkHtml;\n",
              "        element.appendChild(docLink);\n",
              "      }\n",
              "    </script>\n",
              "  </div>\n",
              "\n",
              "\n",
              "<div id=\"df-608a915f-248e-43f5-af8a-7f19351cd572\">\n",
              "  <button class=\"colab-df-quickchart\" onclick=\"quickchart('df-608a915f-248e-43f5-af8a-7f19351cd572')\"\n",
              "            title=\"Suggest charts\"\n",
              "            style=\"display:none;\">\n",
              "\n",
              "<svg xmlns=\"http://www.w3.org/2000/svg\" height=\"24px\"viewBox=\"0 0 24 24\"\n",
              "     width=\"24px\">\n",
              "    <g>\n",
              "        <path d=\"M19 3H5c-1.1 0-2 .9-2 2v14c0 1.1.9 2 2 2h14c1.1 0 2-.9 2-2V5c0-1.1-.9-2-2-2zM9 17H7v-7h2v7zm4 0h-2V7h2v10zm4 0h-2v-4h2v4z\"/>\n",
              "    </g>\n",
              "</svg>\n",
              "  </button>\n",
              "\n",
              "<style>\n",
              "  .colab-df-quickchart {\n",
              "      --bg-color: #E8F0FE;\n",
              "      --fill-color: #1967D2;\n",
              "      --hover-bg-color: #E2EBFA;\n",
              "      --hover-fill-color: #174EA6;\n",
              "      --disabled-fill-color: #AAA;\n",
              "      --disabled-bg-color: #DDD;\n",
              "  }\n",
              "\n",
              "  [theme=dark] .colab-df-quickchart {\n",
              "      --bg-color: #3B4455;\n",
              "      --fill-color: #D2E3FC;\n",
              "      --hover-bg-color: #434B5C;\n",
              "      --hover-fill-color: #FFFFFF;\n",
              "      --disabled-bg-color: #3B4455;\n",
              "      --disabled-fill-color: #666;\n",
              "  }\n",
              "\n",
              "  .colab-df-quickchart {\n",
              "    background-color: var(--bg-color);\n",
              "    border: none;\n",
              "    border-radius: 50%;\n",
              "    cursor: pointer;\n",
              "    display: none;\n",
              "    fill: var(--fill-color);\n",
              "    height: 32px;\n",
              "    padding: 0;\n",
              "    width: 32px;\n",
              "  }\n",
              "\n",
              "  .colab-df-quickchart:hover {\n",
              "    background-color: var(--hover-bg-color);\n",
              "    box-shadow: 0 1px 2px rgba(60, 64, 67, 0.3), 0 1px 3px 1px rgba(60, 64, 67, 0.15);\n",
              "    fill: var(--button-hover-fill-color);\n",
              "  }\n",
              "\n",
              "  .colab-df-quickchart-complete:disabled,\n",
              "  .colab-df-quickchart-complete:disabled:hover {\n",
              "    background-color: var(--disabled-bg-color);\n",
              "    fill: var(--disabled-fill-color);\n",
              "    box-shadow: none;\n",
              "  }\n",
              "\n",
              "  .colab-df-spinner {\n",
              "    border: 2px solid var(--fill-color);\n",
              "    border-color: transparent;\n",
              "    border-bottom-color: var(--fill-color);\n",
              "    animation:\n",
              "      spin 1s steps(1) infinite;\n",
              "  }\n",
              "\n",
              "  @keyframes spin {\n",
              "    0% {\n",
              "      border-color: transparent;\n",
              "      border-bottom-color: var(--fill-color);\n",
              "      border-left-color: var(--fill-color);\n",
              "    }\n",
              "    20% {\n",
              "      border-color: transparent;\n",
              "      border-left-color: var(--fill-color);\n",
              "      border-top-color: var(--fill-color);\n",
              "    }\n",
              "    30% {\n",
              "      border-color: transparent;\n",
              "      border-left-color: var(--fill-color);\n",
              "      border-top-color: var(--fill-color);\n",
              "      border-right-color: var(--fill-color);\n",
              "    }\n",
              "    40% {\n",
              "      border-color: transparent;\n",
              "      border-right-color: var(--fill-color);\n",
              "      border-top-color: var(--fill-color);\n",
              "    }\n",
              "    60% {\n",
              "      border-color: transparent;\n",
              "      border-right-color: var(--fill-color);\n",
              "    }\n",
              "    80% {\n",
              "      border-color: transparent;\n",
              "      border-right-color: var(--fill-color);\n",
              "      border-bottom-color: var(--fill-color);\n",
              "    }\n",
              "    90% {\n",
              "      border-color: transparent;\n",
              "      border-bottom-color: var(--fill-color);\n",
              "    }\n",
              "  }\n",
              "</style>\n",
              "\n",
              "  <script>\n",
              "    async function quickchart(key) {\n",
              "      const quickchartButtonEl =\n",
              "        document.querySelector('#' + key + ' button');\n",
              "      quickchartButtonEl.disabled = true;  // To prevent multiple clicks.\n",
              "      quickchartButtonEl.classList.add('colab-df-spinner');\n",
              "      try {\n",
              "        const charts = await google.colab.kernel.invokeFunction(\n",
              "            'suggestCharts', [key], {});\n",
              "      } catch (error) {\n",
              "        console.error('Error during call to suggestCharts:', error);\n",
              "      }\n",
              "      quickchartButtonEl.classList.remove('colab-df-spinner');\n",
              "      quickchartButtonEl.classList.add('colab-df-quickchart-complete');\n",
              "    }\n",
              "    (() => {\n",
              "      let quickchartButtonEl =\n",
              "        document.querySelector('#df-608a915f-248e-43f5-af8a-7f19351cd572 button');\n",
              "      quickchartButtonEl.style.display =\n",
              "        google.colab.kernel.accessAllowed ? 'block' : 'none';\n",
              "    })();\n",
              "  </script>\n",
              "</div>\n",
              "    </div>\n",
              "  </div>\n"
            ],
            "application/vnd.google.colaboratory.intrinsic+json": {
              "type": "dataframe",
              "variable_name": "df",
              "summary": "{\n  \"name\": \"df\",\n  \"rows\": 22556,\n  \"fields\": [\n    {\n      \"column\": \"VEHICLE CLASS\",\n      \"properties\": {\n        \"dtype\": \"number\",\n        \"std\": 3,\n        \"min\": 0,\n        \"max\": 16,\n        \"num_unique_values\": 17,\n        \"samples\": [\n          0,\n          1,\n          7\n        ],\n        \"semantic_type\": \"\",\n        \"description\": \"\"\n      }\n    },\n    {\n      \"column\": \"ENGINE SIZE\",\n      \"properties\": {\n        \"dtype\": \"number\",\n        \"std\": 1.3354251755787259,\n        \"min\": 0.8,\n        \"max\": 8.4,\n        \"num_unique_values\": 63,\n        \"samples\": [\n          2.1,\n          1.4,\n          1.6\n        ],\n        \"semantic_type\": \"\",\n        \"description\": \"\"\n      }\n    },\n    {\n      \"column\": \"FUEL\",\n      \"properties\": {\n        \"dtype\": \"number\",\n        \"std\": 0,\n        \"min\": 0,\n        \"max\": 4,\n        \"num_unique_values\": 5,\n        \"samples\": [\n          1,\n          3,\n          2\n        ],\n        \"semantic_type\": \"\",\n        \"description\": \"\"\n      }\n    },\n    {\n      \"column\": \"FUEL CONSUMPTION\",\n      \"properties\": {\n        \"dtype\": \"number\",\n        \"std\": 3.500998820187845,\n        \"min\": 3.5,\n        \"max\": 30.6,\n        \"num_unique_values\": 228,\n        \"samples\": [\n          20.0,\n          12.6,\n          11.4\n        ],\n        \"semantic_type\": \"\",\n        \"description\": \"\"\n      }\n    },\n    {\n      \"column\": \"TRANSMISSION TYPE\",\n      \"properties\": {\n        \"dtype\": \"number\",\n        \"std\": 1,\n        \"min\": 0,\n        \"max\": 4,\n        \"num_unique_values\": 5,\n        \"samples\": [\n          2,\n          4,\n          1\n        ],\n        \"semantic_type\": \"\",\n        \"description\": \"\"\n      }\n    },\n    {\n      \"column\": \"TRANSMISSION GEARS\",\n      \"properties\": {\n        \"dtype\": \"number\",\n        \"std\": 1,\n        \"min\": 0,\n        \"max\": 10,\n        \"num_unique_values\": 10,\n        \"samples\": [\n          10,\n          5,\n          7\n        ],\n        \"semantic_type\": \"\",\n        \"description\": \"\"\n      }\n    }\n  ]\n}"
            }
          },
          "metadata": {},
          "execution_count": 31
        }
      ]
    },
    {
      "cell_type": "markdown",
      "source": [
        "## Реализация Bagging и AdaBoost\n"
      ],
      "metadata": {
        "id": "F6t7QfBpoMKt"
      }
    },
    {
      "cell_type": "code",
      "source": [
        "from sklearn.base import BaseEstimator, RegressorMixin, clone\n",
        "from sklearn.tree import DecisionTreeRegressor\n",
        "from sklearn.utils import resample\n",
        "import numpy as np\n",
        "\n",
        "class SimpleBaggingRegressor(BaseEstimator, RegressorMixin):\n",
        "    def __init__(self, base_estimator=None, n_estimators=10):\n",
        "        self.base_estimator = base_estimator if base_estimator is not None else DecisionTreeRegressor()\n",
        "        self.n_estimators = n_estimators\n",
        "\n",
        "    def fit(self, X, y):\n",
        "        self.estimators_ = []\n",
        "        for _ in range(self.n_estimators):\n",
        "            estimator = clone(self.base_estimator)\n",
        "            X_sample, y_sample = resample(X, y)\n",
        "            estimator.fit(X_sample, y_sample)\n",
        "            self.estimators_.append(estimator)\n",
        "        return self\n",
        "\n",
        "    def predict(self, X):\n",
        "        predictions = np.array([estimator.predict(X) for estimator in self.estimators_])\n",
        "        averaged_predictions = np.mean(predictions, axis=0)\n",
        "        return averaged_predictions\n",
        "\n",
        "\n",
        "class SimpleAdaBoostRegressor(BaseEstimator, RegressorMixin):\n",
        "    def __init__(self, base_estimator=None, n_estimators=50, learning_rate=1.0):\n",
        "        self.base_estimator = base_estimator if base_estimator is not None else DecisionTreeRegressor(max_depth=3)\n",
        "        self.n_estimators = n_estimators\n",
        "        self.learning_rate = learning_rate\n",
        "\n",
        "    def predict(self, x):\n",
        "        return np.around(sum(self.alphas[i] * self.estimators_[i].predict(x) for i in range(self.n_estimators)))\n",
        "\n",
        "    def fit(self, x, y):\n",
        "        self.estimators_ = []\n",
        "        self.alphas = [0 for _ in range(self.n_estimators)]\n",
        "        weight = [1.0 for _ in y]\n",
        "        for i in range(self.n_estimators):\n",
        "            est = clone(self.base_estimator)\n",
        "            est.fit(x, y, weight)\n",
        "            error = 1 - est.score(x, y, weight)\n",
        "            self.alphas[i] = np.log((1 - error) / error)\n",
        "            weight = weight * np.exp(self.alphas[i] * (y != est.predict(x)))\n",
        "            weight = weight / sum(weight) * len(y)\n",
        "            self.estimators_.append(est)\n",
        "        self.alphas /= sum(self.alphas)"
      ],
      "metadata": {
        "id": "bNiL9fc3aIt4"
      },
      "execution_count": 94,
      "outputs": []
    },
    {
      "cell_type": "markdown",
      "source": [
        "## Обучение моделей"
      ],
      "metadata": {
        "id": "NEnA9y_ztg14"
      }
    },
    {
      "cell_type": "code",
      "source": [
        "!pip install optuna\n",
        "!pip install optuna-integration"
      ],
      "metadata": {
        "id": "3PjZlebT6O56"
      },
      "execution_count": null,
      "outputs": []
    },
    {
      "cell_type": "code",
      "source": [
        "!pip install  xgboost lightgbm catboost"
      ],
      "metadata": {
        "id": "iGLI_FpV5Vsu"
      },
      "execution_count": null,
      "outputs": []
    },
    {
      "cell_type": "code",
      "source": [
        "import pathlib\n",
        "import optuna as opt\n",
        "from sklearn.model_selection import KFold, cross_validate\n",
        "\n",
        "\n",
        "path = pathlib.Path(\"result.csv\")\n",
        "X, y = df.drop(\"FUEL CONSUMPTION\", axis=1), df[\"FUEL CONSUMPTION\"]\n",
        "seed = 777\n",
        "\n",
        "\n",
        "def train_and_store(estimator, params):\n",
        "    model = opt.integration.OptunaSearchCV(\n",
        "        estimator,\n",
        "        params,\n",
        "        scoring=\"r2\",\n",
        "        n_jobs=-1,\n",
        "        random_state=seed,\n",
        "        study=opt.create_study(sampler=opt.samplers.BruteForceSampler(seed), direction=\"maximize\"),\n",
        "    )\n",
        "\n",
        "    res = cross_validate(\n",
        "        model,\n",
        "        X,\n",
        "        y,\n",
        "        cv=KFold(shuffle=True, random_state=seed),\n",
        "        scoring=[\"r2\", \"neg_mean_absolute_error\"],\n",
        "        n_jobs=-1,\n",
        "        return_estimator=True,\n",
        "    )\n",
        "\n",
        "    print(estimator.__class__.__name__)\n",
        "    for fold_i, estimator_in_fold in enumerate(res[\"estimator\"], start=1):\n",
        "        print(f\"Best params #{fold_i}:\", estimator_in_fold.best_params_)\n",
        "    print()\n",
        "\n",
        "    res = pd.DataFrame(res).rename(\n",
        "        columns={\"estimator\": \"Regressor\", \"fit_time\": \"Fit time, s\", \"score_time\": \"Score time, s\", \"test_r2\": \"R2/test\"}\n",
        "    )\n",
        "    res[\"Regressor\"] = estimator.__class__.__name__.removesuffix(\"Regressor\")\n",
        "    res[\"MAE/test\"] = -res[\"test_neg_mean_absolute_error\"]\n",
        "    res = res.drop(columns=[\"test_neg_mean_absolute_error\"])\n",
        "    res.to_csv(path, mode=\"a\", header=not path.exists())"
      ],
      "metadata": {
        "id": "d-LoJJdQ6xuh"
      },
      "execution_count": 45,
      "outputs": []
    },
    {
      "cell_type": "code",
      "source": [
        "from sklearn.ensemble import RandomForestRegressor, BaggingRegressor, AdaBoostRegressor, GradientBoostingRegressor, HistGradientBoostingRegressor\n",
        "from xgboost import XGBRegressor\n",
        "from lightgbm import LGBMRegressor\n",
        "from catboost import CatBoostRegressor\n",
        "\n",
        "\n",
        "dist = opt.distributions.CategoricalDistribution\n",
        "boosting_params = {\n",
        "    \"n_estimators\": dist([10, 50, 150]),\n",
        "    \"learning_rate\": dist([0.05, 0.1, 0.3, 1])\n",
        "}\n",
        "bagging_params = {\n",
        "    \"n_estimators\": dist([10, 50, 150])\n",
        "}\n",
        "hist_gb_params = {\n",
        "    \"learning_rate\": dist([0.05, 0.1, 0.3, 1])\n",
        "}\n",
        "\n",
        "train_and_store(BaggingRegressor(random_state=seed), bagging_params)\n",
        "train_and_store(AdaBoostRegressor(random_state=seed), boosting_params)\n",
        "train_and_store(RandomForestRegressor(random_state=seed), bagging_params)\n",
        "train_and_store(GradientBoostingRegressor(random_state=seed), boosting_params)\n",
        "train_and_store(HistGradientBoostingRegressor(random_state=seed), hist_gb_params)\n",
        "train_and_store(XGBRegressor(random_state=seed), boosting_params)\n",
        "train_and_store(LGBMRegressor(random_state=seed), boosting_params)\n",
        "train_and_store(CatBoostRegressor(random_state=seed), boosting_params)\n",
        "train_and_store(SimpleBaggingRegressor(), bagging_params)\n",
        "train_and_store(SimpleAdaBoostRegressor(), boosting_params)"
      ],
      "metadata": {
        "id": "QQV1P0lKQ-Gp"
      },
      "execution_count": null,
      "outputs": []
    },
    {
      "cell_type": "markdown",
      "source": [
        "## Сравнение моделей"
      ],
      "metadata": {
        "id": "H1amqLrktoYK"
      }
    },
    {
      "cell_type": "code",
      "source": [
        "results = pd.read_csv('result.csv')"
      ],
      "metadata": {
        "id": "Tz46GAS4jUCA"
      },
      "execution_count": 96,
      "outputs": []
    },
    {
      "cell_type": "code",
      "source": [
        "fig, axs = plt.subplots(ncols=2, nrows=2, figsize=(15, 10))\n",
        "for y, ax in zip([\"Fit time, s\", \"Score time, s\", \"R2/test\", \"MAE/test\"], axs.flatten()):\n",
        "    sns.barplot(results[[\"Regressor\", y]], x=\"Regressor\", y=y, capsize=0.3, ax=ax)\n",
        "    ax.tick_params(axis=\"x\", rotation=66)\n",
        "    ax.set_xlabel(None)\n",
        "fig.tight_layout()\n",
        "plt.show()"
      ],
      "metadata": {
        "colab": {
          "base_uri": "https://localhost:8080/",
          "height": 463
        },
        "id": "AqD4tjOcj3sa",
        "outputId": "2e694787-75a6-46ed-a656-140a9afc3650"
      },
      "execution_count": 103,
      "outputs": [
        {
          "output_type": "display_data",
          "data": {
            "text/plain": [
              "<Figure size 1500x1000 with 4 Axes>"
            ],
            "image/png": "[encoded data removed]"
          },
          "metadata": {}
        }
      ]
    },
    {
      "cell_type": "markdown",
      "source": [
        "Как видно по графикам, наиболее высокую точность показали SimpleBagging, Bagging, RandomForest, а самыми эффективными оказались XGB, LGBM."
      ],
      "metadata": {
        "id": "gGxah-JeliXv"
      }
    }
  ]
}